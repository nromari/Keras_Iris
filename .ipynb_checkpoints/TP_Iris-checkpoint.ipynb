{
 "cells": [
  {
   "cell_type": "markdown",
   "metadata": {},
   "source": [
    "# Classification des données Iris par Keras"
   ]
  },
  {
   "cell_type": "markdown",
   "metadata": {},
   "source": [
    "## Environnement"
   ]
  },
  {
   "cell_type": "code",
   "execution_count": 1,
   "metadata": {},
   "outputs": [],
   "source": [
    "from pandas import read_csv\n",
    "import numpy as np\n",
    "import os\n",
    "import matplotlib.pyplot as plt\n",
    "import seaborn as sns"
   ]
  },
  {
   "cell_type": "markdown",
   "metadata": {},
   "source": [
    "## Les données"
   ]
  },
  {
   "cell_type": "markdown",
   "metadata": {},
   "source": [
    "### Import"
   ]
  },
  {
   "cell_type": "code",
   "execution_count": 2,
   "metadata": {},
   "outputs": [],
   "source": [
    "data = read_csv(\"/home/noura/Projets/Keras_Iris/Datas/iris.data\", \n",
    "                names = ['sepal length', 'sepal width', 'petal length', 'petal width', 'species'])"
   ]
  },
  {
   "cell_type": "markdown",
   "metadata": {},
   "source": [
    "### Exploration"
   ]
  },
  {
   "cell_type": "code",
   "execution_count": 3,
   "metadata": {},
   "outputs": [
    {
     "data": {
      "text/html": [
       "<div>\n",
       "<style scoped>\n",
       "    .dataframe tbody tr th:only-of-type {\n",
       "        vertical-align: middle;\n",
       "    }\n",
       "\n",
       "    .dataframe tbody tr th {\n",
       "        vertical-align: top;\n",
       "    }\n",
       "\n",
       "    .dataframe thead th {\n",
       "        text-align: right;\n",
       "    }\n",
       "</style>\n",
       "<table border=\"1\" class=\"dataframe\">\n",
       "  <thead>\n",
       "    <tr style=\"text-align: right;\">\n",
       "      <th></th>\n",
       "      <th>sepal length</th>\n",
       "      <th>sepal width</th>\n",
       "      <th>petal length</th>\n",
       "      <th>petal width</th>\n",
       "      <th>species</th>\n",
       "    </tr>\n",
       "  </thead>\n",
       "  <tbody>\n",
       "    <tr>\n",
       "      <td>0</td>\n",
       "      <td>5.1</td>\n",
       "      <td>3.5</td>\n",
       "      <td>1.4</td>\n",
       "      <td>0.2</td>\n",
       "      <td>Iris-setosa</td>\n",
       "    </tr>\n",
       "    <tr>\n",
       "      <td>1</td>\n",
       "      <td>4.9</td>\n",
       "      <td>3.0</td>\n",
       "      <td>1.4</td>\n",
       "      <td>0.2</td>\n",
       "      <td>Iris-setosa</td>\n",
       "    </tr>\n",
       "    <tr>\n",
       "      <td>2</td>\n",
       "      <td>4.7</td>\n",
       "      <td>3.2</td>\n",
       "      <td>1.3</td>\n",
       "      <td>0.2</td>\n",
       "      <td>Iris-setosa</td>\n",
       "    </tr>\n",
       "    <tr>\n",
       "      <td>3</td>\n",
       "      <td>4.6</td>\n",
       "      <td>3.1</td>\n",
       "      <td>1.5</td>\n",
       "      <td>0.2</td>\n",
       "      <td>Iris-setosa</td>\n",
       "    </tr>\n",
       "    <tr>\n",
       "      <td>4</td>\n",
       "      <td>5.0</td>\n",
       "      <td>3.6</td>\n",
       "      <td>1.4</td>\n",
       "      <td>0.2</td>\n",
       "      <td>Iris-setosa</td>\n",
       "    </tr>\n",
       "    <tr>\n",
       "      <td>...</td>\n",
       "      <td>...</td>\n",
       "      <td>...</td>\n",
       "      <td>...</td>\n",
       "      <td>...</td>\n",
       "      <td>...</td>\n",
       "    </tr>\n",
       "    <tr>\n",
       "      <td>145</td>\n",
       "      <td>6.7</td>\n",
       "      <td>3.0</td>\n",
       "      <td>5.2</td>\n",
       "      <td>2.3</td>\n",
       "      <td>Iris-virginica</td>\n",
       "    </tr>\n",
       "    <tr>\n",
       "      <td>146</td>\n",
       "      <td>6.3</td>\n",
       "      <td>2.5</td>\n",
       "      <td>5.0</td>\n",
       "      <td>1.9</td>\n",
       "      <td>Iris-virginica</td>\n",
       "    </tr>\n",
       "    <tr>\n",
       "      <td>147</td>\n",
       "      <td>6.5</td>\n",
       "      <td>3.0</td>\n",
       "      <td>5.2</td>\n",
       "      <td>2.0</td>\n",
       "      <td>Iris-virginica</td>\n",
       "    </tr>\n",
       "    <tr>\n",
       "      <td>148</td>\n",
       "      <td>6.2</td>\n",
       "      <td>3.4</td>\n",
       "      <td>5.4</td>\n",
       "      <td>2.3</td>\n",
       "      <td>Iris-virginica</td>\n",
       "    </tr>\n",
       "    <tr>\n",
       "      <td>149</td>\n",
       "      <td>5.9</td>\n",
       "      <td>3.0</td>\n",
       "      <td>5.1</td>\n",
       "      <td>1.8</td>\n",
       "      <td>Iris-virginica</td>\n",
       "    </tr>\n",
       "  </tbody>\n",
       "</table>\n",
       "<p>150 rows × 5 columns</p>\n",
       "</div>"
      ],
      "text/plain": [
       "     sepal length  sepal width  petal length  petal width         species\n",
       "0             5.1          3.5           1.4          0.2     Iris-setosa\n",
       "1             4.9          3.0           1.4          0.2     Iris-setosa\n",
       "2             4.7          3.2           1.3          0.2     Iris-setosa\n",
       "3             4.6          3.1           1.5          0.2     Iris-setosa\n",
       "4             5.0          3.6           1.4          0.2     Iris-setosa\n",
       "..            ...          ...           ...          ...             ...\n",
       "145           6.7          3.0           5.2          2.3  Iris-virginica\n",
       "146           6.3          2.5           5.0          1.9  Iris-virginica\n",
       "147           6.5          3.0           5.2          2.0  Iris-virginica\n",
       "148           6.2          3.4           5.4          2.3  Iris-virginica\n",
       "149           5.9          3.0           5.1          1.8  Iris-virginica\n",
       "\n",
       "[150 rows x 5 columns]"
      ]
     },
     "execution_count": 3,
     "metadata": {},
     "output_type": "execute_result"
    }
   ],
   "source": [
    "data"
   ]
  },
  {
   "cell_type": "code",
   "execution_count": 4,
   "metadata": {},
   "outputs": [
    {
     "data": {
      "text/html": [
       "<div>\n",
       "<style scoped>\n",
       "    .dataframe tbody tr th:only-of-type {\n",
       "        vertical-align: middle;\n",
       "    }\n",
       "\n",
       "    .dataframe tbody tr th {\n",
       "        vertical-align: top;\n",
       "    }\n",
       "\n",
       "    .dataframe thead th {\n",
       "        text-align: right;\n",
       "    }\n",
       "</style>\n",
       "<table border=\"1\" class=\"dataframe\">\n",
       "  <thead>\n",
       "    <tr style=\"text-align: right;\">\n",
       "      <th></th>\n",
       "      <th>sepal length</th>\n",
       "      <th>sepal width</th>\n",
       "      <th>petal length</th>\n",
       "      <th>petal width</th>\n",
       "    </tr>\n",
       "  </thead>\n",
       "  <tbody>\n",
       "    <tr>\n",
       "      <td>count</td>\n",
       "      <td>150.000000</td>\n",
       "      <td>150.000000</td>\n",
       "      <td>150.000000</td>\n",
       "      <td>150.000000</td>\n",
       "    </tr>\n",
       "    <tr>\n",
       "      <td>mean</td>\n",
       "      <td>5.843333</td>\n",
       "      <td>3.054000</td>\n",
       "      <td>3.758667</td>\n",
       "      <td>1.198667</td>\n",
       "    </tr>\n",
       "    <tr>\n",
       "      <td>std</td>\n",
       "      <td>0.828066</td>\n",
       "      <td>0.433594</td>\n",
       "      <td>1.764420</td>\n",
       "      <td>0.763161</td>\n",
       "    </tr>\n",
       "    <tr>\n",
       "      <td>min</td>\n",
       "      <td>4.300000</td>\n",
       "      <td>2.000000</td>\n",
       "      <td>1.000000</td>\n",
       "      <td>0.100000</td>\n",
       "    </tr>\n",
       "    <tr>\n",
       "      <td>25%</td>\n",
       "      <td>5.100000</td>\n",
       "      <td>2.800000</td>\n",
       "      <td>1.600000</td>\n",
       "      <td>0.300000</td>\n",
       "    </tr>\n",
       "    <tr>\n",
       "      <td>50%</td>\n",
       "      <td>5.800000</td>\n",
       "      <td>3.000000</td>\n",
       "      <td>4.350000</td>\n",
       "      <td>1.300000</td>\n",
       "    </tr>\n",
       "    <tr>\n",
       "      <td>75%</td>\n",
       "      <td>6.400000</td>\n",
       "      <td>3.300000</td>\n",
       "      <td>5.100000</td>\n",
       "      <td>1.800000</td>\n",
       "    </tr>\n",
       "    <tr>\n",
       "      <td>max</td>\n",
       "      <td>7.900000</td>\n",
       "      <td>4.400000</td>\n",
       "      <td>6.900000</td>\n",
       "      <td>2.500000</td>\n",
       "    </tr>\n",
       "  </tbody>\n",
       "</table>\n",
       "</div>"
      ],
      "text/plain": [
       "       sepal length  sepal width  petal length  petal width\n",
       "count    150.000000   150.000000    150.000000   150.000000\n",
       "mean       5.843333     3.054000      3.758667     1.198667\n",
       "std        0.828066     0.433594      1.764420     0.763161\n",
       "min        4.300000     2.000000      1.000000     0.100000\n",
       "25%        5.100000     2.800000      1.600000     0.300000\n",
       "50%        5.800000     3.000000      4.350000     1.300000\n",
       "75%        6.400000     3.300000      5.100000     1.800000\n",
       "max        7.900000     4.400000      6.900000     2.500000"
      ]
     },
     "execution_count": 4,
     "metadata": {},
     "output_type": "execute_result"
    }
   ],
   "source": [
    "data.describe()"
   ]
  },
  {
   "cell_type": "code",
   "execution_count": 5,
   "metadata": {},
   "outputs": [
    {
     "data": {
      "text/plain": [
       "species\n",
       "Iris-setosa        50\n",
       "Iris-versicolor    50\n",
       "Iris-virginica     50\n",
       "dtype: int64"
      ]
     },
     "execution_count": 5,
     "metadata": {},
     "output_type": "execute_result"
    }
   ],
   "source": [
    "data.groupby('species').size()"
   ]
  },
  {
   "cell_type": "raw",
   "metadata": {},
   "source": [
    "Le jeux de données se compose de :\n",
    "- 4 varibales quantitatives continuent qui correspondent à des données métriques concernant les sepales et les pétales des iris. Ce sont les descripteurs c'est à dire nos inputs\n",
    "- 1 variable qualitative à 3 classes qui correspond aux 3 espèces d'iris. Ce sont les catégories de classification, donc nos outputs.\n",
    "\n",
    "On remarque que l'on a le même nombre de valeurs pour chaque descripteur, et pour chaque espèce. Il n'y a donc pas de déséquilibre entre eux."
   ]
  },
  {
   "cell_type": "markdown",
   "metadata": {},
   "source": [
    "### Vérifier que les données soient réelles"
   ]
  },
  {
   "cell_type": "code",
   "execution_count": 6,
   "metadata": {},
   "outputs": [
    {
     "data": {
      "text/plain": [
       "sepal length     True\n",
       "sepal width      True\n",
       "petal length     True\n",
       "petal width      True\n",
       "species         False\n",
       "dtype: bool"
      ]
     },
     "execution_count": 6,
     "metadata": {},
     "output_type": "execute_result"
    }
   ],
   "source": [
    "output_verif = data.applymap(np.isreal).all(0)\n",
    "output_verif"
   ]
  },
  {
   "cell_type": "raw",
   "metadata": {},
   "source": [
    "La colonne species correspond à du texte. Il faudra la convertir en réel pour l'application du modele."
   ]
  },
  {
   "cell_type": "code",
   "execution_count": null,
   "metadata": {},
   "outputs": [],
   "source": [
    "data.shape # vérification des dimensions"
   ]
  },
  {
   "cell_type": "markdown",
   "metadata": {},
   "source": [
    "### Visualisation par espèce"
   ]
  },
  {
   "cell_type": "code",
   "execution_count": 7,
   "metadata": {},
   "outputs": [
    {
     "data": {
      "text/plain": [
       "<seaborn.axisgrid.PairGrid at 0x7f39fef980d0>"
      ]
     },
     "execution_count": 7,
     "metadata": {},
     "output_type": "execute_result"
    },
    {
     "data": {
      "image/png": "[encoded data removed]",
      "text/plain": [
       "<Figure size 834.6x720 with 20 Axes>"
      ]
     },
     "metadata": {},
     "output_type": "display_data"
    }
   ],
   "source": [
    "sns.set(style = \"ticks\")\n",
    "sns.set_palette(\"husl\")\n",
    "sns.pairplot(data.iloc[:,0:5], hue=\"species\")"
   ]
  },
  {
   "cell_type": "raw",
   "metadata": {},
   "source": [
    "D'après la visualisation graphique des données ci-dessus, l'espèce Iris setosa se différencie facilement pour tout les descripteurs.Par contre c'est moins évident pour les 2 autres espèces. Il semble que l'association des critères petal length et petal width donne la meilleure différenciation."
   ]
  },
  {
   "cell_type": "markdown",
   "metadata": {},
   "source": [
    "## Mise en place du modele"
   ]
  },
  {
   "cell_type": "markdown",
   "metadata": {},
   "source": [
    "### Préparation des données"
   ]
  },
  {
   "cell_type": "code",
   "execution_count": 8,
   "metadata": {},
   "outputs": [],
   "source": [
    "import tensorflow as tf\n",
    "from tensorflow import keras"
   ]
  },
  {
   "cell_type": "code",
   "execution_count": 9,
   "metadata": {},
   "outputs": [
    {
     "data": {
      "text/plain": [
       "(150, 4)"
      ]
     },
     "execution_count": 9,
     "metadata": {},
     "output_type": "execute_result"
    }
   ],
   "source": [
    "#Définition de X : attention X est un numpy\n",
    "X = data[['sepal length', 'sepal width', 'petal length', 'petal width']].to_numpy()\n",
    "X.shape"
   ]
  },
  {
   "cell_type": "raw",
   "metadata": {},
   "source": [
    "X a bien les bonnes dimensions"
   ]
  },
  {
   "cell_type": "code",
   "execution_count": 10,
   "metadata": {},
   "outputs": [
    {
     "data": {
      "text/plain": [
       "(150, 1)"
      ]
     },
     "execution_count": 10,
     "metadata": {},
     "output_type": "execute_result"
    }
   ],
   "source": [
    "#Définition de Y\n",
    "Y = data[['species']]\n",
    "Y.shape"
   ]
  },
  {
   "cell_type": "raw",
   "metadata": {},
   "source": [
    "Y a les bonnes dimensions à ce stade. Mais il faut l'encoder pour les trier par catégorie"
   ]
  },
  {
   "cell_type": "code",
   "execution_count": 11,
   "metadata": {},
   "outputs": [],
   "source": [
    "#Il faut à présent trier les Y par catégorie\n",
    "from sklearn.preprocessing import LabelEncoder\n",
    "from keras.utils import to_categorical\n",
    "from keras.utils import np_utils"
   ]
  },
  {
   "cell_type": "code",
   "execution_count": 14,
   "metadata": {},
   "outputs": [],
   "source": [
    "encoder = LabelEncoder()\n",
    "Y_encod = encoder.fit_transform(Y) #les espèces sont encodées en integer"
   ]
  },
  {
   "cell_type": "code",
   "execution_count": 15,
   "metadata": {},
   "outputs": [],
   "source": [
    "Y_onehot = np_utils.to_categorical(Y_encod) #Y est trié selon les catégories càd selon les 3 sorties attendues"
   ]
  },
  {
   "cell_type": "code",
   "execution_count": 16,
   "metadata": {},
   "outputs": [
    {
     "data": {
      "text/plain": [
       "(150, 3)"
      ]
     },
     "execution_count": 16,
     "metadata": {},
     "output_type": "execute_result"
    }
   ],
   "source": [
    "Y_onehot.shape"
   ]
  },
  {
   "cell_type": "raw",
   "metadata": {},
   "source": [
    "On obtient bien les bonnes dimensions pour le onehot"
   ]
  },
  {
   "cell_type": "code",
   "execution_count": 17,
   "metadata": {},
   "outputs": [
    {
     "data": {
      "text/plain": [
       "array([[1., 0., 0.],\n",
       "       [1., 0., 0.],\n",
       "       [1., 0., 0.],\n",
       "       [1., 0., 0.],\n",
       "       [1., 0., 0.],\n",
       "       [1., 0., 0.],\n",
       "       [1., 0., 0.],\n",
       "       [1., 0., 0.],\n",
       "       [1., 0., 0.],\n",
       "       [1., 0., 0.],\n",
       "       [1., 0., 0.],\n",
       "       [1., 0., 0.],\n",
       "       [1., 0., 0.],\n",
       "       [1., 0., 0.],\n",
       "       [1., 0., 0.],\n",
       "       [1., 0., 0.],\n",
       "       [1., 0., 0.],\n",
       "       [1., 0., 0.],\n",
       "       [1., 0., 0.],\n",
       "       [1., 0., 0.],\n",
       "       [1., 0., 0.],\n",
       "       [1., 0., 0.],\n",
       "       [1., 0., 0.],\n",
       "       [1., 0., 0.],\n",
       "       [1., 0., 0.],\n",
       "       [1., 0., 0.],\n",
       "       [1., 0., 0.],\n",
       "       [1., 0., 0.],\n",
       "       [1., 0., 0.],\n",
       "       [1., 0., 0.],\n",
       "       [1., 0., 0.],\n",
       "       [1., 0., 0.],\n",
       "       [1., 0., 0.],\n",
       "       [1., 0., 0.],\n",
       "       [1., 0., 0.],\n",
       "       [1., 0., 0.],\n",
       "       [1., 0., 0.],\n",
       "       [1., 0., 0.],\n",
       "       [1., 0., 0.],\n",
       "       [1., 0., 0.],\n",
       "       [1., 0., 0.],\n",
       "       [1., 0., 0.],\n",
       "       [1., 0., 0.],\n",
       "       [1., 0., 0.],\n",
       "       [1., 0., 0.],\n",
       "       [1., 0., 0.],\n",
       "       [1., 0., 0.],\n",
       "       [1., 0., 0.],\n",
       "       [1., 0., 0.],\n",
       "       [1., 0., 0.],\n",
       "       [0., 1., 0.],\n",
       "       [0., 1., 0.],\n",
       "       [0., 1., 0.],\n",
       "       [0., 1., 0.],\n",
       "       [0., 1., 0.],\n",
       "       [0., 1., 0.],\n",
       "       [0., 1., 0.],\n",
       "       [0., 1., 0.],\n",
       "       [0., 1., 0.],\n",
       "       [0., 1., 0.],\n",
       "       [0., 1., 0.],\n",
       "       [0., 1., 0.],\n",
       "       [0., 1., 0.],\n",
       "       [0., 1., 0.],\n",
       "       [0., 1., 0.],\n",
       "       [0., 1., 0.],\n",
       "       [0., 1., 0.],\n",
       "       [0., 1., 0.],\n",
       "       [0., 1., 0.],\n",
       "       [0., 1., 0.],\n",
       "       [0., 1., 0.],\n",
       "       [0., 1., 0.],\n",
       "       [0., 1., 0.],\n",
       "       [0., 1., 0.],\n",
       "       [0., 1., 0.],\n",
       "       [0., 1., 0.],\n",
       "       [0., 1., 0.],\n",
       "       [0., 1., 0.],\n",
       "       [0., 1., 0.],\n",
       "       [0., 1., 0.],\n",
       "       [0., 1., 0.],\n",
       "       [0., 1., 0.],\n",
       "       [0., 1., 0.],\n",
       "       [0., 1., 0.],\n",
       "       [0., 1., 0.],\n",
       "       [0., 1., 0.],\n",
       "       [0., 1., 0.],\n",
       "       [0., 1., 0.],\n",
       "       [0., 1., 0.],\n",
       "       [0., 1., 0.],\n",
       "       [0., 1., 0.],\n",
       "       [0., 1., 0.],\n",
       "       [0., 1., 0.],\n",
       "       [0., 1., 0.],\n",
       "       [0., 1., 0.],\n",
       "       [0., 1., 0.],\n",
       "       [0., 1., 0.],\n",
       "       [0., 1., 0.],\n",
       "       [0., 1., 0.],\n",
       "       [0., 1., 0.],\n",
       "       [0., 0., 1.],\n",
       "       [0., 0., 1.],\n",
       "       [0., 0., 1.],\n",
       "       [0., 0., 1.],\n",
       "       [0., 0., 1.],\n",
       "       [0., 0., 1.],\n",
       "       [0., 0., 1.],\n",
       "       [0., 0., 1.],\n",
       "       [0., 0., 1.],\n",
       "       [0., 0., 1.],\n",
       "       [0., 0., 1.],\n",
       "       [0., 0., 1.],\n",
       "       [0., 0., 1.],\n",
       "       [0., 0., 1.],\n",
       "       [0., 0., 1.],\n",
       "       [0., 0., 1.],\n",
       "       [0., 0., 1.],\n",
       "       [0., 0., 1.],\n",
       "       [0., 0., 1.],\n",
       "       [0., 0., 1.],\n",
       "       [0., 0., 1.],\n",
       "       [0., 0., 1.],\n",
       "       [0., 0., 1.],\n",
       "       [0., 0., 1.],\n",
       "       [0., 0., 1.],\n",
       "       [0., 0., 1.],\n",
       "       [0., 0., 1.],\n",
       "       [0., 0., 1.],\n",
       "       [0., 0., 1.],\n",
       "       [0., 0., 1.],\n",
       "       [0., 0., 1.],\n",
       "       [0., 0., 1.],\n",
       "       [0., 0., 1.],\n",
       "       [0., 0., 1.],\n",
       "       [0., 0., 1.],\n",
       "       [0., 0., 1.],\n",
       "       [0., 0., 1.],\n",
       "       [0., 0., 1.],\n",
       "       [0., 0., 1.],\n",
       "       [0., 0., 1.],\n",
       "       [0., 0., 1.],\n",
       "       [0., 0., 1.],\n",
       "       [0., 0., 1.],\n",
       "       [0., 0., 1.],\n",
       "       [0., 0., 1.],\n",
       "       [0., 0., 1.],\n",
       "       [0., 0., 1.],\n",
       "       [0., 0., 1.],\n",
       "       [0., 0., 1.],\n",
       "       [0., 0., 1.]], dtype=float32)"
      ]
     },
     "execution_count": 17,
     "metadata": {},
     "output_type": "execute_result"
    }
   ],
   "source": [
    "Y_onehot"
   ]
  },
  {
   "cell_type": "markdown",
   "metadata": {},
   "source": [
    "### Le modèle"
   ]
  },
  {
   "cell_type": "code",
   "execution_count": 18,
   "metadata": {},
   "outputs": [],
   "source": [
    "from keras.models import Sequential\n",
    "from keras.layers import Dense\n",
    "from keras import Input, Model"
   ]
  },
  {
   "cell_type": "code",
   "execution_count": 19,
   "metadata": {},
   "outputs": [],
   "source": [
    "#choix d'un modèle séquentiel\n",
    "model = Sequential()\n",
    "#1ère couche dense composée de 10 neuronnes pour les 4 inputs (mesures métriques). La fonction est sigmoïde\n",
    "model.add(Dense(10, input_dim=4, activation=\"sigmoid\"))\n",
    "#2eme et 3éme couches denses : idem 1ère en diminuant le nombre de neuronnes (pas besoin de préciser les inputs)\n",
    "model.add(Dense(8, activation=\"sigmoid\"))\n",
    "model.add(Dense(6, activation=\"sigmoid\"))\n",
    "#dernière couche dense : le nbre de neuronnes doit correspondre aux nombres de catégories (species)\n",
    "model.add(Dense(3, activation=\"sigmoid\"))"
   ]
  },
  {
   "cell_type": "code",
   "execution_count": 20,
   "metadata": {},
   "outputs": [
    {
     "name": "stdout",
     "output_type": "stream",
     "text": [
      "Model: \"sequential\"\n",
      "_________________________________________________________________\n",
      "Layer (type)                 Output Shape              Param #   \n",
      "=================================================================\n",
      "dense (Dense)                (None, 10)                50        \n",
      "_________________________________________________________________\n",
      "dense_1 (Dense)              (None, 8)                 88        \n",
      "_________________________________________________________________\n",
      "dense_2 (Dense)              (None, 6)                 54        \n",
      "_________________________________________________________________\n",
      "dense_3 (Dense)              (None, 3)                 21        \n",
      "=================================================================\n",
      "Total params: 213\n",
      "Trainable params: 213\n",
      "Non-trainable params: 0\n",
      "_________________________________________________________________\n",
      "None\n"
     ]
    }
   ],
   "source": [
    "print(model.summary())"
   ]
  },
  {
   "cell_type": "markdown",
   "metadata": {},
   "source": [
    "## Compilations et résultats"
   ]
  },
  {
   "cell_type": "markdown",
   "metadata": {},
   "source": [
    "### Sur le jeux de données complet"
   ]
  },
  {
   "cell_type": "code",
   "execution_count": 21,
   "metadata": {},
   "outputs": [],
   "source": [
    "model.compile(loss = 'categorical_crossentropy', optimizer = 'adam', metrics = ['accuracy'])\n",
    "#Il y a plus de 2 ouput, on choisit donc une focntion loss de type categorical_crossentropy"
   ]
  },
  {
   "cell_type": "code",
   "execution_count": 22,
   "metadata": {},
   "outputs": [
    {
     "name": "stdout",
     "output_type": "stream",
     "text": [
      "Epoch 1/150\n",
      "15/15 [==============================] - 0s 698us/step - loss: 1.1217 - accuracy: 0.3333\n",
      "Epoch 2/150\n",
      "15/15 [==============================] - 0s 1ms/step - loss: 1.1167 - accuracy: 0.3333\n",
      "Epoch 3/150\n",
      "15/15 [==============================] - 0s 614us/step - loss: 1.1132 - accuracy: 0.3333\n",
      "Epoch 4/150\n",
      "15/15 [==============================] - 0s 1ms/step - loss: 1.1096 - accuracy: 0.3333\n",
      "Epoch 5/150\n",
      "15/15 [==============================] - 0s 743us/step - loss: 1.1072 - accuracy: 0.3333\n",
      "Epoch 6/150\n",
      "15/15 [==============================] - 0s 1ms/step - loss: 1.1051 - accuracy: 0.3333\n",
      "Epoch 7/150\n",
      "15/15 [==============================] - 0s 1ms/step - loss: 1.1029 - accuracy: 0.3333\n",
      "Epoch 8/150\n",
      "15/15 [==============================] - 0s 642us/step - loss: 1.1015 - accuracy: 0.3333\n",
      "Epoch 9/150\n",
      "15/15 [==============================] - 0s 865us/step - loss: 1.0995 - accuracy: 0.3333\n",
      "Epoch 10/150\n",
      "15/15 [==============================] - 0s 1ms/step - loss: 1.0977 - accuracy: 0.3333\n",
      "Epoch 11/150\n",
      "15/15 [==============================] - 0s 761us/step - loss: 1.0963 - accuracy: 0.3333\n",
      "Epoch 12/150\n",
      "15/15 [==============================] - 0s 957us/step - loss: 1.0944 - accuracy: 0.3333\n",
      "Epoch 13/150\n",
      "15/15 [==============================] - 0s 1ms/step - loss: 1.0929 - accuracy: 0.3333\n",
      "Epoch 14/150\n",
      "15/15 [==============================] - 0s 708us/step - loss: 1.0906 - accuracy: 0.3333\n",
      "Epoch 15/150\n",
      "15/15 [==============================] - 0s 921us/step - loss: 1.0883 - accuracy: 0.3333\n",
      "Epoch 16/150\n",
      "15/15 [==============================] - 0s 1ms/step - loss: 1.0860 - accuracy: 0.3333\n",
      "Epoch 17/150\n",
      "15/15 [==============================] - 0s 1ms/step - loss: 1.0834 - accuracy: 0.3333\n",
      "Epoch 18/150\n",
      "15/15 [==============================] - 0s 640us/step - loss: 1.0808 - accuracy: 0.3400\n",
      "Epoch 19/150\n",
      "15/15 [==============================] - 0s 1ms/step - loss: 1.0782 - accuracy: 0.5667\n",
      "Epoch 20/150\n",
      "15/15 [==============================] - 0s 1ms/step - loss: 1.0748 - accuracy: 0.8200\n",
      "Epoch 21/150\n",
      "15/15 [==============================] - 0s 757us/step - loss: 1.0713 - accuracy: 0.7267\n",
      "Epoch 22/150\n",
      "15/15 [==============================] - 0s 1ms/step - loss: 1.0672 - accuracy: 0.8733\n",
      "Epoch 23/150\n",
      "15/15 [==============================] - 0s 826us/step - loss: 1.0629 - accuracy: 0.9667\n",
      "Epoch 24/150\n",
      "15/15 [==============================] - 0s 1ms/step - loss: 1.0582 - accuracy: 0.9333\n",
      "Epoch 25/150\n",
      "15/15 [==============================] - 0s 776us/step - loss: 1.0531 - accuracy: 0.8267\n",
      "Epoch 26/150\n",
      "15/15 [==============================] - 0s 888us/step - loss: 1.0471 - accuracy: 0.7400\n",
      "Epoch 27/150\n",
      "15/15 [==============================] - 0s 670us/step - loss: 1.0408 - accuracy: 0.7933\n",
      "Epoch 28/150\n",
      "15/15 [==============================] - 0s 1ms/step - loss: 1.0338 - accuracy: 0.7400\n",
      "Epoch 29/150\n",
      "15/15 [==============================] - 0s 839us/step - loss: 1.0260 - accuracy: 0.7467\n",
      "Epoch 30/150\n",
      "15/15 [==============================] - 0s 895us/step - loss: 1.0177 - accuracy: 0.7067\n",
      "Epoch 31/150\n",
      "15/15 [==============================] - 0s 883us/step - loss: 1.0087 - accuracy: 0.7400\n",
      "Epoch 32/150\n",
      "15/15 [==============================] - 0s 962us/step - loss: 0.9988 - accuracy: 0.7000\n",
      "Epoch 33/150\n",
      "15/15 [==============================] - 0s 900us/step - loss: 0.9874 - accuracy: 0.6933\n",
      "Epoch 34/150\n",
      "15/15 [==============================] - 0s 969us/step - loss: 0.9756 - accuracy: 0.6933\n",
      "Epoch 35/150\n",
      "15/15 [==============================] - 0s 730us/step - loss: 0.9626 - accuracy: 0.6800\n",
      "Epoch 36/150\n",
      "15/15 [==============================] - 0s 860us/step - loss: 0.9490 - accuracy: 0.6867\n",
      "Epoch 37/150\n",
      "15/15 [==============================] - 0s 1ms/step - loss: 0.9348 - accuracy: 0.6933\n",
      "Epoch 38/150\n",
      "15/15 [==============================] - 0s 1ms/step - loss: 0.9198 - accuracy: 0.6800\n",
      "Epoch 39/150\n",
      "15/15 [==============================] - 0s 1ms/step - loss: 0.9043 - accuracy: 0.6733\n",
      "Epoch 40/150\n",
      "15/15 [==============================] - 0s 799us/step - loss: 0.8887 - accuracy: 0.6733\n",
      "Epoch 41/150\n",
      "15/15 [==============================] - 0s 1ms/step - loss: 0.8734 - accuracy: 0.6800\n",
      "Epoch 42/150\n",
      "15/15 [==============================] - 0s 816us/step - loss: 0.8573 - accuracy: 0.6800\n",
      "Epoch 43/150\n",
      "15/15 [==============================] - 0s 1ms/step - loss: 0.8420 - accuracy: 0.6733\n",
      "Epoch 44/150\n",
      "15/15 [==============================] - 0s 957us/step - loss: 0.8266 - accuracy: 0.6733\n",
      "Epoch 45/150\n",
      "15/15 [==============================] - 0s 1ms/step - loss: 0.8118 - accuracy: 0.6733\n",
      "Epoch 46/150\n",
      "15/15 [==============================] - 0s 868us/step - loss: 0.7974 - accuracy: 0.6733\n",
      "Epoch 47/150\n",
      "15/15 [==============================] - 0s 2ms/step - loss: 0.7836 - accuracy: 0.6733\n",
      "Epoch 48/150\n",
      "15/15 [==============================] - 0s 1ms/step - loss: 0.7698 - accuracy: 0.6733\n",
      "Epoch 49/150\n",
      "15/15 [==============================] - 0s 900us/step - loss: 0.7568 - accuracy: 0.6733\n",
      "Epoch 50/150\n",
      "15/15 [==============================] - 0s 1ms/step - loss: 0.7450 - accuracy: 0.6733\n",
      "Epoch 51/150\n",
      "15/15 [==============================] - 0s 660us/step - loss: 0.7326 - accuracy: 0.6733\n",
      "Epoch 52/150\n",
      "15/15 [==============================] - 0s 1ms/step - loss: 0.7214 - accuracy: 0.6733\n",
      "Epoch 53/150\n",
      "15/15 [==============================] - 0s 863us/step - loss: 0.7105 - accuracy: 0.6733\n",
      "Epoch 54/150\n",
      "15/15 [==============================] - 0s 7ms/step - loss: 0.7002 - accuracy: 0.6733\n",
      "Epoch 55/150\n",
      "15/15 [==============================] - 0s 683us/step - loss: 0.6905 - accuracy: 0.6733\n",
      "Epoch 56/150\n",
      "15/15 [==============================] - 0s 771us/step - loss: 0.6813 - accuracy: 0.6733\n",
      "Epoch 57/150\n",
      "15/15 [==============================] - 0s 925us/step - loss: 0.6726 - accuracy: 0.6733\n",
      "Epoch 58/150\n",
      "15/15 [==============================] - 0s 875us/step - loss: 0.6642 - accuracy: 0.6867\n",
      "Epoch 59/150\n",
      "15/15 [==============================] - 0s 808us/step - loss: 0.6564 - accuracy: 0.6867\n",
      "Epoch 60/150\n",
      "15/15 [==============================] - 0s 816us/step - loss: 0.6486 - accuracy: 0.6800\n",
      "Epoch 61/150\n",
      "15/15 [==============================] - 0s 714us/step - loss: 0.6414 - accuracy: 0.6867\n",
      "Epoch 62/150\n",
      "15/15 [==============================] - 0s 883us/step - loss: 0.6347 - accuracy: 0.6933\n",
      "Epoch 63/150\n",
      "15/15 [==============================] - 0s 778us/step - loss: 0.6280 - accuracy: 0.6867\n",
      "Epoch 64/150\n",
      "15/15 [==============================] - 0s 722us/step - loss: 0.6222 - accuracy: 0.6933\n",
      "Epoch 65/150\n",
      "15/15 [==============================] - 0s 828us/step - loss: 0.6161 - accuracy: 0.6933\n",
      "Epoch 66/150\n",
      "15/15 [==============================] - 0s 716us/step - loss: 0.6105 - accuracy: 0.6933\n",
      "Epoch 67/150\n",
      "15/15 [==============================] - 0s 785us/step - loss: 0.6054 - accuracy: 0.7000\n",
      "Epoch 68/150\n",
      "15/15 [==============================] - 0s 732us/step - loss: 0.6001 - accuracy: 0.7000\n",
      "Epoch 69/150\n",
      "15/15 [==============================] - 0s 682us/step - loss: 0.5954 - accuracy: 0.7000\n",
      "Epoch 70/150\n",
      "15/15 [==============================] - 0s 632us/step - loss: 0.5907 - accuracy: 0.7000\n",
      "Epoch 71/150\n",
      "15/15 [==============================] - 0s 819us/step - loss: 0.5864 - accuracy: 0.7067\n",
      "Epoch 72/150\n",
      "15/15 [==============================] - 0s 853us/step - loss: 0.5820 - accuracy: 0.7067\n",
      "Epoch 73/150\n",
      "15/15 [==============================] - 0s 769us/step - loss: 0.5783 - accuracy: 0.7067\n",
      "Epoch 74/150\n",
      "15/15 [==============================] - 0s 667us/step - loss: 0.5743 - accuracy: 0.7333\n",
      "Epoch 75/150\n",
      "15/15 [==============================] - 0s 812us/step - loss: 0.5709 - accuracy: 0.7733\n",
      "Epoch 76/150\n",
      "15/15 [==============================] - 0s 716us/step - loss: 0.5671 - accuracy: 0.7667\n",
      "Epoch 77/150\n",
      "15/15 [==============================] - 0s 785us/step - loss: 0.5637 - accuracy: 0.7600\n",
      "Epoch 78/150\n",
      "15/15 [==============================] - 0s 731us/step - loss: 0.5606 - accuracy: 0.7467\n",
      "Epoch 79/150\n",
      "15/15 [==============================] - 0s 1ms/step - loss: 0.5573 - accuracy: 0.7867\n",
      "Epoch 80/150\n",
      "15/15 [==============================] - 0s 821us/step - loss: 0.5542 - accuracy: 0.8133\n",
      "Epoch 81/150\n"
     ]
    },
    {
     "name": "stdout",
     "output_type": "stream",
     "text": [
      "15/15 [==============================] - 0s 808us/step - loss: 0.5513 - accuracy: 0.8200\n",
      "Epoch 82/150\n",
      "15/15 [==============================] - 0s 834us/step - loss: 0.5486 - accuracy: 0.8200\n",
      "Epoch 83/150\n",
      "15/15 [==============================] - 0s 861us/step - loss: 0.5457 - accuracy: 0.8800\n",
      "Epoch 84/150\n",
      "15/15 [==============================] - 0s 750us/step - loss: 0.5429 - accuracy: 0.9000\n",
      "Epoch 85/150\n",
      "15/15 [==============================] - 0s 636us/step - loss: 0.5403 - accuracy: 0.9467\n",
      "Epoch 86/150\n",
      "15/15 [==============================] - 0s 666us/step - loss: 0.5379 - accuracy: 0.9667\n",
      "Epoch 87/150\n",
      "15/15 [==============================] - 0s 793us/step - loss: 0.5352 - accuracy: 0.9600\n",
      "Epoch 88/150\n",
      "15/15 [==============================] - 0s 622us/step - loss: 0.5327 - accuracy: 0.9667\n",
      "Epoch 89/150\n",
      "15/15 [==============================] - 0s 665us/step - loss: 0.5303 - accuracy: 0.9600\n",
      "Epoch 90/150\n",
      "15/15 [==============================] - 0s 678us/step - loss: 0.5279 - accuracy: 0.9533\n",
      "Epoch 91/150\n",
      "15/15 [==============================] - 0s 747us/step - loss: 0.5253 - accuracy: 0.9733\n",
      "Epoch 92/150\n",
      "15/15 [==============================] - 0s 690us/step - loss: 0.5228 - accuracy: 0.9600\n",
      "Epoch 93/150\n",
      "15/15 [==============================] - 0s 905us/step - loss: 0.5203 - accuracy: 0.9400\n",
      "Epoch 94/150\n",
      "15/15 [==============================] - 0s 555us/step - loss: 0.5177 - accuracy: 0.9333\n",
      "Epoch 95/150\n",
      "15/15 [==============================] - 0s 611us/step - loss: 0.5152 - accuracy: 0.9467\n",
      "Epoch 96/150\n",
      "15/15 [==============================] - 0s 666us/step - loss: 0.5126 - accuracy: 0.9533\n",
      "Epoch 97/150\n",
      "15/15 [==============================] - 0s 667us/step - loss: 0.5099 - accuracy: 0.9467\n",
      "Epoch 98/150\n",
      "15/15 [==============================] - 0s 687us/step - loss: 0.5071 - accuracy: 0.8533\n",
      "Epoch 99/150\n",
      "15/15 [==============================] - 0s 704us/step - loss: 0.5042 - accuracy: 0.9067\n",
      "Epoch 100/150\n",
      "15/15 [==============================] - 0s 623us/step - loss: 0.5014 - accuracy: 0.9333\n",
      "Epoch 101/150\n",
      "15/15 [==============================] - 0s 683us/step - loss: 0.4985 - accuracy: 0.8667\n",
      "Epoch 102/150\n",
      "15/15 [==============================] - 0s 606us/step - loss: 0.4951 - accuracy: 0.9000\n",
      "Epoch 103/150\n",
      "15/15 [==============================] - 0s 672us/step - loss: 0.4917 - accuracy: 0.9000\n",
      "Epoch 104/150\n",
      "15/15 [==============================] - 0s 769us/step - loss: 0.4883 - accuracy: 0.9133\n",
      "Epoch 105/150\n",
      "15/15 [==============================] - 0s 671us/step - loss: 0.4843 - accuracy: 0.9267\n",
      "Epoch 106/150\n",
      "15/15 [==============================] - 0s 934us/step - loss: 0.4809 - accuracy: 0.9333\n",
      "Epoch 107/150\n",
      "15/15 [==============================] - 0s 628us/step - loss: 0.4772 - accuracy: 0.9267\n",
      "Epoch 108/150\n",
      "15/15 [==============================] - 0s 672us/step - loss: 0.4729 - accuracy: 0.9267\n",
      "Epoch 109/150\n",
      "15/15 [==============================] - 0s 838us/step - loss: 0.4689 - accuracy: 0.9600\n",
      "Epoch 110/150\n",
      "15/15 [==============================] - 0s 678us/step - loss: 0.4648 - accuracy: 0.9533\n",
      "Epoch 111/150\n",
      "15/15 [==============================] - 0s 801us/step - loss: 0.4604 - accuracy: 0.9733\n",
      "Epoch 112/150\n",
      "15/15 [==============================] - 0s 654us/step - loss: 0.4559 - accuracy: 0.9733\n",
      "Epoch 113/150\n",
      "15/15 [==============================] - 0s 728us/step - loss: 0.4510 - accuracy: 0.9667\n",
      "Epoch 114/150\n",
      "15/15 [==============================] - 0s 722us/step - loss: 0.4473 - accuracy: 0.9667\n",
      "Epoch 115/150\n",
      "15/15 [==============================] - 0s 664us/step - loss: 0.4431 - accuracy: 0.9533\n",
      "Epoch 116/150\n",
      "15/15 [==============================] - 0s 817us/step - loss: 0.4376 - accuracy: 0.9600\n",
      "Epoch 117/150\n",
      "15/15 [==============================] - 0s 739us/step - loss: 0.4317 - accuracy: 0.9600\n",
      "Epoch 118/150\n",
      "15/15 [==============================] - 0s 791us/step - loss: 0.4289 - accuracy: 0.9600\n",
      "Epoch 119/150\n",
      "15/15 [==============================] - 0s 705us/step - loss: 0.4221 - accuracy: 0.9600\n",
      "Epoch 120/150\n",
      "15/15 [==============================] - 0s 765us/step - loss: 0.4177 - accuracy: 0.9600\n",
      "Epoch 121/150\n",
      "15/15 [==============================] - 0s 820us/step - loss: 0.4117 - accuracy: 0.9600\n",
      "Epoch 122/150\n",
      "15/15 [==============================] - 0s 882us/step - loss: 0.4069 - accuracy: 0.9600\n",
      "Epoch 123/150\n",
      "15/15 [==============================] - 0s 649us/step - loss: 0.4019 - accuracy: 0.9733\n",
      "Epoch 124/150\n",
      "15/15 [==============================] - 0s 695us/step - loss: 0.3971 - accuracy: 0.9667\n",
      "Epoch 125/150\n",
      "15/15 [==============================] - 0s 657us/step - loss: 0.3911 - accuracy: 0.9800\n",
      "Epoch 126/150\n",
      "15/15 [==============================] - 0s 915us/step - loss: 0.3869 - accuracy: 0.9600\n",
      "Epoch 127/150\n",
      "15/15 [==============================] - 0s 871us/step - loss: 0.3808 - accuracy: 0.9800\n",
      "Epoch 128/150\n",
      "15/15 [==============================] - 0s 698us/step - loss: 0.3760 - accuracy: 0.9800\n",
      "Epoch 129/150\n",
      "15/15 [==============================] - 0s 674us/step - loss: 0.3717 - accuracy: 0.9733\n",
      "Epoch 130/150\n",
      "15/15 [==============================] - 0s 747us/step - loss: 0.3660 - accuracy: 0.9800\n",
      "Epoch 131/150\n",
      "15/15 [==============================] - 0s 757us/step - loss: 0.3605 - accuracy: 0.9733\n",
      "Epoch 132/150\n",
      "15/15 [==============================] - 0s 736us/step - loss: 0.3555 - accuracy: 0.9800\n",
      "Epoch 133/150\n",
      "15/15 [==============================] - 0s 652us/step - loss: 0.3508 - accuracy: 0.9800\n",
      "Epoch 134/150\n",
      "15/15 [==============================] - 0s 635us/step - loss: 0.3455 - accuracy: 0.9800\n",
      "Epoch 135/150\n",
      "15/15 [==============================] - 0s 722us/step - loss: 0.3408 - accuracy: 0.9800\n",
      "Epoch 136/150\n",
      "15/15 [==============================] - 0s 681us/step - loss: 0.3382 - accuracy: 0.9600\n",
      "Epoch 137/150\n",
      "15/15 [==============================] - 0s 805us/step - loss: 0.3311 - accuracy: 0.9800\n",
      "Epoch 138/150\n",
      "15/15 [==============================] - 0s 622us/step - loss: 0.3269 - accuracy: 0.9733\n",
      "Epoch 139/150\n",
      "15/15 [==============================] - 0s 635us/step - loss: 0.3215 - accuracy: 0.9800\n",
      "Epoch 140/150\n",
      "15/15 [==============================] - 0s 748us/step - loss: 0.3172 - accuracy: 0.9800\n",
      "Epoch 141/150\n",
      "15/15 [==============================] - 0s 620us/step - loss: 0.3124 - accuracy: 0.9800\n",
      "Epoch 142/150\n",
      "15/15 [==============================] - 0s 621us/step - loss: 0.3081 - accuracy: 0.9800\n",
      "Epoch 143/150\n",
      "15/15 [==============================] - 0s 612us/step - loss: 0.3031 - accuracy: 0.9800\n",
      "Epoch 144/150\n",
      "15/15 [==============================] - 0s 835us/step - loss: 0.2986 - accuracy: 0.9800\n",
      "Epoch 145/150\n",
      "15/15 [==============================] - 0s 661us/step - loss: 0.2945 - accuracy: 0.9800\n",
      "Epoch 146/150\n",
      "15/15 [==============================] - 0s 655us/step - loss: 0.2896 - accuracy: 0.9800\n",
      "Epoch 147/150\n",
      "15/15 [==============================] - 0s 659us/step - loss: 0.2855 - accuracy: 0.9800\n",
      "Epoch 148/150\n",
      "15/15 [==============================] - 0s 745us/step - loss: 0.2818 - accuracy: 0.9800\n",
      "Epoch 149/150\n",
      "15/15 [==============================] - 0s 668us/step - loss: 0.2798 - accuracy: 0.9733\n",
      "Epoch 150/150\n",
      "15/15 [==============================] - 0s 649us/step - loss: 0.2736 - accuracy: 0.9733\n"
     ]
    }
   ],
   "source": [
    "history = model.fit(X, Y_onehot, epochs=150, batch_size=10,verbose=1)"
   ]
  },
  {
   "cell_type": "code",
   "execution_count": 23,
   "metadata": {},
   "outputs": [
    {
     "data": {
      "image/png": "[encoded data removed]",
      "text/plain": [
       "<Figure size 1080x504 with 2 Axes>"
      ]
     },
     "metadata": {},
     "output_type": "display_data"
    }
   ],
   "source": [
    "#Représentation graphiques des performances du modèle\n",
    "plt.figure(figsize=(15,7))\n",
    "ax1 = plt.subplot(1,2,1)\n",
    "ax1.plot(history.history['loss'], color='b', label='Loss') \n",
    "legend = ax1.legend(loc='best', shadow=True)\n",
    "ax2 = plt.subplot(1,2,2)\n",
    "ax2.plot(history.history['accuracy'], color='b', label='Accuracy') \n",
    "legend = ax2.legend(loc='best', shadow=True)"
   ]
  },
  {
   "cell_type": "code",
   "execution_count": 24,
   "metadata": {},
   "outputs": [
    {
     "name": "stdout",
     "output_type": "stream",
     "text": [
      "5/5 [==============================] - 0s 1ms/step - loss: 0.2710 - accuracy: 0.9800\n"
     ]
    }
   ],
   "source": [
    "#Evaluation\n",
    "eval = model.evaluate(X,Y_onehot)"
   ]
  },
  {
   "cell_type": "code",
   "execution_count": 25,
   "metadata": {},
   "outputs": [
    {
     "name": "stdout",
     "output_type": "stream",
     "text": [
      "Accuracy: 98.0\n",
      "Loss: 27.1\n"
     ]
    }
   ],
   "source": [
    "print(\"Accuracy: %.1f\" % (eval[1]*100))\n",
    "print(\"Loss: %.1f\" % (eval[0]*100))"
   ]
  },
  {
   "cell_type": "code",
   "execution_count": 26,
   "metadata": {},
   "outputs": [
    {
     "name": "stdout",
     "output_type": "stream",
     "text": [
      "[0.5365225  0.03785801 0.00727531]\n",
      "[0.531516   0.03826162 0.00734359]\n",
      "[0.5346478  0.0380086  0.00730085]\n",
      "[0.5311873  0.03828827 0.00734806]\n",
      "[0.5371579  0.03780711 0.00726676]\n",
      "[0.53528565 0.03795743 0.00729212]\n",
      "[0.5341756  0.03804684 0.00730738]\n",
      "[0.5348409  0.03799295 0.00729811]\n",
      "[0.52949375 0.03842613 0.00737134]\n",
      "[0.5331202  0.03813139 0.00732154]\n",
      "[0.5373095  0.03779492 0.00726464]\n",
      "[0.5337044  0.03808448 0.00731364]\n",
      "[0.5330433  0.0381377  0.00732258]\n",
      "[0.5355585  0.03793535 0.00728852]\n",
      "[0.54027134 0.03755909 0.00722477]\n",
      "[0.5395561  0.0376161  0.00723439]\n",
      "[0.53807896 0.03773388 0.00725433]\n",
      "[0.53546566 0.03794295 0.00728974]\n",
      "[0.53572434 0.03792197 0.00728607]\n",
      "[0.5369377  0.03782484 0.00726974]\n"
     ]
    }
   ],
   "source": [
    "#Prédiction\n",
    "prediction = model.predict(X)\n",
    "for i in range(20):\n",
    "    print(prediction[i])"
   ]
  },
  {
   "cell_type": "markdown",
   "metadata": {},
   "source": [
    "### Séparer le jeux de données : Apprentissage et validation"
   ]
  },
  {
   "cell_type": "code",
   "execution_count": 27,
   "metadata": {},
   "outputs": [],
   "source": [
    "from sklearn.model_selection import train_test_split"
   ]
  },
  {
   "cell_type": "code",
   "execution_count": 53,
   "metadata": {},
   "outputs": [],
   "source": [
    "X_train, X_test, Y_train, Y_test = train_test_split(X, Y_onehot, test_size = 0.2, random_state=0)"
   ]
  },
  {
   "cell_type": "code",
   "execution_count": 54,
   "metadata": {},
   "outputs": [],
   "source": [
    "model = Sequential()\n",
    "model.add(Dense(10,input_shape=(4,),activation='sigmoid'))\n",
    "model.add(Dense(8,activation='sigmoid'))\n",
    "model.add(Dense(6,activation='sigmoid'))\n",
    "model.add(Dense(3,activation='softmax'))"
   ]
  },
  {
   "cell_type": "code",
   "execution_count": 55,
   "metadata": {},
   "outputs": [],
   "source": [
    "model.compile(loss = 'categorical_crossentropy', optimizer = 'adam', metrics = ['accuracy'])"
   ]
  },
  {
   "cell_type": "code",
   "execution_count": 56,
   "metadata": {},
   "outputs": [
    {
     "name": "stdout",
     "output_type": "stream",
     "text": [
      "Epoch 1/200\n",
      "11/11 [==============================] - 0s 10ms/step - loss: 1.1085 - accuracy: 0.3889 - val_loss: 1.1704 - val_accuracy: 0.1667\n",
      "Epoch 2/200\n",
      "11/11 [==============================] - 0s 2ms/step - loss: 1.1037 - accuracy: 0.3889 - val_loss: 1.1660 - val_accuracy: 0.1667\n",
      "Epoch 3/200\n",
      "11/11 [==============================] - 0s 2ms/step - loss: 1.1001 - accuracy: 0.3889 - val_loss: 1.1633 - val_accuracy: 0.1667\n",
      "Epoch 4/200\n",
      "11/11 [==============================] - 0s 2ms/step - loss: 1.0978 - accuracy: 0.3889 - val_loss: 1.1586 - val_accuracy: 0.1667\n",
      "Epoch 5/200\n",
      "11/11 [==============================] - 0s 2ms/step - loss: 1.0954 - accuracy: 0.3889 - val_loss: 1.1546 - val_accuracy: 0.1667\n",
      "Epoch 6/200\n",
      "11/11 [==============================] - 0s 2ms/step - loss: 1.0933 - accuracy: 0.3889 - val_loss: 1.1552 - val_accuracy: 0.1667\n",
      "Epoch 7/200\n",
      "11/11 [==============================] - 0s 2ms/step - loss: 1.0921 - accuracy: 0.3889 - val_loss: 1.1532 - val_accuracy: 0.1667\n",
      "Epoch 8/200\n",
      "11/11 [==============================] - 0s 2ms/step - loss: 1.0909 - accuracy: 0.3889 - val_loss: 1.1520 - val_accuracy: 0.1667\n",
      "Epoch 9/200\n",
      "11/11 [==============================] - 0s 2ms/step - loss: 1.0905 - accuracy: 0.3889 - val_loss: 1.1496 - val_accuracy: 0.1667\n",
      "Epoch 10/200\n",
      "11/11 [==============================] - 0s 2ms/step - loss: 1.0890 - accuracy: 0.3889 - val_loss: 1.1452 - val_accuracy: 0.1667\n",
      "Epoch 11/200\n",
      "11/11 [==============================] - 0s 3ms/step - loss: 1.0887 - accuracy: 0.3889 - val_loss: 1.1417 - val_accuracy: 0.1667\n",
      "Epoch 12/200\n",
      "11/11 [==============================] - 0s 2ms/step - loss: 1.0874 - accuracy: 0.3889 - val_loss: 1.1402 - val_accuracy: 0.1667\n",
      "Epoch 13/200\n",
      "11/11 [==============================] - 0s 2ms/step - loss: 1.0867 - accuracy: 0.3889 - val_loss: 1.1400 - val_accuracy: 0.1667\n",
      "Epoch 14/200\n",
      "11/11 [==============================] - 0s 2ms/step - loss: 1.0863 - accuracy: 0.3889 - val_loss: 1.1376 - val_accuracy: 0.1667\n",
      "Epoch 15/200\n",
      "11/11 [==============================] - 0s 3ms/step - loss: 1.0848 - accuracy: 0.3889 - val_loss: 1.1370 - val_accuracy: 0.1667\n",
      "Epoch 16/200\n",
      "11/11 [==============================] - 0s 2ms/step - loss: 1.0842 - accuracy: 0.3889 - val_loss: 1.1355 - val_accuracy: 0.1667\n",
      "Epoch 17/200\n",
      "11/11 [==============================] - 0s 3ms/step - loss: 1.0831 - accuracy: 0.3889 - val_loss: 1.1334 - val_accuracy: 0.1667\n",
      "Epoch 18/200\n",
      "11/11 [==============================] - 0s 3ms/step - loss: 1.0824 - accuracy: 0.3889 - val_loss: 1.1314 - val_accuracy: 0.1667\n",
      "Epoch 19/200\n",
      "11/11 [==============================] - 0s 3ms/step - loss: 1.0805 - accuracy: 0.3889 - val_loss: 1.1314 - val_accuracy: 0.1667\n",
      "Epoch 20/200\n",
      "11/11 [==============================] - 0s 3ms/step - loss: 1.0793 - accuracy: 0.3889 - val_loss: 1.1301 - val_accuracy: 0.1667\n",
      "Epoch 21/200\n",
      "11/11 [==============================] - 0s 3ms/step - loss: 1.0778 - accuracy: 0.3889 - val_loss: 1.1269 - val_accuracy: 0.1667\n",
      "Epoch 22/200\n",
      "11/11 [==============================] - 0s 3ms/step - loss: 1.0763 - accuracy: 0.3889 - val_loss: 1.1266 - val_accuracy: 0.1667\n",
      "Epoch 23/200\n",
      "11/11 [==============================] - 0s 3ms/step - loss: 1.0744 - accuracy: 0.3889 - val_loss: 1.1245 - val_accuracy: 0.1667\n",
      "Epoch 24/200\n",
      "11/11 [==============================] - 0s 3ms/step - loss: 1.0724 - accuracy: 0.3889 - val_loss: 1.1206 - val_accuracy: 0.1667\n",
      "Epoch 25/200\n",
      "11/11 [==============================] - 0s 3ms/step - loss: 1.0705 - accuracy: 0.3889 - val_loss: 1.1164 - val_accuracy: 0.1667\n",
      "Epoch 26/200\n",
      "11/11 [==============================] - 0s 3ms/step - loss: 1.0677 - accuracy: 0.3889 - val_loss: 1.1141 - val_accuracy: 0.1667\n",
      "Epoch 27/200\n",
      "11/11 [==============================] - 0s 3ms/step - loss: 1.0652 - accuracy: 0.3889 - val_loss: 1.1093 - val_accuracy: 0.1667\n",
      "Epoch 28/200\n",
      "11/11 [==============================] - 0s 3ms/step - loss: 1.0622 - accuracy: 0.3889 - val_loss: 1.1089 - val_accuracy: 0.1667\n",
      "Epoch 29/200\n",
      "11/11 [==============================] - 0s 3ms/step - loss: 1.0593 - accuracy: 0.3889 - val_loss: 1.1036 - val_accuracy: 0.1667\n",
      "Epoch 30/200\n",
      "11/11 [==============================] - 0s 3ms/step - loss: 1.0560 - accuracy: 0.3889 - val_loss: 1.1009 - val_accuracy: 0.1667\n",
      "Epoch 31/200\n",
      "11/11 [==============================] - 0s 2ms/step - loss: 1.0522 - accuracy: 0.3981 - val_loss: 1.0987 - val_accuracy: 0.1667\n",
      "Epoch 32/200\n",
      "11/11 [==============================] - 0s 3ms/step - loss: 1.0477 - accuracy: 0.5093 - val_loss: 1.0922 - val_accuracy: 0.5000\n",
      "Epoch 33/200\n",
      "11/11 [==============================] - 0s 2ms/step - loss: 1.0439 - accuracy: 0.6759 - val_loss: 1.0831 - val_accuracy: 0.5833\n",
      "Epoch 34/200\n",
      "11/11 [==============================] - 0s 3ms/step - loss: 1.0391 - accuracy: 0.7037 - val_loss: 1.0812 - val_accuracy: 0.5833\n",
      "Epoch 35/200\n",
      "11/11 [==============================] - 0s 2ms/step - loss: 1.0337 - accuracy: 0.7037 - val_loss: 1.0743 - val_accuracy: 0.5833\n",
      "Epoch 36/200\n",
      "11/11 [==============================] - 0s 2ms/step - loss: 1.0284 - accuracy: 0.7037 - val_loss: 1.0692 - val_accuracy: 0.5833\n",
      "Epoch 37/200\n",
      "11/11 [==============================] - 0s 2ms/step - loss: 1.0228 - accuracy: 0.7037 - val_loss: 1.0613 - val_accuracy: 0.5833\n",
      "Epoch 38/200\n",
      "11/11 [==============================] - 0s 2ms/step - loss: 1.0166 - accuracy: 0.7037 - val_loss: 1.0558 - val_accuracy: 0.5833\n",
      "Epoch 39/200\n",
      "11/11 [==============================] - 0s 2ms/step - loss: 1.0101 - accuracy: 0.7037 - val_loss: 1.0479 - val_accuracy: 0.5833\n",
      "Epoch 40/200\n",
      "11/11 [==============================] - 0s 2ms/step - loss: 1.0033 - accuracy: 0.7037 - val_loss: 1.0406 - val_accuracy: 0.5833\n",
      "Epoch 41/200\n",
      "11/11 [==============================] - 0s 2ms/step - loss: 0.9960 - accuracy: 0.7037 - val_loss: 1.0361 - val_accuracy: 0.5833\n",
      "Epoch 42/200\n",
      "11/11 [==============================] - 0s 2ms/step - loss: 0.9883 - accuracy: 0.7037 - val_loss: 1.0284 - val_accuracy: 0.5833\n",
      "Epoch 43/200\n",
      "11/11 [==============================] - 0s 2ms/step - loss: 0.9811 - accuracy: 0.7037 - val_loss: 1.0233 - val_accuracy: 0.5833\n",
      "Epoch 44/200\n",
      "11/11 [==============================] - 0s 2ms/step - loss: 0.9722 - accuracy: 0.7037 - val_loss: 1.0123 - val_accuracy: 0.5833\n",
      "Epoch 45/200\n",
      "11/11 [==============================] - 0s 2ms/step - loss: 0.9637 - accuracy: 0.7037 - val_loss: 1.0004 - val_accuracy: 0.5833\n",
      "Epoch 46/200\n",
      "11/11 [==============================] - 0s 2ms/step - loss: 0.9540 - accuracy: 0.7037 - val_loss: 0.9942 - val_accuracy: 0.5833\n",
      "Epoch 47/200\n",
      "11/11 [==============================] - 0s 2ms/step - loss: 0.9447 - accuracy: 0.7037 - val_loss: 0.9858 - val_accuracy: 0.5833\n",
      "Epoch 48/200\n",
      "11/11 [==============================] - 0s 3ms/step - loss: 0.9346 - accuracy: 0.7037 - val_loss: 0.9733 - val_accuracy: 0.5833\n",
      "Epoch 49/200\n",
      "11/11 [==============================] - 0s 3ms/step - loss: 0.9243 - accuracy: 0.7037 - val_loss: 0.9630 - val_accuracy: 0.5833\n",
      "Epoch 50/200\n",
      "11/11 [==============================] - 0s 3ms/step - loss: 0.9142 - accuracy: 0.7037 - val_loss: 0.9548 - val_accuracy: 0.5833\n",
      "Epoch 51/200\n",
      "11/11 [==============================] - 0s 3ms/step - loss: 0.9029 - accuracy: 0.7037 - val_loss: 0.9415 - val_accuracy: 0.5833\n",
      "Epoch 52/200\n",
      "11/11 [==============================] - 0s 4ms/step - loss: 0.8923 - accuracy: 0.7037 - val_loss: 0.9305 - val_accuracy: 0.5833\n",
      "Epoch 53/200\n",
      "11/11 [==============================] - 0s 3ms/step - loss: 0.8806 - accuracy: 0.7037 - val_loss: 0.9214 - val_accuracy: 0.5833\n",
      "Epoch 54/200\n",
      "11/11 [==============================] - 0s 2ms/step - loss: 0.8692 - accuracy: 0.7037 - val_loss: 0.9084 - val_accuracy: 0.5833\n",
      "Epoch 55/200\n",
      "11/11 [==============================] - 0s 3ms/step - loss: 0.8580 - accuracy: 0.7037 - val_loss: 0.8989 - val_accuracy: 0.5833\n",
      "Epoch 56/200\n",
      "11/11 [==============================] - 0s 2ms/step - loss: 0.8466 - accuracy: 0.7037 - val_loss: 0.8883 - val_accuracy: 0.5833\n",
      "Epoch 57/200\n",
      "11/11 [==============================] - 0s 2ms/step - loss: 0.8351 - accuracy: 0.7037 - val_loss: 0.8771 - val_accuracy: 0.5833\n",
      "Epoch 58/200\n",
      "11/11 [==============================] - 0s 3ms/step - loss: 0.8243 - accuracy: 0.7037 - val_loss: 0.8641 - val_accuracy: 0.5833\n"
     ]
    },
    {
     "name": "stdout",
     "output_type": "stream",
     "text": [
      "Epoch 59/200\n",
      "11/11 [==============================] - 0s 3ms/step - loss: 0.8138 - accuracy: 0.7037 - val_loss: 0.8511 - val_accuracy: 0.5833\n",
      "Epoch 60/200\n",
      "11/11 [==============================] - 0s 2ms/step - loss: 0.8025 - accuracy: 0.7037 - val_loss: 0.8434 - val_accuracy: 0.5833\n",
      "Epoch 61/200\n",
      "11/11 [==============================] - 0s 3ms/step - loss: 0.7918 - accuracy: 0.7037 - val_loss: 0.8316 - val_accuracy: 0.5833\n",
      "Epoch 62/200\n",
      "11/11 [==============================] - 0s 2ms/step - loss: 0.7816 - accuracy: 0.7037 - val_loss: 0.8209 - val_accuracy: 0.5833\n",
      "Epoch 63/200\n",
      "11/11 [==============================] - 0s 2ms/step - loss: 0.7716 - accuracy: 0.7037 - val_loss: 0.8102 - val_accuracy: 0.5833\n",
      "Epoch 64/200\n",
      "11/11 [==============================] - 0s 2ms/step - loss: 0.7618 - accuracy: 0.7037 - val_loss: 0.8007 - val_accuracy: 0.5833\n",
      "Epoch 65/200\n",
      "11/11 [==============================] - 0s 2ms/step - loss: 0.7519 - accuracy: 0.7037 - val_loss: 0.7910 - val_accuracy: 0.5833\n",
      "Epoch 66/200\n",
      "11/11 [==============================] - 0s 2ms/step - loss: 0.7433 - accuracy: 0.7037 - val_loss: 0.7830 - val_accuracy: 0.5833\n",
      "Epoch 67/200\n",
      "11/11 [==============================] - 0s 2ms/step - loss: 0.7338 - accuracy: 0.7037 - val_loss: 0.7696 - val_accuracy: 0.5833\n",
      "Epoch 68/200\n",
      "11/11 [==============================] - 0s 2ms/step - loss: 0.7247 - accuracy: 0.7037 - val_loss: 0.7601 - val_accuracy: 0.5833\n",
      "Epoch 69/200\n",
      "11/11 [==============================] - 0s 2ms/step - loss: 0.7162 - accuracy: 0.7037 - val_loss: 0.7503 - val_accuracy: 0.5833\n",
      "Epoch 70/200\n",
      "11/11 [==============================] - 0s 2ms/step - loss: 0.7076 - accuracy: 0.7037 - val_loss: 0.7419 - val_accuracy: 0.5833\n",
      "Epoch 71/200\n",
      "11/11 [==============================] - 0s 2ms/step - loss: 0.6997 - accuracy: 0.7037 - val_loss: 0.7329 - val_accuracy: 0.5833\n",
      "Epoch 72/200\n",
      "11/11 [==============================] - 0s 2ms/step - loss: 0.6920 - accuracy: 0.7037 - val_loss: 0.7254 - val_accuracy: 0.5833\n",
      "Epoch 73/200\n",
      "11/11 [==============================] - 0s 2ms/step - loss: 0.6843 - accuracy: 0.7037 - val_loss: 0.7169 - val_accuracy: 0.5833\n",
      "Epoch 74/200\n",
      "11/11 [==============================] - 0s 2ms/step - loss: 0.6771 - accuracy: 0.7037 - val_loss: 0.7080 - val_accuracy: 0.5833\n",
      "Epoch 75/200\n",
      "11/11 [==============================] - 0s 2ms/step - loss: 0.6701 - accuracy: 0.7037 - val_loss: 0.6988 - val_accuracy: 0.5833\n",
      "Epoch 76/200\n",
      "11/11 [==============================] - 0s 2ms/step - loss: 0.6634 - accuracy: 0.7037 - val_loss: 0.6899 - val_accuracy: 0.5833\n",
      "Epoch 77/200\n",
      "11/11 [==============================] - 0s 2ms/step - loss: 0.6567 - accuracy: 0.7037 - val_loss: 0.6831 - val_accuracy: 0.5833\n",
      "Epoch 78/200\n",
      "11/11 [==============================] - 0s 2ms/step - loss: 0.6504 - accuracy: 0.7037 - val_loss: 0.6770 - val_accuracy: 0.5833\n",
      "Epoch 79/200\n",
      "11/11 [==============================] - 0s 2ms/step - loss: 0.6448 - accuracy: 0.7037 - val_loss: 0.6718 - val_accuracy: 0.5833\n",
      "Epoch 80/200\n",
      "11/11 [==============================] - 0s 2ms/step - loss: 0.6389 - accuracy: 0.7037 - val_loss: 0.6612 - val_accuracy: 0.5833\n",
      "Epoch 81/200\n",
      "11/11 [==============================] - 0s 2ms/step - loss: 0.6328 - accuracy: 0.7037 - val_loss: 0.6560 - val_accuracy: 0.5833\n",
      "Epoch 82/200\n",
      "11/11 [==============================] - 0s 2ms/step - loss: 0.6274 - accuracy: 0.7037 - val_loss: 0.6493 - val_accuracy: 0.5833\n",
      "Epoch 83/200\n",
      "11/11 [==============================] - 0s 2ms/step - loss: 0.6221 - accuracy: 0.7037 - val_loss: 0.6435 - val_accuracy: 0.5833\n",
      "Epoch 84/200\n",
      "11/11 [==============================] - 0s 2ms/step - loss: 0.6172 - accuracy: 0.7037 - val_loss: 0.6363 - val_accuracy: 0.5833\n",
      "Epoch 85/200\n",
      "11/11 [==============================] - 0s 2ms/step - loss: 0.6123 - accuracy: 0.7037 - val_loss: 0.6307 - val_accuracy: 0.5833\n",
      "Epoch 86/200\n",
      "11/11 [==============================] - 0s 2ms/step - loss: 0.6075 - accuracy: 0.7037 - val_loss: 0.6246 - val_accuracy: 0.5833\n",
      "Epoch 87/200\n",
      "11/11 [==============================] - 0s 2ms/step - loss: 0.6027 - accuracy: 0.7037 - val_loss: 0.6207 - val_accuracy: 0.5833\n",
      "Epoch 88/200\n",
      "11/11 [==============================] - 0s 2ms/step - loss: 0.5983 - accuracy: 0.7130 - val_loss: 0.6155 - val_accuracy: 0.5833\n",
      "Epoch 89/200\n",
      "11/11 [==============================] - 0s 2ms/step - loss: 0.5941 - accuracy: 0.7130 - val_loss: 0.6113 - val_accuracy: 0.5833\n",
      "Epoch 90/200\n",
      "11/11 [==============================] - 0s 2ms/step - loss: 0.5899 - accuracy: 0.7130 - val_loss: 0.6074 - val_accuracy: 0.5833\n",
      "Epoch 91/200\n",
      "11/11 [==============================] - 0s 2ms/step - loss: 0.5860 - accuracy: 0.7130 - val_loss: 0.6008 - val_accuracy: 0.5833\n",
      "Epoch 92/200\n",
      "11/11 [==============================] - 0s 3ms/step - loss: 0.5820 - accuracy: 0.7130 - val_loss: 0.5970 - val_accuracy: 0.5833\n",
      "Epoch 93/200\n",
      "11/11 [==============================] - 0s 2ms/step - loss: 0.5784 - accuracy: 0.7130 - val_loss: 0.5897 - val_accuracy: 0.5833\n",
      "Epoch 94/200\n",
      "11/11 [==============================] - 0s 3ms/step - loss: 0.5745 - accuracy: 0.7222 - val_loss: 0.5878 - val_accuracy: 0.5833\n",
      "Epoch 95/200\n",
      "11/11 [==============================] - 0s 3ms/step - loss: 0.5706 - accuracy: 0.7222 - val_loss: 0.5843 - val_accuracy: 0.5833\n",
      "Epoch 96/200\n",
      "11/11 [==============================] - 0s 3ms/step - loss: 0.5670 - accuracy: 0.7222 - val_loss: 0.5785 - val_accuracy: 0.5833\n",
      "Epoch 97/200\n",
      "11/11 [==============================] - 0s 2ms/step - loss: 0.5635 - accuracy: 0.7222 - val_loss: 0.5754 - val_accuracy: 0.5833\n",
      "Epoch 98/200\n",
      "11/11 [==============================] - 0s 2ms/step - loss: 0.5601 - accuracy: 0.7222 - val_loss: 0.5721 - val_accuracy: 0.5833\n",
      "Epoch 99/200\n",
      "11/11 [==============================] - 0s 3ms/step - loss: 0.5573 - accuracy: 0.7315 - val_loss: 0.5641 - val_accuracy: 0.5833\n",
      "Epoch 100/200\n",
      "11/11 [==============================] - 0s 3ms/step - loss: 0.5534 - accuracy: 0.7407 - val_loss: 0.5631 - val_accuracy: 0.5833\n",
      "Epoch 101/200\n",
      "11/11 [==============================] - 0s 2ms/step - loss: 0.5503 - accuracy: 0.7315 - val_loss: 0.5576 - val_accuracy: 0.5833\n",
      "Epoch 102/200\n",
      "11/11 [==============================] - 0s 2ms/step - loss: 0.5472 - accuracy: 0.7407 - val_loss: 0.5582 - val_accuracy: 0.5833\n",
      "Epoch 103/200\n",
      "11/11 [==============================] - 0s 3ms/step - loss: 0.5438 - accuracy: 0.7407 - val_loss: 0.5523 - val_accuracy: 0.5833\n",
      "Epoch 104/200\n",
      "11/11 [==============================] - 0s 2ms/step - loss: 0.5405 - accuracy: 0.7315 - val_loss: 0.5488 - val_accuracy: 0.5833\n",
      "Epoch 105/200\n",
      "11/11 [==============================] - 0s 3ms/step - loss: 0.5375 - accuracy: 0.7315 - val_loss: 0.5446 - val_accuracy: 0.5833\n",
      "Epoch 106/200\n",
      "11/11 [==============================] - 0s 3ms/step - loss: 0.5347 - accuracy: 0.7315 - val_loss: 0.5394 - val_accuracy: 0.5833\n",
      "Epoch 107/200\n",
      "11/11 [==============================] - 0s 3ms/step - loss: 0.5310 - accuracy: 0.7315 - val_loss: 0.5409 - val_accuracy: 0.5833\n",
      "Epoch 108/200\n",
      "11/11 [==============================] - 0s 2ms/step - loss: 0.5279 - accuracy: 0.7407 - val_loss: 0.5371 - val_accuracy: 0.5833\n",
      "Epoch 109/200\n",
      "11/11 [==============================] - 0s 3ms/step - loss: 0.5249 - accuracy: 0.7407 - val_loss: 0.5313 - val_accuracy: 0.5833\n",
      "Epoch 110/200\n",
      "11/11 [==============================] - 0s 2ms/step - loss: 0.5224 - accuracy: 0.7407 - val_loss: 0.5248 - val_accuracy: 0.6667\n",
      "Epoch 111/200\n",
      "11/11 [==============================] - 0s 2ms/step - loss: 0.5196 - accuracy: 0.7407 - val_loss: 0.5262 - val_accuracy: 0.5833\n",
      "Epoch 112/200\n",
      "11/11 [==============================] - 0s 2ms/step - loss: 0.5157 - accuracy: 0.7500 - val_loss: 0.5238 - val_accuracy: 0.5833\n",
      "Epoch 113/200\n",
      "11/11 [==============================] - 0s 2ms/step - loss: 0.5125 - accuracy: 0.7500 - val_loss: 0.5192 - val_accuracy: 0.6667\n",
      "Epoch 114/200\n",
      "11/11 [==============================] - 0s 2ms/step - loss: 0.5097 - accuracy: 0.7500 - val_loss: 0.5175 - val_accuracy: 0.6667\n",
      "Epoch 115/200\n",
      "11/11 [==============================] - 0s 2ms/step - loss: 0.5063 - accuracy: 0.7593 - val_loss: 0.5115 - val_accuracy: 0.7500\n",
      "Epoch 116/200\n"
     ]
    },
    {
     "name": "stdout",
     "output_type": "stream",
     "text": [
      "11/11 [==============================] - 0s 2ms/step - loss: 0.5035 - accuracy: 0.7778 - val_loss: 0.5070 - val_accuracy: 0.7500\n",
      "Epoch 117/200\n",
      "11/11 [==============================] - 0s 2ms/step - loss: 0.5004 - accuracy: 0.7963 - val_loss: 0.5061 - val_accuracy: 0.7500\n",
      "Epoch 118/200\n",
      "11/11 [==============================] - 0s 2ms/step - loss: 0.4976 - accuracy: 0.8056 - val_loss: 0.4997 - val_accuracy: 0.7500\n",
      "Epoch 119/200\n",
      "11/11 [==============================] - 0s 2ms/step - loss: 0.4940 - accuracy: 0.8241 - val_loss: 0.4996 - val_accuracy: 0.7500\n",
      "Epoch 120/200\n",
      "11/11 [==============================] - 0s 2ms/step - loss: 0.4911 - accuracy: 0.8148 - val_loss: 0.4957 - val_accuracy: 0.7500\n",
      "Epoch 121/200\n",
      "11/11 [==============================] - 0s 2ms/step - loss: 0.4879 - accuracy: 0.8241 - val_loss: 0.4956 - val_accuracy: 0.7500\n",
      "Epoch 122/200\n",
      "11/11 [==============================] - 0s 2ms/step - loss: 0.4846 - accuracy: 0.8241 - val_loss: 0.4901 - val_accuracy: 0.7500\n",
      "Epoch 123/200\n",
      "11/11 [==============================] - 0s 2ms/step - loss: 0.4815 - accuracy: 0.8333 - val_loss: 0.4858 - val_accuracy: 0.7500\n",
      "Epoch 124/200\n",
      "11/11 [==============================] - 0s 2ms/step - loss: 0.4782 - accuracy: 0.8704 - val_loss: 0.4814 - val_accuracy: 0.7500\n",
      "Epoch 125/200\n",
      "11/11 [==============================] - 0s 2ms/step - loss: 0.4753 - accuracy: 0.8704 - val_loss: 0.4765 - val_accuracy: 0.8333\n",
      "Epoch 126/200\n",
      "11/11 [==============================] - 0s 2ms/step - loss: 0.4729 - accuracy: 0.8611 - val_loss: 0.4806 - val_accuracy: 0.7500\n",
      "Epoch 127/200\n",
      "11/11 [==============================] - 0s 2ms/step - loss: 0.4700 - accuracy: 0.8704 - val_loss: 0.4705 - val_accuracy: 0.8333\n",
      "Epoch 128/200\n",
      "11/11 [==============================] - 0s 2ms/step - loss: 0.4658 - accuracy: 0.8704 - val_loss: 0.4725 - val_accuracy: 0.7500\n",
      "Epoch 129/200\n",
      "11/11 [==============================] - 0s 2ms/step - loss: 0.4625 - accuracy: 0.8704 - val_loss: 0.4701 - val_accuracy: 0.8333\n",
      "Epoch 130/200\n",
      "11/11 [==============================] - 0s 2ms/step - loss: 0.4596 - accuracy: 0.8704 - val_loss: 0.4671 - val_accuracy: 0.8333\n",
      "Epoch 131/200\n",
      "11/11 [==============================] - 0s 2ms/step - loss: 0.4564 - accuracy: 0.8796 - val_loss: 0.4603 - val_accuracy: 0.8333\n",
      "Epoch 132/200\n",
      "11/11 [==============================] - 0s 2ms/step - loss: 0.4529 - accuracy: 0.8704 - val_loss: 0.4602 - val_accuracy: 0.8333\n",
      "Epoch 133/200\n",
      "11/11 [==============================] - 0s 2ms/step - loss: 0.4497 - accuracy: 0.8796 - val_loss: 0.4556 - val_accuracy: 0.8333\n",
      "Epoch 134/200\n",
      "11/11 [==============================] - 0s 2ms/step - loss: 0.4473 - accuracy: 0.8981 - val_loss: 0.4498 - val_accuracy: 0.8333\n",
      "Epoch 135/200\n",
      "11/11 [==============================] - 0s 2ms/step - loss: 0.4444 - accuracy: 0.8796 - val_loss: 0.4551 - val_accuracy: 0.8333\n",
      "Epoch 136/200\n",
      "11/11 [==============================] - 0s 2ms/step - loss: 0.4399 - accuracy: 0.8796 - val_loss: 0.4461 - val_accuracy: 0.8333\n",
      "Epoch 137/200\n",
      "11/11 [==============================] - 0s 2ms/step - loss: 0.4380 - accuracy: 0.9167 - val_loss: 0.4373 - val_accuracy: 0.8333\n",
      "Epoch 138/200\n",
      "11/11 [==============================] - 0s 2ms/step - loss: 0.4347 - accuracy: 0.9074 - val_loss: 0.4401 - val_accuracy: 0.8333\n",
      "Epoch 139/200\n",
      "11/11 [==============================] - 0s 2ms/step - loss: 0.4306 - accuracy: 0.9074 - val_loss: 0.4409 - val_accuracy: 0.8333\n",
      "Epoch 140/200\n",
      "11/11 [==============================] - 0s 2ms/step - loss: 0.4273 - accuracy: 0.9259 - val_loss: 0.4317 - val_accuracy: 0.8333\n",
      "Epoch 141/200\n",
      "11/11 [==============================] - 0s 2ms/step - loss: 0.4238 - accuracy: 0.9352 - val_loss: 0.4300 - val_accuracy: 0.8333\n",
      "Epoch 142/200\n",
      "11/11 [==============================] - 0s 2ms/step - loss: 0.4213 - accuracy: 0.9259 - val_loss: 0.4321 - val_accuracy: 0.8333\n",
      "Epoch 143/200\n",
      "11/11 [==============================] - 0s 2ms/step - loss: 0.4179 - accuracy: 0.9167 - val_loss: 0.4276 - val_accuracy: 0.8333\n",
      "Epoch 144/200\n",
      "11/11 [==============================] - 0s 2ms/step - loss: 0.4140 - accuracy: 0.9352 - val_loss: 0.4201 - val_accuracy: 0.8333\n",
      "Epoch 145/200\n",
      "11/11 [==============================] - 0s 2ms/step - loss: 0.4116 - accuracy: 0.9259 - val_loss: 0.4130 - val_accuracy: 0.8333\n",
      "Epoch 146/200\n",
      "11/11 [==============================] - 0s 2ms/step - loss: 0.4077 - accuracy: 0.9352 - val_loss: 0.4169 - val_accuracy: 0.8333\n",
      "Epoch 147/200\n",
      "11/11 [==============================] - 0s 2ms/step - loss: 0.4044 - accuracy: 0.9352 - val_loss: 0.4114 - val_accuracy: 0.8333\n",
      "Epoch 148/200\n",
      "11/11 [==============================] - 0s 2ms/step - loss: 0.4010 - accuracy: 0.9444 - val_loss: 0.4084 - val_accuracy: 0.8333\n",
      "Epoch 149/200\n",
      "11/11 [==============================] - 0s 2ms/step - loss: 0.3977 - accuracy: 0.9444 - val_loss: 0.4046 - val_accuracy: 0.8333\n",
      "Epoch 150/200\n",
      "11/11 [==============================] - 0s 2ms/step - loss: 0.3944 - accuracy: 0.9444 - val_loss: 0.4030 - val_accuracy: 0.8333\n",
      "Epoch 151/200\n",
      "11/11 [==============================] - 0s 2ms/step - loss: 0.3914 - accuracy: 0.9352 - val_loss: 0.3979 - val_accuracy: 0.8333\n",
      "Epoch 152/200\n",
      "11/11 [==============================] - 0s 2ms/step - loss: 0.3879 - accuracy: 0.9444 - val_loss: 0.3955 - val_accuracy: 0.8333\n",
      "Epoch 153/200\n",
      "11/11 [==============================] - 0s 2ms/step - loss: 0.3849 - accuracy: 0.9444 - val_loss: 0.3935 - val_accuracy: 0.8333\n",
      "Epoch 154/200\n",
      "11/11 [==============================] - 0s 2ms/step - loss: 0.3816 - accuracy: 0.9444 - val_loss: 0.3851 - val_accuracy: 0.8333\n",
      "Epoch 155/200\n",
      "11/11 [==============================] - 0s 2ms/step - loss: 0.3783 - accuracy: 0.9537 - val_loss: 0.3856 - val_accuracy: 0.8333\n",
      "Epoch 156/200\n",
      "11/11 [==============================] - 0s 2ms/step - loss: 0.3748 - accuracy: 0.9537 - val_loss: 0.3796 - val_accuracy: 0.8333\n",
      "Epoch 157/200\n",
      "11/11 [==============================] - 0s 2ms/step - loss: 0.3724 - accuracy: 0.9537 - val_loss: 0.3804 - val_accuracy: 0.8333\n",
      "Epoch 158/200\n",
      "11/11 [==============================] - 0s 2ms/step - loss: 0.3684 - accuracy: 0.9537 - val_loss: 0.3770 - val_accuracy: 0.8333\n",
      "Epoch 159/200\n",
      "11/11 [==============================] - 0s 2ms/step - loss: 0.3650 - accuracy: 0.9537 - val_loss: 0.3713 - val_accuracy: 0.8333\n",
      "Epoch 160/200\n",
      "11/11 [==============================] - 0s 2ms/step - loss: 0.3618 - accuracy: 0.9630 - val_loss: 0.3649 - val_accuracy: 0.8333\n",
      "Epoch 161/200\n",
      "11/11 [==============================] - 0s 2ms/step - loss: 0.3587 - accuracy: 0.9630 - val_loss: 0.3645 - val_accuracy: 0.8333\n",
      "Epoch 162/200\n",
      "11/11 [==============================] - 0s 2ms/step - loss: 0.3561 - accuracy: 0.9537 - val_loss: 0.3674 - val_accuracy: 0.8333\n",
      "Epoch 163/200\n",
      "11/11 [==============================] - 0s 2ms/step - loss: 0.3523 - accuracy: 0.9630 - val_loss: 0.3552 - val_accuracy: 0.9167\n",
      "Epoch 164/200\n",
      "11/11 [==============================] - 0s 2ms/step - loss: 0.3488 - accuracy: 0.9630 - val_loss: 0.3533 - val_accuracy: 0.9167\n",
      "Epoch 165/200\n",
      "11/11 [==============================] - 0s 2ms/step - loss: 0.3457 - accuracy: 0.9630 - val_loss: 0.3530 - val_accuracy: 0.8333\n",
      "Epoch 166/200\n",
      "11/11 [==============================] - 0s 2ms/step - loss: 0.3424 - accuracy: 0.9630 - val_loss: 0.3488 - val_accuracy: 0.9167\n",
      "Epoch 167/200\n",
      "11/11 [==============================] - 0s 2ms/step - loss: 0.3394 - accuracy: 0.9630 - val_loss: 0.3475 - val_accuracy: 0.9167\n",
      "Epoch 168/200\n",
      "11/11 [==============================] - 0s 2ms/step - loss: 0.3362 - accuracy: 0.9630 - val_loss: 0.3412 - val_accuracy: 0.9167\n",
      "Epoch 169/200\n",
      "11/11 [==============================] - 0s 2ms/step - loss: 0.3337 - accuracy: 0.9630 - val_loss: 0.3341 - val_accuracy: 0.9167\n",
      "Epoch 170/200\n",
      "11/11 [==============================] - 0s 2ms/step - loss: 0.3309 - accuracy: 0.9630 - val_loss: 0.3399 - val_accuracy: 0.9167\n",
      "Epoch 171/200\n",
      "11/11 [==============================] - 0s 2ms/step - loss: 0.3276 - accuracy: 0.9630 - val_loss: 0.3297 - val_accuracy: 0.9167\n",
      "Epoch 172/200\n",
      "11/11 [==============================] - 0s 2ms/step - loss: 0.3240 - accuracy: 0.9630 - val_loss: 0.3294 - val_accuracy: 0.9167\n",
      "Epoch 173/200\n"
     ]
    },
    {
     "name": "stdout",
     "output_type": "stream",
     "text": [
      "11/11 [==============================] - 0s 2ms/step - loss: 0.3208 - accuracy: 0.9630 - val_loss: 0.3277 - val_accuracy: 0.9167\n",
      "Epoch 174/200\n",
      "11/11 [==============================] - 0s 2ms/step - loss: 0.3178 - accuracy: 0.9630 - val_loss: 0.3226 - val_accuracy: 0.9167\n",
      "Epoch 175/200\n",
      "11/11 [==============================] - 0s 2ms/step - loss: 0.3146 - accuracy: 0.9630 - val_loss: 0.3194 - val_accuracy: 0.9167\n",
      "Epoch 176/200\n",
      "11/11 [==============================] - 0s 2ms/step - loss: 0.3121 - accuracy: 0.9630 - val_loss: 0.3169 - val_accuracy: 0.9167\n",
      "Epoch 177/200\n",
      "11/11 [==============================] - 0s 2ms/step - loss: 0.3087 - accuracy: 0.9630 - val_loss: 0.3144 - val_accuracy: 0.9167\n",
      "Epoch 178/200\n",
      "11/11 [==============================] - 0s 2ms/step - loss: 0.3062 - accuracy: 0.9630 - val_loss: 0.3147 - val_accuracy: 0.9167\n",
      "Epoch 179/200\n",
      "11/11 [==============================] - 0s 2ms/step - loss: 0.3029 - accuracy: 0.9630 - val_loss: 0.3035 - val_accuracy: 0.9167\n",
      "Epoch 180/200\n",
      "11/11 [==============================] - 0s 2ms/step - loss: 0.3011 - accuracy: 0.9630 - val_loss: 0.3067 - val_accuracy: 0.9167\n",
      "Epoch 181/200\n",
      "11/11 [==============================] - 0s 2ms/step - loss: 0.2977 - accuracy: 0.9630 - val_loss: 0.2982 - val_accuracy: 0.9167\n",
      "Epoch 182/200\n",
      "11/11 [==============================] - 0s 2ms/step - loss: 0.2946 - accuracy: 0.9630 - val_loss: 0.2974 - val_accuracy: 0.9167\n",
      "Epoch 183/200\n",
      "11/11 [==============================] - 0s 2ms/step - loss: 0.2923 - accuracy: 0.9630 - val_loss: 0.2943 - val_accuracy: 0.9167\n",
      "Epoch 184/200\n",
      "11/11 [==============================] - 0s 2ms/step - loss: 0.2892 - accuracy: 0.9630 - val_loss: 0.2972 - val_accuracy: 0.9167\n",
      "Epoch 185/200\n",
      "11/11 [==============================] - 0s 2ms/step - loss: 0.2862 - accuracy: 0.9630 - val_loss: 0.2881 - val_accuracy: 0.9167\n",
      "Epoch 186/200\n",
      "11/11 [==============================] - 0s 2ms/step - loss: 0.2850 - accuracy: 0.9630 - val_loss: 0.2916 - val_accuracy: 0.9167\n",
      "Epoch 187/200\n",
      "11/11 [==============================] - 0s 2ms/step - loss: 0.2805 - accuracy: 0.9630 - val_loss: 0.2822 - val_accuracy: 0.9167\n",
      "Epoch 188/200\n",
      "11/11 [==============================] - 0s 2ms/step - loss: 0.2791 - accuracy: 0.9630 - val_loss: 0.2735 - val_accuracy: 0.9167\n",
      "Epoch 189/200\n",
      "11/11 [==============================] - 0s 2ms/step - loss: 0.2776 - accuracy: 0.9630 - val_loss: 0.2844 - val_accuracy: 0.9167\n",
      "Epoch 190/200\n",
      "11/11 [==============================] - 0s 2ms/step - loss: 0.2735 - accuracy: 0.9630 - val_loss: 0.2803 - val_accuracy: 0.9167\n",
      "Epoch 191/200\n",
      "11/11 [==============================] - 0s 2ms/step - loss: 0.2732 - accuracy: 0.9630 - val_loss: 0.2692 - val_accuracy: 0.9167\n",
      "Epoch 192/200\n",
      "11/11 [==============================] - 0s 2ms/step - loss: 0.2680 - accuracy: 0.9630 - val_loss: 0.2722 - val_accuracy: 0.9167\n",
      "Epoch 193/200\n",
      "11/11 [==============================] - 0s 2ms/step - loss: 0.2660 - accuracy: 0.9630 - val_loss: 0.2730 - val_accuracy: 0.9167\n",
      "Epoch 194/200\n",
      "11/11 [==============================] - 0s 2ms/step - loss: 0.2637 - accuracy: 0.9630 - val_loss: 0.2701 - val_accuracy: 0.9167\n",
      "Epoch 195/200\n",
      "11/11 [==============================] - 0s 2ms/step - loss: 0.2619 - accuracy: 0.9630 - val_loss: 0.2553 - val_accuracy: 0.9167\n",
      "Epoch 196/200\n",
      "11/11 [==============================] - 0s 2ms/step - loss: 0.2585 - accuracy: 0.9722 - val_loss: 0.2561 - val_accuracy: 0.9167\n",
      "Epoch 197/200\n",
      "11/11 [==============================] - 0s 2ms/step - loss: 0.2560 - accuracy: 0.9630 - val_loss: 0.2614 - val_accuracy: 0.9167\n",
      "Epoch 198/200\n",
      "11/11 [==============================] - 0s 2ms/step - loss: 0.2541 - accuracy: 0.9630 - val_loss: 0.2621 - val_accuracy: 0.9167\n",
      "Epoch 199/200\n",
      "11/11 [==============================] - 0s 2ms/step - loss: 0.2523 - accuracy: 0.9630 - val_loss: 0.2608 - val_accuracy: 0.9167\n",
      "Epoch 200/200\n",
      "11/11 [==============================] - 0s 2ms/step - loss: 0.2507 - accuracy: 0.9630 - val_loss: 0.2409 - val_accuracy: 0.9167\n"
     ]
    }
   ],
   "source": [
    "#Apprentissage du même modèle sur les nouvelles données d'apprentissage\n",
    "history = model.fit(X_train, Y_train, epochs=200, batch_size=10,verbose=1, validation_split=0.1)"
   ]
  },
  {
   "cell_type": "code",
   "execution_count": 57,
   "metadata": {},
   "outputs": [
    {
     "data": {
      "image/png": "[encoded data removed]",
      "text/plain": [
       "<Figure size 1080x504 with 2 Axes>"
      ]
     },
     "metadata": {},
     "output_type": "display_data"
    }
   ],
   "source": [
    "plt.figure(figsize=(15,7))\n",
    "ax1 = plt.subplot(1,2,1)\n",
    "ax1.plot(history.history['loss'], color='b', label='Training Loss') \n",
    "ax1.plot(history.history['val_loss'], color='r', label = 'Validation Loss',axes=ax1)\n",
    "legend = ax1.legend(loc='best', shadow=True)\n",
    "ax2 = plt.subplot(1,2,2)\n",
    "ax2.plot(history.history['accuracy'], color='b', label='Training Accuracy') \n",
    "ax2.plot(history.history['val_accuracy'], color='r', label = 'Validation Accuracy')\n",
    "legend = ax2.legend(loc='best', shadow=True)"
   ]
  },
  {
   "cell_type": "code",
   "execution_count": 33,
   "metadata": {},
   "outputs": [
    {
     "name": "stdout",
     "output_type": "stream",
     "text": [
      "1/1 [==============================] - 0s 731us/step - loss: 0.2868 - accuracy: 0.9333\n"
     ]
    }
   ],
   "source": [
    "evaluation = model.evaluate(X_test,Y_test)"
   ]
  },
  {
   "cell_type": "code",
   "execution_count": 58,
   "metadata": {},
   "outputs": [
    {
     "name": "stdout",
     "output_type": "stream",
     "text": [
      "Accuracy: 93.3\n",
      "Loss: 17.8\n"
     ]
    }
   ],
   "source": [
    "print(\"Accuracy: %.1f\" % (evaluation[1]*100))\n",
    "print(\"Loss: %.1f\" % (evaluation[0]*100))"
   ]
  },
  {
   "cell_type": "raw",
   "metadata": {},
   "source": [
    "La loss reste élevée. Je test d'autres fonctions d'activation"
   ]
  },
  {
   "cell_type": "code",
   "execution_count": 59,
   "metadata": {},
   "outputs": [],
   "source": [
    "model = Sequential()\n",
    "model.add(Dense(10,input_shape=(4,),activation='tanh'))\n",
    "model.add(Dense(8,activation='tanh'))\n",
    "model.add(Dense(6,activation='tanh'))\n",
    "model.add(Dense(3,activation='softmax'))"
   ]
  },
  {
   "cell_type": "code",
   "execution_count": 60,
   "metadata": {},
   "outputs": [],
   "source": [
    "model.compile(loss = 'categorical_crossentropy', optimizer = 'adam', metrics = ['accuracy'])"
   ]
  },
  {
   "cell_type": "code",
   "execution_count": 61,
   "metadata": {},
   "outputs": [
    {
     "name": "stdout",
     "output_type": "stream",
     "text": [
      "Epoch 1/200\n",
      "11/11 [==============================] - 0s 10ms/step - loss: 1.1348 - accuracy: 0.3889 - val_loss: 1.1839 - val_accuracy: 0.1667\n",
      "Epoch 2/200\n",
      "11/11 [==============================] - 0s 2ms/step - loss: 1.0944 - accuracy: 0.3889 - val_loss: 1.1575 - val_accuracy: 0.1667\n",
      "Epoch 3/200\n",
      "11/11 [==============================] - 0s 2ms/step - loss: 1.0655 - accuracy: 0.3889 - val_loss: 1.1209 - val_accuracy: 0.1667\n",
      "Epoch 4/200\n",
      "11/11 [==============================] - 0s 2ms/step - loss: 1.0473 - accuracy: 0.3889 - val_loss: 1.0940 - val_accuracy: 0.1667\n",
      "Epoch 5/200\n",
      "11/11 [==============================] - 0s 2ms/step - loss: 1.0200 - accuracy: 0.4352 - val_loss: 1.0775 - val_accuracy: 0.2500\n",
      "Epoch 6/200\n",
      "11/11 [==============================] - 0s 2ms/step - loss: 0.9872 - accuracy: 0.6389 - val_loss: 1.0555 - val_accuracy: 0.5833\n",
      "Epoch 7/200\n",
      "11/11 [==============================] - 0s 3ms/step - loss: 0.9548 - accuracy: 0.6944 - val_loss: 1.0365 - val_accuracy: 0.5833\n",
      "Epoch 8/200\n",
      "11/11 [==============================] - 0s 2ms/step - loss: 0.9162 - accuracy: 0.6944 - val_loss: 0.9929 - val_accuracy: 0.5833\n",
      "Epoch 9/200\n",
      "11/11 [==============================] - 0s 2ms/step - loss: 0.8787 - accuracy: 0.6944 - val_loss: 0.9511 - val_accuracy: 0.5833\n",
      "Epoch 10/200\n",
      "11/11 [==============================] - 0s 2ms/step - loss: 0.8414 - accuracy: 0.7037 - val_loss: 0.9131 - val_accuracy: 0.5833\n",
      "Epoch 11/200\n",
      "11/11 [==============================] - 0s 2ms/step - loss: 0.8048 - accuracy: 0.7037 - val_loss: 0.8776 - val_accuracy: 0.5833\n",
      "Epoch 12/200\n",
      "11/11 [==============================] - 0s 3ms/step - loss: 0.7709 - accuracy: 0.7037 - val_loss: 0.8356 - val_accuracy: 0.5833\n",
      "Epoch 13/200\n",
      "11/11 [==============================] - 0s 2ms/step - loss: 0.7371 - accuracy: 0.7037 - val_loss: 0.8113 - val_accuracy: 0.5833\n",
      "Epoch 14/200\n",
      "11/11 [==============================] - 0s 2ms/step - loss: 0.7069 - accuracy: 0.7037 - val_loss: 0.7733 - val_accuracy: 0.5833\n",
      "Epoch 15/200\n",
      "11/11 [==============================] - 0s 2ms/step - loss: 0.6783 - accuracy: 0.7222 - val_loss: 0.7403 - val_accuracy: 0.5833\n",
      "Epoch 16/200\n",
      "11/11 [==============================] - 0s 2ms/step - loss: 0.6530 - accuracy: 0.7315 - val_loss: 0.7003 - val_accuracy: 0.5833\n",
      "Epoch 17/200\n",
      "11/11 [==============================] - 0s 3ms/step - loss: 0.6274 - accuracy: 0.7315 - val_loss: 0.6851 - val_accuracy: 0.5833\n",
      "Epoch 18/200\n",
      "11/11 [==============================] - 0s 3ms/step - loss: 0.6031 - accuracy: 0.7315 - val_loss: 0.6488 - val_accuracy: 0.6667\n",
      "Epoch 19/200\n",
      "11/11 [==============================] - 0s 3ms/step - loss: 0.5828 - accuracy: 0.7685 - val_loss: 0.6109 - val_accuracy: 0.6667\n",
      "Epoch 20/200\n",
      "11/11 [==============================] - 0s 3ms/step - loss: 0.5598 - accuracy: 0.7593 - val_loss: 0.6046 - val_accuracy: 0.6667\n",
      "Epoch 21/200\n",
      "11/11 [==============================] - 0s 3ms/step - loss: 0.5402 - accuracy: 0.7593 - val_loss: 0.5709 - val_accuracy: 0.6667\n",
      "Epoch 22/200\n",
      "11/11 [==============================] - 0s 3ms/step - loss: 0.5227 - accuracy: 0.8056 - val_loss: 0.5372 - val_accuracy: 0.7500\n",
      "Epoch 23/200\n",
      "11/11 [==============================] - 0s 3ms/step - loss: 0.5048 - accuracy: 0.8519 - val_loss: 0.5247 - val_accuracy: 0.7500\n",
      "Epoch 24/200\n",
      "11/11 [==============================] - 0s 3ms/step - loss: 0.4910 - accuracy: 0.8611 - val_loss: 0.5045 - val_accuracy: 0.7500\n",
      "Epoch 25/200\n",
      "11/11 [==============================] - 0s 3ms/step - loss: 0.4757 - accuracy: 0.8611 - val_loss: 0.4989 - val_accuracy: 0.7500\n",
      "Epoch 26/200\n",
      "11/11 [==============================] - 0s 3ms/step - loss: 0.4626 - accuracy: 0.8796 - val_loss: 0.4680 - val_accuracy: 0.8333\n",
      "Epoch 27/200\n",
      "11/11 [==============================] - 0s 3ms/step - loss: 0.4524 - accuracy: 0.8796 - val_loss: 0.4692 - val_accuracy: 0.7500\n",
      "Epoch 28/200\n",
      "11/11 [==============================] - 0s 3ms/step - loss: 0.4406 - accuracy: 0.9259 - val_loss: 0.4330 - val_accuracy: 0.9167\n",
      "Epoch 29/200\n",
      "11/11 [==============================] - 0s 3ms/step - loss: 0.4254 - accuracy: 0.9259 - val_loss: 0.4401 - val_accuracy: 0.8333\n",
      "Epoch 30/200\n",
      "11/11 [==============================] - 0s 2ms/step - loss: 0.4170 - accuracy: 0.8889 - val_loss: 0.4284 - val_accuracy: 0.8333\n",
      "Epoch 31/200\n",
      "11/11 [==============================] - 0s 3ms/step - loss: 0.4046 - accuracy: 0.9259 - val_loss: 0.3991 - val_accuracy: 0.9167\n",
      "Epoch 32/200\n",
      "11/11 [==============================] - 0s 2ms/step - loss: 0.3938 - accuracy: 0.9444 - val_loss: 0.4018 - val_accuracy: 0.8333\n",
      "Epoch 33/200\n",
      "11/11 [==============================] - 0s 2ms/step - loss: 0.3828 - accuracy: 0.9352 - val_loss: 0.3889 - val_accuracy: 0.8333\n",
      "Epoch 34/200\n",
      "11/11 [==============================] - 0s 2ms/step - loss: 0.3733 - accuracy: 0.9444 - val_loss: 0.3748 - val_accuracy: 0.9167\n",
      "Epoch 35/200\n",
      "11/11 [==============================] - 0s 3ms/step - loss: 0.3632 - accuracy: 0.9537 - val_loss: 0.3592 - val_accuracy: 0.9167\n",
      "Epoch 36/200\n",
      "11/11 [==============================] - 0s 3ms/step - loss: 0.3534 - accuracy: 0.9537 - val_loss: 0.3569 - val_accuracy: 0.9167\n",
      "Epoch 37/200\n",
      "11/11 [==============================] - 0s 3ms/step - loss: 0.3437 - accuracy: 0.9537 - val_loss: 0.3488 - val_accuracy: 0.9167\n",
      "Epoch 38/200\n",
      "11/11 [==============================] - 0s 2ms/step - loss: 0.3362 - accuracy: 0.9444 - val_loss: 0.3436 - val_accuracy: 0.8333\n",
      "Epoch 39/200\n",
      "11/11 [==============================] - 0s 2ms/step - loss: 0.3290 - accuracy: 0.9537 - val_loss: 0.3233 - val_accuracy: 0.9167\n",
      "Epoch 40/200\n",
      "11/11 [==============================] - 0s 2ms/step - loss: 0.3168 - accuracy: 0.9630 - val_loss: 0.3305 - val_accuracy: 0.8333\n",
      "Epoch 41/200\n",
      "11/11 [==============================] - 0s 3ms/step - loss: 0.3098 - accuracy: 0.9630 - val_loss: 0.3027 - val_accuracy: 0.9167\n",
      "Epoch 42/200\n",
      "11/11 [==============================] - 0s 3ms/step - loss: 0.3008 - accuracy: 0.9537 - val_loss: 0.3098 - val_accuracy: 0.9167\n",
      "Epoch 43/200\n",
      "11/11 [==============================] - 0s 2ms/step - loss: 0.2931 - accuracy: 0.9630 - val_loss: 0.2962 - val_accuracy: 0.9167\n",
      "Epoch 44/200\n",
      "11/11 [==============================] - 0s 2ms/step - loss: 0.2842 - accuracy: 0.9630 - val_loss: 0.2856 - val_accuracy: 0.9167\n",
      "Epoch 45/200\n",
      "11/11 [==============================] - 0s 3ms/step - loss: 0.2761 - accuracy: 0.9630 - val_loss: 0.2704 - val_accuracy: 0.9167\n",
      "Epoch 46/200\n",
      "11/11 [==============================] - 0s 2ms/step - loss: 0.2689 - accuracy: 0.9630 - val_loss: 0.2632 - val_accuracy: 0.9167\n",
      "Epoch 47/200\n",
      "11/11 [==============================] - 0s 2ms/step - loss: 0.2611 - accuracy: 0.9630 - val_loss: 0.2755 - val_accuracy: 0.8333\n",
      "Epoch 48/200\n",
      "11/11 [==============================] - 0s 3ms/step - loss: 0.2535 - accuracy: 0.9630 - val_loss: 0.2471 - val_accuracy: 0.9167\n",
      "Epoch 49/200\n",
      "11/11 [==============================] - 0s 2ms/step - loss: 0.2474 - accuracy: 0.9630 - val_loss: 0.2404 - val_accuracy: 0.9167\n",
      "Epoch 50/200\n",
      "11/11 [==============================] - 0s 2ms/step - loss: 0.2408 - accuracy: 0.9630 - val_loss: 0.2355 - val_accuracy: 0.9167\n",
      "Epoch 51/200\n",
      "11/11 [==============================] - 0s 3ms/step - loss: 0.2338 - accuracy: 0.9630 - val_loss: 0.2335 - val_accuracy: 0.9167\n",
      "Epoch 52/200\n",
      "11/11 [==============================] - 0s 2ms/step - loss: 0.2290 - accuracy: 0.9630 - val_loss: 0.2147 - val_accuracy: 1.0000\n",
      "Epoch 53/200\n",
      "11/11 [==============================] - 0s 2ms/step - loss: 0.2233 - accuracy: 0.9722 - val_loss: 0.2183 - val_accuracy: 1.0000\n",
      "Epoch 54/200\n",
      "11/11 [==============================] - 0s 2ms/step - loss: 0.2164 - accuracy: 0.9630 - val_loss: 0.2304 - val_accuracy: 0.8333\n",
      "Epoch 55/200\n",
      "11/11 [==============================] - 0s 2ms/step - loss: 0.2119 - accuracy: 0.9630 - val_loss: 0.2158 - val_accuracy: 1.0000\n",
      "Epoch 56/200\n",
      "11/11 [==============================] - 0s 2ms/step - loss: 0.2085 - accuracy: 0.9630 - val_loss: 0.1915 - val_accuracy: 1.0000\n",
      "Epoch 57/200\n",
      "11/11 [==============================] - 0s 2ms/step - loss: 0.2042 - accuracy: 0.9630 - val_loss: 0.2132 - val_accuracy: 0.9167\n",
      "Epoch 58/200\n",
      "11/11 [==============================] - 0s 2ms/step - loss: 0.1970 - accuracy: 0.9722 - val_loss: 0.1813 - val_accuracy: 1.0000\n"
     ]
    },
    {
     "name": "stdout",
     "output_type": "stream",
     "text": [
      "Epoch 59/200\n",
      "11/11 [==============================] - 0s 3ms/step - loss: 0.1914 - accuracy: 0.9722 - val_loss: 0.1826 - val_accuracy: 1.0000\n",
      "Epoch 60/200\n",
      "11/11 [==============================] - 0s 2ms/step - loss: 0.1915 - accuracy: 0.9630 - val_loss: 0.1877 - val_accuracy: 1.0000\n",
      "Epoch 61/200\n",
      "11/11 [==============================] - 0s 2ms/step - loss: 0.1871 - accuracy: 0.9722 - val_loss: 0.1688 - val_accuracy: 1.0000\n",
      "Epoch 62/200\n",
      "11/11 [==============================] - 0s 2ms/step - loss: 0.1808 - accuracy: 0.9630 - val_loss: 0.1831 - val_accuracy: 1.0000\n",
      "Epoch 63/200\n",
      "11/11 [==============================] - 0s 2ms/step - loss: 0.1775 - accuracy: 0.9722 - val_loss: 0.1595 - val_accuracy: 1.0000\n",
      "Epoch 64/200\n",
      "11/11 [==============================] - 0s 2ms/step - loss: 0.1709 - accuracy: 0.9722 - val_loss: 0.1691 - val_accuracy: 1.0000\n",
      "Epoch 65/200\n",
      "11/11 [==============================] - 0s 2ms/step - loss: 0.1702 - accuracy: 0.9630 - val_loss: 0.1658 - val_accuracy: 1.0000\n",
      "Epoch 66/200\n",
      "11/11 [==============================] - 0s 2ms/step - loss: 0.1650 - accuracy: 0.9722 - val_loss: 0.1348 - val_accuracy: 1.0000\n",
      "Epoch 67/200\n",
      "11/11 [==============================] - 0s 2ms/step - loss: 0.1642 - accuracy: 0.9722 - val_loss: 0.1622 - val_accuracy: 1.0000\n",
      "Epoch 68/200\n",
      "11/11 [==============================] - 0s 2ms/step - loss: 0.1601 - accuracy: 0.9722 - val_loss: 0.1499 - val_accuracy: 1.0000\n",
      "Epoch 69/200\n",
      "11/11 [==============================] - 0s 2ms/step - loss: 0.1614 - accuracy: 0.9630 - val_loss: 0.1323 - val_accuracy: 1.0000\n",
      "Epoch 70/200\n",
      "11/11 [==============================] - 0s 2ms/step - loss: 0.1626 - accuracy: 0.9630 - val_loss: 0.1688 - val_accuracy: 0.9167\n",
      "Epoch 71/200\n",
      "11/11 [==============================] - 0s 2ms/step - loss: 0.1478 - accuracy: 0.9722 - val_loss: 0.1273 - val_accuracy: 1.0000\n",
      "Epoch 72/200\n",
      "11/11 [==============================] - 0s 2ms/step - loss: 0.1566 - accuracy: 0.9444 - val_loss: 0.1232 - val_accuracy: 1.0000\n",
      "Epoch 73/200\n",
      "11/11 [==============================] - 0s 2ms/step - loss: 0.1462 - accuracy: 0.9722 - val_loss: 0.1496 - val_accuracy: 0.9167\n",
      "Epoch 74/200\n",
      "11/11 [==============================] - 0s 2ms/step - loss: 0.1441 - accuracy: 0.9630 - val_loss: 0.1224 - val_accuracy: 1.0000\n",
      "Epoch 75/200\n",
      "11/11 [==============================] - 0s 2ms/step - loss: 0.1408 - accuracy: 0.9722 - val_loss: 0.1112 - val_accuracy: 1.0000\n",
      "Epoch 76/200\n",
      "11/11 [==============================] - 0s 2ms/step - loss: 0.1378 - accuracy: 0.9722 - val_loss: 0.1265 - val_accuracy: 1.0000\n",
      "Epoch 77/200\n",
      "11/11 [==============================] - 0s 2ms/step - loss: 0.1440 - accuracy: 0.9630 - val_loss: 0.1390 - val_accuracy: 0.9167\n",
      "Epoch 78/200\n",
      "11/11 [==============================] - 0s 2ms/step - loss: 0.1325 - accuracy: 0.9722 - val_loss: 0.0905 - val_accuracy: 1.0000\n",
      "Epoch 79/200\n",
      "11/11 [==============================] - 0s 2ms/step - loss: 0.1363 - accuracy: 0.9722 - val_loss: 0.1346 - val_accuracy: 0.9167\n",
      "Epoch 80/200\n",
      "11/11 [==============================] - 0s 3ms/step - loss: 0.1350 - accuracy: 0.9630 - val_loss: 0.1160 - val_accuracy: 1.0000\n",
      "Epoch 81/200\n",
      "11/11 [==============================] - 0s 2ms/step - loss: 0.1313 - accuracy: 0.9722 - val_loss: 0.1005 - val_accuracy: 1.0000\n",
      "Epoch 82/200\n",
      "11/11 [==============================] - 0s 3ms/step - loss: 0.1280 - accuracy: 0.9722 - val_loss: 0.1231 - val_accuracy: 0.9167\n",
      "Epoch 83/200\n",
      "11/11 [==============================] - 0s 2ms/step - loss: 0.1258 - accuracy: 0.9722 - val_loss: 0.0902 - val_accuracy: 1.0000\n",
      "Epoch 84/200\n",
      "11/11 [==============================] - 0s 2ms/step - loss: 0.1273 - accuracy: 0.9815 - val_loss: 0.1053 - val_accuracy: 1.0000\n",
      "Epoch 85/200\n",
      "11/11 [==============================] - 0s 3ms/step - loss: 0.1288 - accuracy: 0.9630 - val_loss: 0.1279 - val_accuracy: 0.9167\n",
      "Epoch 86/200\n",
      "11/11 [==============================] - 0s 3ms/step - loss: 0.1232 - accuracy: 0.9722 - val_loss: 0.0835 - val_accuracy: 1.0000\n",
      "Epoch 87/200\n",
      "11/11 [==============================] - 0s 2ms/step - loss: 0.1200 - accuracy: 0.9722 - val_loss: 0.0985 - val_accuracy: 1.0000\n",
      "Epoch 88/200\n",
      "11/11 [==============================] - 0s 2ms/step - loss: 0.1345 - accuracy: 0.9630 - val_loss: 0.1517 - val_accuracy: 0.9167\n",
      "Epoch 89/200\n",
      "11/11 [==============================] - 0s 2ms/step - loss: 0.1377 - accuracy: 0.9444 - val_loss: 0.0684 - val_accuracy: 1.0000\n",
      "Epoch 90/200\n",
      "11/11 [==============================] - 0s 2ms/step - loss: 0.1135 - accuracy: 0.9815 - val_loss: 0.1364 - val_accuracy: 0.9167\n",
      "Epoch 91/200\n",
      "11/11 [==============================] - 0s 2ms/step - loss: 0.1207 - accuracy: 0.9630 - val_loss: 0.1221 - val_accuracy: 0.9167\n",
      "Epoch 92/200\n",
      "11/11 [==============================] - 0s 2ms/step - loss: 0.1113 - accuracy: 0.9815 - val_loss: 0.0780 - val_accuracy: 1.0000\n",
      "Epoch 93/200\n",
      "11/11 [==============================] - 0s 2ms/step - loss: 0.1133 - accuracy: 0.9815 - val_loss: 0.0811 - val_accuracy: 1.0000\n",
      "Epoch 94/200\n",
      "11/11 [==============================] - 0s 2ms/step - loss: 0.1097 - accuracy: 0.9815 - val_loss: 0.1173 - val_accuracy: 0.9167\n",
      "Epoch 95/200\n",
      "11/11 [==============================] - 0s 2ms/step - loss: 0.1099 - accuracy: 0.9722 - val_loss: 0.0914 - val_accuracy: 1.0000\n",
      "Epoch 96/200\n",
      "11/11 [==============================] - 0s 2ms/step - loss: 0.1118 - accuracy: 0.9722 - val_loss: 0.0853 - val_accuracy: 1.0000\n",
      "Epoch 97/200\n",
      "11/11 [==============================] - 0s 2ms/step - loss: 0.1033 - accuracy: 0.9722 - val_loss: 0.1085 - val_accuracy: 0.9167\n",
      "Epoch 98/200\n",
      "11/11 [==============================] - 0s 2ms/step - loss: 0.1078 - accuracy: 0.9722 - val_loss: 0.0972 - val_accuracy: 1.0000\n",
      "Epoch 99/200\n",
      "11/11 [==============================] - 0s 2ms/step - loss: 0.1072 - accuracy: 0.9722 - val_loss: 0.0923 - val_accuracy: 1.0000\n",
      "Epoch 100/200\n",
      "11/11 [==============================] - 0s 2ms/step - loss: 0.1037 - accuracy: 0.9722 - val_loss: 0.0940 - val_accuracy: 1.0000\n",
      "Epoch 101/200\n",
      "11/11 [==============================] - 0s 2ms/step - loss: 0.1009 - accuracy: 0.9815 - val_loss: 0.0803 - val_accuracy: 1.0000\n",
      "Epoch 102/200\n",
      "11/11 [==============================] - 0s 2ms/step - loss: 0.1019 - accuracy: 0.9815 - val_loss: 0.0835 - val_accuracy: 1.0000\n",
      "Epoch 103/200\n",
      "11/11 [==============================] - 0s 2ms/step - loss: 0.0991 - accuracy: 0.9815 - val_loss: 0.0757 - val_accuracy: 1.0000\n",
      "Epoch 104/200\n",
      "11/11 [==============================] - 0s 2ms/step - loss: 0.0998 - accuracy: 0.9722 - val_loss: 0.0906 - val_accuracy: 1.0000\n",
      "Epoch 105/200\n",
      "11/11 [==============================] - 0s 2ms/step - loss: 0.0980 - accuracy: 0.9815 - val_loss: 0.0873 - val_accuracy: 1.0000\n",
      "Epoch 106/200\n",
      "11/11 [==============================] - 0s 2ms/step - loss: 0.0979 - accuracy: 0.9815 - val_loss: 0.0726 - val_accuracy: 1.0000\n",
      "Epoch 107/200\n",
      "11/11 [==============================] - 0s 2ms/step - loss: 0.0985 - accuracy: 0.9815 - val_loss: 0.0903 - val_accuracy: 0.9167\n",
      "Epoch 108/200\n",
      "11/11 [==============================] - 0s 2ms/step - loss: 0.0978 - accuracy: 0.9815 - val_loss: 0.0723 - val_accuracy: 1.0000\n",
      "Epoch 109/200\n",
      "11/11 [==============================] - 0s 3ms/step - loss: 0.0964 - accuracy: 0.9815 - val_loss: 0.1008 - val_accuracy: 0.9167\n",
      "Epoch 110/200\n",
      "11/11 [==============================] - 0s 3ms/step - loss: 0.1025 - accuracy: 0.9722 - val_loss: 0.0713 - val_accuracy: 1.0000\n",
      "Epoch 111/200\n",
      "11/11 [==============================] - 0s 3ms/step - loss: 0.0932 - accuracy: 0.9815 - val_loss: 0.1020 - val_accuracy: 0.9167\n",
      "Epoch 112/200\n",
      "11/11 [==============================] - 0s 3ms/step - loss: 0.0921 - accuracy: 0.9815 - val_loss: 0.0755 - val_accuracy: 1.0000\n",
      "Epoch 113/200\n",
      "11/11 [==============================] - 0s 3ms/step - loss: 0.0919 - accuracy: 0.9815 - val_loss: 0.0717 - val_accuracy: 1.0000\n",
      "Epoch 114/200\n",
      "11/11 [==============================] - 0s 2ms/step - loss: 0.0942 - accuracy: 0.9815 - val_loss: 0.1061 - val_accuracy: 0.9167\n",
      "Epoch 115/200\n",
      "11/11 [==============================] - 0s 3ms/step - loss: 0.0947 - accuracy: 0.9815 - val_loss: 0.0620 - val_accuracy: 1.0000\n",
      "Epoch 116/200\n"
     ]
    },
    {
     "name": "stdout",
     "output_type": "stream",
     "text": [
      "11/11 [==============================] - 0s 3ms/step - loss: 0.0885 - accuracy: 0.9815 - val_loss: 0.0954 - val_accuracy: 0.9167\n",
      "Epoch 117/200\n",
      "11/11 [==============================] - 0s 3ms/step - loss: 0.0955 - accuracy: 0.9722 - val_loss: 0.1184 - val_accuracy: 0.9167\n",
      "Epoch 118/200\n",
      "11/11 [==============================] - 0s 4ms/step - loss: 0.0995 - accuracy: 0.9815 - val_loss: 0.0681 - val_accuracy: 1.0000\n",
      "Epoch 119/200\n",
      "11/11 [==============================] - 0s 3ms/step - loss: 0.0862 - accuracy: 0.9815 - val_loss: 0.0918 - val_accuracy: 0.9167\n",
      "Epoch 120/200\n",
      "11/11 [==============================] - 0s 3ms/step - loss: 0.0879 - accuracy: 0.9815 - val_loss: 0.1035 - val_accuracy: 0.9167\n",
      "Epoch 121/200\n",
      "11/11 [==============================] - 0s 3ms/step - loss: 0.0866 - accuracy: 0.9815 - val_loss: 0.0811 - val_accuracy: 1.0000\n",
      "Epoch 122/200\n",
      "11/11 [==============================] - 0s 2ms/step - loss: 0.0850 - accuracy: 0.9815 - val_loss: 0.0855 - val_accuracy: 0.9167\n",
      "Epoch 123/200\n",
      "11/11 [==============================] - 0s 2ms/step - loss: 0.0869 - accuracy: 0.9815 - val_loss: 0.1018 - val_accuracy: 0.9167\n",
      "Epoch 124/200\n",
      "11/11 [==============================] - 0s 2ms/step - loss: 0.0900 - accuracy: 0.9722 - val_loss: 0.0650 - val_accuracy: 1.0000\n",
      "Epoch 125/200\n",
      "11/11 [==============================] - 0s 2ms/step - loss: 0.0856 - accuracy: 0.9815 - val_loss: 0.1187 - val_accuracy: 0.9167\n",
      "Epoch 126/200\n",
      "11/11 [==============================] - 0s 2ms/step - loss: 0.0838 - accuracy: 0.9815 - val_loss: 0.0698 - val_accuracy: 1.0000\n",
      "Epoch 127/200\n",
      "11/11 [==============================] - 0s 2ms/step - loss: 0.0864 - accuracy: 0.9815 - val_loss: 0.0958 - val_accuracy: 0.9167\n",
      "Epoch 128/200\n",
      "11/11 [==============================] - 0s 2ms/step - loss: 0.0890 - accuracy: 0.9815 - val_loss: 0.0914 - val_accuracy: 0.9167\n",
      "Epoch 129/200\n",
      "11/11 [==============================] - 0s 2ms/step - loss: 0.0871 - accuracy: 0.9815 - val_loss: 0.1203 - val_accuracy: 0.9167\n",
      "Epoch 130/200\n",
      "11/11 [==============================] - 0s 2ms/step - loss: 0.0844 - accuracy: 0.9722 - val_loss: 0.0599 - val_accuracy: 1.0000\n",
      "Epoch 131/200\n",
      "11/11 [==============================] - 0s 2ms/step - loss: 0.0872 - accuracy: 0.9815 - val_loss: 0.1012 - val_accuracy: 0.9167\n",
      "Epoch 132/200\n",
      "11/11 [==============================] - 0s 2ms/step - loss: 0.0808 - accuracy: 0.9815 - val_loss: 0.0561 - val_accuracy: 1.0000\n",
      "Epoch 133/200\n",
      "11/11 [==============================] - 0s 2ms/step - loss: 0.0830 - accuracy: 0.9815 - val_loss: 0.1058 - val_accuracy: 0.9167\n",
      "Epoch 134/200\n",
      "11/11 [==============================] - 0s 2ms/step - loss: 0.0876 - accuracy: 0.9722 - val_loss: 0.1166 - val_accuracy: 0.9167\n",
      "Epoch 135/200\n",
      "11/11 [==============================] - 0s 2ms/step - loss: 0.0800 - accuracy: 0.9815 - val_loss: 0.0615 - val_accuracy: 1.0000\n",
      "Epoch 136/200\n",
      "11/11 [==============================] - 0s 2ms/step - loss: 0.0774 - accuracy: 0.9815 - val_loss: 0.1077 - val_accuracy: 0.9167\n",
      "Epoch 137/200\n",
      "11/11 [==============================] - 0s 2ms/step - loss: 0.0855 - accuracy: 0.9815 - val_loss: 0.1039 - val_accuracy: 0.9167\n",
      "Epoch 138/200\n",
      "11/11 [==============================] - 0s 2ms/step - loss: 0.0891 - accuracy: 0.9630 - val_loss: 0.0534 - val_accuracy: 1.0000\n",
      "Epoch 139/200\n",
      "11/11 [==============================] - 0s 2ms/step - loss: 0.0808 - accuracy: 0.9815 - val_loss: 0.1093 - val_accuracy: 0.9167\n",
      "Epoch 140/200\n",
      "11/11 [==============================] - 0s 2ms/step - loss: 0.0800 - accuracy: 0.9815 - val_loss: 0.0951 - val_accuracy: 0.9167\n",
      "Epoch 141/200\n",
      "11/11 [==============================] - 0s 3ms/step - loss: 0.0757 - accuracy: 0.9815 - val_loss: 0.0987 - val_accuracy: 0.9167\n",
      "Epoch 142/200\n",
      "11/11 [==============================] - 0s 2ms/step - loss: 0.0744 - accuracy: 0.9815 - val_loss: 0.0793 - val_accuracy: 0.9167\n",
      "Epoch 143/200\n",
      "11/11 [==============================] - 0s 3ms/step - loss: 0.0792 - accuracy: 0.9722 - val_loss: 0.0741 - val_accuracy: 1.0000\n",
      "Epoch 144/200\n",
      "11/11 [==============================] - 0s 2ms/step - loss: 0.0777 - accuracy: 0.9815 - val_loss: 0.1263 - val_accuracy: 0.9167\n",
      "Epoch 145/200\n",
      "11/11 [==============================] - 0s 3ms/step - loss: 0.0750 - accuracy: 0.9815 - val_loss: 0.0678 - val_accuracy: 1.0000\n",
      "Epoch 146/200\n",
      "11/11 [==============================] - 0s 2ms/step - loss: 0.0758 - accuracy: 0.9722 - val_loss: 0.0871 - val_accuracy: 0.9167\n",
      "Epoch 147/200\n",
      "11/11 [==============================] - 0s 3ms/step - loss: 0.0725 - accuracy: 0.9815 - val_loss: 0.0906 - val_accuracy: 0.9167\n",
      "Epoch 148/200\n",
      "11/11 [==============================] - 0s 2ms/step - loss: 0.0716 - accuracy: 0.9815 - val_loss: 0.0810 - val_accuracy: 0.9167\n",
      "Epoch 149/200\n",
      "11/11 [==============================] - 0s 2ms/step - loss: 0.0735 - accuracy: 0.9815 - val_loss: 0.0822 - val_accuracy: 0.9167\n",
      "Epoch 150/200\n",
      "11/11 [==============================] - 0s 2ms/step - loss: 0.0731 - accuracy: 0.9815 - val_loss: 0.0824 - val_accuracy: 0.9167\n",
      "Epoch 151/200\n",
      "11/11 [==============================] - 0s 2ms/step - loss: 0.0746 - accuracy: 0.9722 - val_loss: 0.0934 - val_accuracy: 0.9167\n",
      "Epoch 152/200\n",
      "11/11 [==============================] - 0s 2ms/step - loss: 0.0731 - accuracy: 0.9815 - val_loss: 0.1265 - val_accuracy: 0.9167\n",
      "Epoch 153/200\n",
      "11/11 [==============================] - 0s 2ms/step - loss: 0.0707 - accuracy: 0.9815 - val_loss: 0.0688 - val_accuracy: 1.0000\n",
      "Epoch 154/200\n",
      "11/11 [==============================] - 0s 2ms/step - loss: 0.0734 - accuracy: 0.9815 - val_loss: 0.0820 - val_accuracy: 0.9167\n",
      "Epoch 155/200\n",
      "11/11 [==============================] - 0s 2ms/step - loss: 0.0702 - accuracy: 0.9815 - val_loss: 0.1026 - val_accuracy: 0.9167\n",
      "Epoch 156/200\n",
      "11/11 [==============================] - 0s 2ms/step - loss: 0.0708 - accuracy: 0.9815 - val_loss: 0.0912 - val_accuracy: 0.9167\n",
      "Epoch 157/200\n",
      "11/11 [==============================] - 0s 2ms/step - loss: 0.0684 - accuracy: 0.9815 - val_loss: 0.0734 - val_accuracy: 0.9167\n",
      "Epoch 158/200\n",
      "11/11 [==============================] - 0s 2ms/step - loss: 0.0705 - accuracy: 0.9815 - val_loss: 0.0825 - val_accuracy: 0.9167\n",
      "Epoch 159/200\n",
      "11/11 [==============================] - 0s 2ms/step - loss: 0.0679 - accuracy: 0.9815 - val_loss: 0.0985 - val_accuracy: 0.9167\n",
      "Epoch 160/200\n",
      "11/11 [==============================] - 0s 2ms/step - loss: 0.0684 - accuracy: 0.9815 - val_loss: 0.0987 - val_accuracy: 0.9167\n",
      "Epoch 161/200\n",
      "11/11 [==============================] - 0s 2ms/step - loss: 0.0678 - accuracy: 0.9815 - val_loss: 0.0795 - val_accuracy: 0.9167\n",
      "Epoch 162/200\n",
      "11/11 [==============================] - 0s 2ms/step - loss: 0.0705 - accuracy: 0.9815 - val_loss: 0.0922 - val_accuracy: 0.9167\n",
      "Epoch 163/200\n",
      "11/11 [==============================] - 0s 2ms/step - loss: 0.0675 - accuracy: 0.9815 - val_loss: 0.0925 - val_accuracy: 0.9167\n",
      "Epoch 164/200\n",
      "11/11 [==============================] - 0s 2ms/step - loss: 0.0676 - accuracy: 0.9907 - val_loss: 0.0700 - val_accuracy: 1.0000\n",
      "Epoch 165/200\n",
      "11/11 [==============================] - 0s 4ms/step - loss: 0.0725 - accuracy: 0.9815 - val_loss: 0.1164 - val_accuracy: 0.9167\n",
      "Epoch 166/200\n",
      "11/11 [==============================] - 0s 2ms/step - loss: 0.0676 - accuracy: 0.9815 - val_loss: 0.0945 - val_accuracy: 0.9167\n",
      "Epoch 167/200\n",
      "11/11 [==============================] - 0s 2ms/step - loss: 0.0667 - accuracy: 0.9815 - val_loss: 0.0823 - val_accuracy: 0.9167\n",
      "Epoch 168/200\n",
      "11/11 [==============================] - 0s 2ms/step - loss: 0.0697 - accuracy: 0.9815 - val_loss: 0.0972 - val_accuracy: 0.9167\n",
      "Epoch 169/200\n",
      "11/11 [==============================] - 0s 2ms/step - loss: 0.0659 - accuracy: 0.9815 - val_loss: 0.1097 - val_accuracy: 0.9167\n",
      "Epoch 170/200\n",
      "11/11 [==============================] - 0s 2ms/step - loss: 0.0677 - accuracy: 0.9815 - val_loss: 0.0821 - val_accuracy: 0.9167\n",
      "Epoch 171/200\n",
      "11/11 [==============================] - 0s 2ms/step - loss: 0.0665 - accuracy: 0.9815 - val_loss: 0.0998 - val_accuracy: 0.9167\n",
      "Epoch 172/200\n",
      "11/11 [==============================] - 0s 2ms/step - loss: 0.0692 - accuracy: 0.9907 - val_loss: 0.0894 - val_accuracy: 0.9167\n",
      "Epoch 173/200\n"
     ]
    },
    {
     "name": "stdout",
     "output_type": "stream",
     "text": [
      "11/11 [==============================] - 0s 2ms/step - loss: 0.0648 - accuracy: 0.9815 - val_loss: 0.1246 - val_accuracy: 0.9167\n",
      "Epoch 174/200\n",
      "11/11 [==============================] - 0s 2ms/step - loss: 0.0662 - accuracy: 0.9815 - val_loss: 0.1007 - val_accuracy: 0.9167\n",
      "Epoch 175/200\n",
      "11/11 [==============================] - 0s 2ms/step - loss: 0.0672 - accuracy: 0.9815 - val_loss: 0.0702 - val_accuracy: 0.9167\n",
      "Epoch 176/200\n",
      "11/11 [==============================] - 0s 2ms/step - loss: 0.0737 - accuracy: 0.9815 - val_loss: 0.1509 - val_accuracy: 0.9167\n",
      "Epoch 177/200\n",
      "11/11 [==============================] - 0s 2ms/step - loss: 0.0644 - accuracy: 0.9815 - val_loss: 0.0727 - val_accuracy: 0.9167\n",
      "Epoch 178/200\n",
      "11/11 [==============================] - 0s 2ms/step - loss: 0.0659 - accuracy: 0.9815 - val_loss: 0.0864 - val_accuracy: 0.9167\n",
      "Epoch 179/200\n",
      "11/11 [==============================] - 0s 2ms/step - loss: 0.0686 - accuracy: 0.9815 - val_loss: 0.1112 - val_accuracy: 0.9167\n",
      "Epoch 180/200\n",
      "11/11 [==============================] - 0s 2ms/step - loss: 0.0731 - accuracy: 0.9722 - val_loss: 0.0656 - val_accuracy: 1.0000\n",
      "Epoch 181/200\n",
      "11/11 [==============================] - 0s 2ms/step - loss: 0.0687 - accuracy: 0.9907 - val_loss: 0.1812 - val_accuracy: 0.9167\n",
      "Epoch 182/200\n",
      "11/11 [==============================] - 0s 2ms/step - loss: 0.0753 - accuracy: 0.9815 - val_loss: 0.0822 - val_accuracy: 0.9167\n",
      "Epoch 183/200\n",
      "11/11 [==============================] - 0s 2ms/step - loss: 0.0665 - accuracy: 0.9815 - val_loss: 0.0838 - val_accuracy: 0.9167\n",
      "Epoch 184/200\n",
      "11/11 [==============================] - 0s 2ms/step - loss: 0.0637 - accuracy: 0.9907 - val_loss: 0.1168 - val_accuracy: 0.9167\n",
      "Epoch 185/200\n",
      "11/11 [==============================] - 0s 2ms/step - loss: 0.0647 - accuracy: 0.9815 - val_loss: 0.0860 - val_accuracy: 0.9167\n",
      "Epoch 186/200\n",
      "11/11 [==============================] - 0s 2ms/step - loss: 0.0638 - accuracy: 0.9907 - val_loss: 0.0955 - val_accuracy: 0.9167\n",
      "Epoch 187/200\n",
      "11/11 [==============================] - 0s 2ms/step - loss: 0.0616 - accuracy: 0.9907 - val_loss: 0.1024 - val_accuracy: 0.9167\n",
      "Epoch 188/200\n",
      "11/11 [==============================] - 0s 2ms/step - loss: 0.0642 - accuracy: 0.9815 - val_loss: 0.1128 - val_accuracy: 0.9167\n",
      "Epoch 189/200\n",
      "11/11 [==============================] - 0s 2ms/step - loss: 0.0678 - accuracy: 0.9815 - val_loss: 0.0845 - val_accuracy: 0.9167\n",
      "Epoch 190/200\n",
      "11/11 [==============================] - 0s 2ms/step - loss: 0.0626 - accuracy: 0.9815 - val_loss: 0.1377 - val_accuracy: 0.9167\n",
      "Epoch 191/200\n",
      "11/11 [==============================] - 0s 2ms/step - loss: 0.0662 - accuracy: 0.9722 - val_loss: 0.0834 - val_accuracy: 0.9167\n",
      "Epoch 192/200\n",
      "11/11 [==============================] - 0s 2ms/step - loss: 0.0662 - accuracy: 0.9815 - val_loss: 0.1171 - val_accuracy: 0.9167\n",
      "Epoch 193/200\n",
      "11/11 [==============================] - 0s 2ms/step - loss: 0.0763 - accuracy: 0.9815 - val_loss: 0.1692 - val_accuracy: 0.9167\n",
      "Epoch 194/200\n",
      "11/11 [==============================] - 0s 2ms/step - loss: 0.0635 - accuracy: 0.9815 - val_loss: 0.0547 - val_accuracy: 1.0000\n",
      "Epoch 195/200\n",
      "11/11 [==============================] - 0s 2ms/step - loss: 0.0644 - accuracy: 0.9815 - val_loss: 0.0950 - val_accuracy: 0.9167\n",
      "Epoch 196/200\n",
      "11/11 [==============================] - 0s 2ms/step - loss: 0.0609 - accuracy: 0.9815 - val_loss: 0.1247 - val_accuracy: 0.9167\n",
      "Epoch 197/200\n",
      "11/11 [==============================] - 0s 2ms/step - loss: 0.0640 - accuracy: 0.9815 - val_loss: 0.0895 - val_accuracy: 0.9167\n",
      "Epoch 198/200\n",
      "11/11 [==============================] - 0s 2ms/step - loss: 0.0667 - accuracy: 0.9815 - val_loss: 0.0972 - val_accuracy: 0.9167\n",
      "Epoch 199/200\n",
      "11/11 [==============================] - 0s 2ms/step - loss: 0.0603 - accuracy: 0.9907 - val_loss: 0.0933 - val_accuracy: 0.9167\n",
      "Epoch 200/200\n",
      "11/11 [==============================] - 0s 2ms/step - loss: 0.0673 - accuracy: 0.9815 - val_loss: 0.1093 - val_accuracy: 0.9167\n"
     ]
    }
   ],
   "source": [
    "history = model.fit(X_train, Y_train, epochs=200, batch_size=10,verbose=1, validation_split=0.1)"
   ]
  },
  {
   "cell_type": "code",
   "execution_count": 62,
   "metadata": {},
   "outputs": [
    {
     "data": {
      "image/png": "[encoded data removed]",
      "text/plain": [
       "<Figure size 1080x504 with 2 Axes>"
      ]
     },
     "metadata": {},
     "output_type": "display_data"
    }
   ],
   "source": [
    "plt.figure(figsize=(15,7))\n",
    "ax1 = plt.subplot(1,2,1)\n",
    "ax1.plot(history.history['loss'], color='b', label='Training Loss') \n",
    "ax1.plot(history.history['val_loss'], color='r', label = 'Validation Loss',axes=ax1)\n",
    "legend = ax1.legend(loc='best', shadow=True)\n",
    "ax2 = plt.subplot(1,2,2)\n",
    "ax2.plot(history.history['accuracy'], color='b', label='Training Accuracy') \n",
    "ax2.plot(history.history['val_accuracy'], color='r', label = 'Validation Accuracy')\n",
    "legend = ax2.legend(loc='best', shadow=True)"
   ]
  },
  {
   "cell_type": "code",
   "execution_count": 63,
   "metadata": {},
   "outputs": [
    {
     "name": "stdout",
     "output_type": "stream",
     "text": [
      "1/1 [==============================] - 0s 678us/step - loss: 0.0222 - accuracy: 1.0000\n"
     ]
    }
   ],
   "source": [
    "#Evaluation\n",
    "evaluation = model.evaluate(X_test,Y_test)"
   ]
  },
  {
   "cell_type": "code",
   "execution_count": 64,
   "metadata": {},
   "outputs": [
    {
     "name": "stdout",
     "output_type": "stream",
     "text": [
      "Accuracy: 100.0\n",
      "Loss: 2.2\n"
     ]
    }
   ],
   "source": [
    "print(\"Accuracy: %.1f\" % (evaluation[1]*100))\n",
    "print(\"Loss: %.1f\" % (evaluation[0]*100))"
   ]
  },
  {
   "cell_type": "raw",
   "metadata": {},
   "source": [
    "En choisissant la fonction d'activation tnah je diminue la Loss"
   ]
  },
  {
   "cell_type": "code",
   "execution_count": 65,
   "metadata": {},
   "outputs": [
    {
     "name": "stdout",
     "output_type": "stream",
     "text": [
      "[9.9226177e-01 7.6783681e-03 5.9836726e-05]\n",
      "[9.918922e-01 8.045390e-03 6.243233e-05]\n",
      "[9.9215490e-01 7.7844756e-03 6.0622373e-05]\n",
      "[9.9181390e-01 8.1230514e-03 6.3069856e-05]\n",
      "[9.9228352e-01 7.6567456e-03 5.9706985e-05]\n",
      "[9.9222410e-01 7.7156625e-03 6.0157439e-05]\n",
      "[9.9214077e-01 7.7984603e-03 6.0791484e-05]\n",
      "[9.9212545e-01 7.8137834e-03 6.0836192e-05]\n",
      "[9.9170578e-01 8.2304329e-03 6.3815416e-05]\n",
      "[9.918840e-01 8.053430e-03 6.251481e-05]\n",
      "[9.9230146e-01 7.6390509e-03 5.9540038e-05]\n",
      "[9.919802e-01 7.957865e-03 6.192787e-05]\n",
      "[9.9191260e-01 8.0251032e-03 6.2306564e-05]\n",
      "[9.9218607e-01 7.7535012e-03 6.0414251e-05]\n",
      "[9.9249411e-01 7.4478164e-03 5.8069654e-05]\n",
      "[9.9244022e-01 7.5012078e-03 5.8548889e-05]\n",
      "[9.9241793e-01 7.5233881e-03 5.8681228e-05]\n",
      "[9.9225074e-01 7.6892781e-03 5.9917315e-05]\n",
      "[9.9223471e-01 7.7053919e-03 6.0017686e-05]\n",
      "[9.9228489e-01 7.6553612e-03 5.9722784e-05]\n"
     ]
    }
   ],
   "source": [
    "#Prediction\n",
    "Y_pred = model.predict(X)\n",
    "for i in range(20):\n",
    "    print(Y_pred[i])"
   ]
  },
  {
   "cell_type": "code",
   "execution_count": 66,
   "metadata": {},
   "outputs": [],
   "source": [
    "#Table de confusion\n",
    "from sklearn.metrics import classification_report,confusion_matrix"
   ]
  },
  {
   "cell_type": "code",
   "execution_count": 82,
   "metadata": {},
   "outputs": [],
   "source": [
    "Y_test_class = np.argmax(Y_onehot,axis=1)\n",
    "Y_pred_class = np.argmax(Y_pred,axis=1)"
   ]
  },
  {
   "cell_type": "code",
   "execution_count": 83,
   "metadata": {},
   "outputs": [
    {
     "data": {
      "text/plain": [
       "array([0, 0, 0, 0, 0, 0, 0, 0, 0, 0, 0, 0, 0, 0, 0, 0, 0, 0, 0, 0, 0, 0,\n",
       "       0, 0, 0, 0, 0, 0, 0, 0, 0, 0, 0, 0, 0, 0, 0, 0, 0, 0, 0, 0, 0, 0,\n",
       "       0, 0, 0, 0, 0, 0, 1, 1, 1, 1, 1, 1, 1, 1, 1, 1, 1, 1, 1, 1, 1, 1,\n",
       "       1, 1, 1, 1, 1, 1, 1, 1, 1, 1, 1, 1, 1, 1, 1, 1, 1, 1, 1, 1, 1, 1,\n",
       "       1, 1, 1, 1, 1, 1, 1, 1, 1, 1, 1, 1, 2, 2, 2, 2, 2, 2, 2, 2, 2, 2,\n",
       "       2, 2, 2, 2, 2, 2, 2, 2, 2, 2, 2, 2, 2, 2, 2, 2, 2, 2, 2, 2, 2, 2,\n",
       "       2, 2, 2, 2, 2, 2, 2, 2, 2, 2, 2, 2, 2, 2, 2, 2, 2, 2])"
      ]
     },
     "execution_count": 83,
     "metadata": {},
     "output_type": "execute_result"
    }
   ],
   "source": [
    "Y_test_class"
   ]
  },
  {
   "cell_type": "code",
   "execution_count": 84,
   "metadata": {},
   "outputs": [
    {
     "data": {
      "text/plain": [
       "array([0, 0, 0, 0, 0, 0, 0, 0, 0, 0, 0, 0, 0, 0, 0, 0, 0, 0, 0, 0, 0, 0,\n",
       "       0, 0, 0, 0, 0, 0, 0, 0, 0, 0, 0, 0, 0, 0, 0, 0, 0, 0, 0, 0, 0, 0,\n",
       "       0, 0, 0, 0, 0, 0, 1, 1, 1, 1, 1, 1, 1, 1, 1, 1, 1, 1, 1, 1, 1, 1,\n",
       "       1, 1, 1, 1, 2, 1, 1, 1, 1, 1, 1, 1, 1, 1, 1, 1, 1, 2, 1, 1, 1, 1,\n",
       "       1, 1, 1, 1, 1, 1, 1, 1, 1, 1, 1, 1, 2, 2, 2, 2, 2, 2, 2, 2, 2, 2,\n",
       "       2, 2, 2, 2, 2, 2, 2, 2, 2, 2, 2, 2, 2, 2, 2, 2, 2, 2, 2, 2, 2, 2,\n",
       "       2, 2, 2, 2, 2, 2, 2, 2, 2, 2, 2, 2, 2, 2, 2, 2, 2, 2])"
      ]
     },
     "execution_count": 84,
     "metadata": {},
     "output_type": "execute_result"
    }
   ],
   "source": [
    "Y_pred_class"
   ]
  },
  {
   "cell_type": "code",
   "execution_count": 86,
   "metadata": {},
   "outputs": [
    {
     "name": "stdout",
     "output_type": "stream",
     "text": [
      "              precision    recall  f1-score   support\n",
      "\n",
      "           0       1.00      1.00      1.00        50\n",
      "           1       1.00      0.96      0.98        50\n",
      "           2       0.96      1.00      0.98        50\n",
      "\n",
      "    accuracy                           0.99       150\n",
      "   macro avg       0.99      0.99      0.99       150\n",
      "weighted avg       0.99      0.99      0.99       150\n",
      "\n"
     ]
    }
   ],
   "source": [
    "print(classification_report(Y_test_class,Y_pred_class))"
   ]
  },
  {
   "cell_type": "code",
   "execution_count": 85,
   "metadata": {},
   "outputs": [
    {
     "name": "stdout",
     "output_type": "stream",
     "text": [
      "[[50  0  0]\n",
      " [ 0 48  2]\n",
      " [ 0  0 50]]\n"
     ]
    }
   ],
   "source": [
    "print(confusion_matrix(Y_test_class,Y_pred_class))"
   ]
  },
  {
   "cell_type": "raw",
   "metadata": {},
   "source": [
    "Le model est performant même si 2 iris de la 2ème catégorie ont été classée dans la 3ème. Rapellons que les représentations graphiques ont montré que les classes 2 et 3 sont plus difficile à différentier. "
   ]
  }
 ],
 "metadata": {
  "kernelspec": {
   "display_name": "Python 3",
   "language": "python",
   "name": "python3"
  },
  "language_info": {
   "codemirror_mode": {
    "name": "ipython",
    "version": 3
   },
   "file_extension": ".py",
   "mimetype": "text/x-python",
   "name": "python",
   "nbconvert_exporter": "python",
   "pygments_lexer": "ipython3",
   "version": "3.7.4"
  }
 },
 "nbformat": 4,
 "nbformat_minor": 2
}
