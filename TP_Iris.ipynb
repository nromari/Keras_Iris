{
 "cells": [
  {
   "cell_type": "markdown",
   "metadata": {},
   "source": [
    "# Classification des données Iris par Keras"
   ]
  },
  {
   "cell_type": "markdown",
   "metadata": {},
   "source": [
    "## Environnement"
   ]
  },
  {
   "cell_type": "code",
   "execution_count": 1,
   "metadata": {},
   "outputs": [],
   "source": [
    "from pandas import read_csv\n",
    "import numpy as np\n",
    "import os\n",
    "import matplotlib.pyplot as plt\n",
    "import seaborn as sns"
   ]
  },
  {
   "cell_type": "markdown",
   "metadata": {},
   "source": [
    "## Les données"
   ]
  },
  {
   "cell_type": "markdown",
   "metadata": {},
   "source": [
    "### Import"
   ]
  },
  {
   "cell_type": "code",
   "execution_count": 2,
   "metadata": {},
   "outputs": [],
   "source": [
    "data = read_csv(\"/home/noura/Projets/Keras_Iris/Datas/iris.data\", \n",
    "                names = ['sepal length', 'sepal width', 'petal length', 'petal width', 'species'])"
   ]
  },
  {
   "cell_type": "markdown",
   "metadata": {},
   "source": [
    "### Exploration"
   ]
  },
  {
   "cell_type": "code",
   "execution_count": 3,
   "metadata": {},
   "outputs": [
    {
     "data": {
      "text/html": [
       "<div>\n",
       "<style scoped>\n",
       "    .dataframe tbody tr th:only-of-type {\n",
       "        vertical-align: middle;\n",
       "    }\n",
       "\n",
       "    .dataframe tbody tr th {\n",
       "        vertical-align: top;\n",
       "    }\n",
       "\n",
       "    .dataframe thead th {\n",
       "        text-align: right;\n",
       "    }\n",
       "</style>\n",
       "<table border=\"1\" class=\"dataframe\">\n",
       "  <thead>\n",
       "    <tr style=\"text-align: right;\">\n",
       "      <th></th>\n",
       "      <th>sepal length</th>\n",
       "      <th>sepal width</th>\n",
       "      <th>petal length</th>\n",
       "      <th>petal width</th>\n",
       "      <th>species</th>\n",
       "    </tr>\n",
       "  </thead>\n",
       "  <tbody>\n",
       "    <tr>\n",
       "      <td>0</td>\n",
       "      <td>5.1</td>\n",
       "      <td>3.5</td>\n",
       "      <td>1.4</td>\n",
       "      <td>0.2</td>\n",
       "      <td>Iris-setosa</td>\n",
       "    </tr>\n",
       "    <tr>\n",
       "      <td>1</td>\n",
       "      <td>4.9</td>\n",
       "      <td>3.0</td>\n",
       "      <td>1.4</td>\n",
       "      <td>0.2</td>\n",
       "      <td>Iris-setosa</td>\n",
       "    </tr>\n",
       "    <tr>\n",
       "      <td>2</td>\n",
       "      <td>4.7</td>\n",
       "      <td>3.2</td>\n",
       "      <td>1.3</td>\n",
       "      <td>0.2</td>\n",
       "      <td>Iris-setosa</td>\n",
       "    </tr>\n",
       "    <tr>\n",
       "      <td>3</td>\n",
       "      <td>4.6</td>\n",
       "      <td>3.1</td>\n",
       "      <td>1.5</td>\n",
       "      <td>0.2</td>\n",
       "      <td>Iris-setosa</td>\n",
       "    </tr>\n",
       "    <tr>\n",
       "      <td>4</td>\n",
       "      <td>5.0</td>\n",
       "      <td>3.6</td>\n",
       "      <td>1.4</td>\n",
       "      <td>0.2</td>\n",
       "      <td>Iris-setosa</td>\n",
       "    </tr>\n",
       "    <tr>\n",
       "      <td>...</td>\n",
       "      <td>...</td>\n",
       "      <td>...</td>\n",
       "      <td>...</td>\n",
       "      <td>...</td>\n",
       "      <td>...</td>\n",
       "    </tr>\n",
       "    <tr>\n",
       "      <td>145</td>\n",
       "      <td>6.7</td>\n",
       "      <td>3.0</td>\n",
       "      <td>5.2</td>\n",
       "      <td>2.3</td>\n",
       "      <td>Iris-virginica</td>\n",
       "    </tr>\n",
       "    <tr>\n",
       "      <td>146</td>\n",
       "      <td>6.3</td>\n",
       "      <td>2.5</td>\n",
       "      <td>5.0</td>\n",
       "      <td>1.9</td>\n",
       "      <td>Iris-virginica</td>\n",
       "    </tr>\n",
       "    <tr>\n",
       "      <td>147</td>\n",
       "      <td>6.5</td>\n",
       "      <td>3.0</td>\n",
       "      <td>5.2</td>\n",
       "      <td>2.0</td>\n",
       "      <td>Iris-virginica</td>\n",
       "    </tr>\n",
       "    <tr>\n",
       "      <td>148</td>\n",
       "      <td>6.2</td>\n",
       "      <td>3.4</td>\n",
       "      <td>5.4</td>\n",
       "      <td>2.3</td>\n",
       "      <td>Iris-virginica</td>\n",
       "    </tr>\n",
       "    <tr>\n",
       "      <td>149</td>\n",
       "      <td>5.9</td>\n",
       "      <td>3.0</td>\n",
       "      <td>5.1</td>\n",
       "      <td>1.8</td>\n",
       "      <td>Iris-virginica</td>\n",
       "    </tr>\n",
       "  </tbody>\n",
       "</table>\n",
       "<p>150 rows × 5 columns</p>\n",
       "</div>"
      ],
      "text/plain": [
       "     sepal length  sepal width  petal length  petal width         species\n",
       "0             5.1          3.5           1.4          0.2     Iris-setosa\n",
       "1             4.9          3.0           1.4          0.2     Iris-setosa\n",
       "2             4.7          3.2           1.3          0.2     Iris-setosa\n",
       "3             4.6          3.1           1.5          0.2     Iris-setosa\n",
       "4             5.0          3.6           1.4          0.2     Iris-setosa\n",
       "..            ...          ...           ...          ...             ...\n",
       "145           6.7          3.0           5.2          2.3  Iris-virginica\n",
       "146           6.3          2.5           5.0          1.9  Iris-virginica\n",
       "147           6.5          3.0           5.2          2.0  Iris-virginica\n",
       "148           6.2          3.4           5.4          2.3  Iris-virginica\n",
       "149           5.9          3.0           5.1          1.8  Iris-virginica\n",
       "\n",
       "[150 rows x 5 columns]"
      ]
     },
     "execution_count": 3,
     "metadata": {},
     "output_type": "execute_result"
    }
   ],
   "source": [
    "data"
   ]
  },
  {
   "cell_type": "code",
   "execution_count": 4,
   "metadata": {},
   "outputs": [
    {
     "data": {
      "text/html": [
       "<div>\n",
       "<style scoped>\n",
       "    .dataframe tbody tr th:only-of-type {\n",
       "        vertical-align: middle;\n",
       "    }\n",
       "\n",
       "    .dataframe tbody tr th {\n",
       "        vertical-align: top;\n",
       "    }\n",
       "\n",
       "    .dataframe thead th {\n",
       "        text-align: right;\n",
       "    }\n",
       "</style>\n",
       "<table border=\"1\" class=\"dataframe\">\n",
       "  <thead>\n",
       "    <tr style=\"text-align: right;\">\n",
       "      <th></th>\n",
       "      <th>sepal length</th>\n",
       "      <th>sepal width</th>\n",
       "      <th>petal length</th>\n",
       "      <th>petal width</th>\n",
       "    </tr>\n",
       "  </thead>\n",
       "  <tbody>\n",
       "    <tr>\n",
       "      <td>count</td>\n",
       "      <td>150.000000</td>\n",
       "      <td>150.000000</td>\n",
       "      <td>150.000000</td>\n",
       "      <td>150.000000</td>\n",
       "    </tr>\n",
       "    <tr>\n",
       "      <td>mean</td>\n",
       "      <td>5.843333</td>\n",
       "      <td>3.054000</td>\n",
       "      <td>3.758667</td>\n",
       "      <td>1.198667</td>\n",
       "    </tr>\n",
       "    <tr>\n",
       "      <td>std</td>\n",
       "      <td>0.828066</td>\n",
       "      <td>0.433594</td>\n",
       "      <td>1.764420</td>\n",
       "      <td>0.763161</td>\n",
       "    </tr>\n",
       "    <tr>\n",
       "      <td>min</td>\n",
       "      <td>4.300000</td>\n",
       "      <td>2.000000</td>\n",
       "      <td>1.000000</td>\n",
       "      <td>0.100000</td>\n",
       "    </tr>\n",
       "    <tr>\n",
       "      <td>25%</td>\n",
       "      <td>5.100000</td>\n",
       "      <td>2.800000</td>\n",
       "      <td>1.600000</td>\n",
       "      <td>0.300000</td>\n",
       "    </tr>\n",
       "    <tr>\n",
       "      <td>50%</td>\n",
       "      <td>5.800000</td>\n",
       "      <td>3.000000</td>\n",
       "      <td>4.350000</td>\n",
       "      <td>1.300000</td>\n",
       "    </tr>\n",
       "    <tr>\n",
       "      <td>75%</td>\n",
       "      <td>6.400000</td>\n",
       "      <td>3.300000</td>\n",
       "      <td>5.100000</td>\n",
       "      <td>1.800000</td>\n",
       "    </tr>\n",
       "    <tr>\n",
       "      <td>max</td>\n",
       "      <td>7.900000</td>\n",
       "      <td>4.400000</td>\n",
       "      <td>6.900000</td>\n",
       "      <td>2.500000</td>\n",
       "    </tr>\n",
       "  </tbody>\n",
       "</table>\n",
       "</div>"
      ],
      "text/plain": [
       "       sepal length  sepal width  petal length  petal width\n",
       "count    150.000000   150.000000    150.000000   150.000000\n",
       "mean       5.843333     3.054000      3.758667     1.198667\n",
       "std        0.828066     0.433594      1.764420     0.763161\n",
       "min        4.300000     2.000000      1.000000     0.100000\n",
       "25%        5.100000     2.800000      1.600000     0.300000\n",
       "50%        5.800000     3.000000      4.350000     1.300000\n",
       "75%        6.400000     3.300000      5.100000     1.800000\n",
       "max        7.900000     4.400000      6.900000     2.500000"
      ]
     },
     "execution_count": 4,
     "metadata": {},
     "output_type": "execute_result"
    }
   ],
   "source": [
    "data.describe()"
   ]
  },
  {
   "cell_type": "code",
   "execution_count": 5,
   "metadata": {},
   "outputs": [
    {
     "data": {
      "text/plain": [
       "species\n",
       "Iris-setosa        50\n",
       "Iris-versicolor    50\n",
       "Iris-virginica     50\n",
       "dtype: int64"
      ]
     },
     "execution_count": 5,
     "metadata": {},
     "output_type": "execute_result"
    }
   ],
   "source": [
    "data.groupby('species').size()"
   ]
  },
  {
   "cell_type": "raw",
   "metadata": {},
   "source": [
    "Le jeux de données se compose de :\n",
    "- 4 varibales quantitatives continuent qui correspondent à des données métriques concernant les sepales et les pétales des iris. Ce sont les descripteurs c'est à dire nos inputs\n",
    "- 1 variable qualitative à 3 classes qui correspond aux 3 espèces d'iris. Ce sont les catégories de classification, donc nos outputs.\n",
    "\n",
    "On remarque que l'on a le même nombre de valeurs pour chaque descripteur, et pour chaque espèce. Il n'y a donc pas de déséquilibre entre eux."
   ]
  },
  {
   "cell_type": "markdown",
   "metadata": {},
   "source": [
    "### Vérifier que les données soient réelles"
   ]
  },
  {
   "cell_type": "code",
   "execution_count": 6,
   "metadata": {},
   "outputs": [
    {
     "data": {
      "text/plain": [
       "sepal length     True\n",
       "sepal width      True\n",
       "petal length     True\n",
       "petal width      True\n",
       "species         False\n",
       "dtype: bool"
      ]
     },
     "execution_count": 6,
     "metadata": {},
     "output_type": "execute_result"
    }
   ],
   "source": [
    "output_verif = data.applymap(np.isreal).all(0)\n",
    "output_verif"
   ]
  },
  {
   "cell_type": "raw",
   "metadata": {},
   "source": [
    "La colonne species correspond à du texte. Il faudra la convertir en réel pour l'application du modele."
   ]
  },
  {
   "cell_type": "code",
   "execution_count": 7,
   "metadata": {},
   "outputs": [
    {
     "data": {
      "text/plain": [
       "(150, 5)"
      ]
     },
     "execution_count": 7,
     "metadata": {},
     "output_type": "execute_result"
    }
   ],
   "source": [
    "data.shape # vérification des dimensions"
   ]
  },
  {
   "cell_type": "markdown",
   "metadata": {},
   "source": [
    "### Visualisation par espèce"
   ]
  },
  {
   "cell_type": "code",
   "execution_count": 8,
   "metadata": {},
   "outputs": [
    {
     "data": {
      "text/plain": [
       "<seaborn.axisgrid.PairGrid at 0x7f6caf6dd5d0>"
      ]
     },
     "execution_count": 8,
     "metadata": {},
     "output_type": "execute_result"
    },
    {
     "data": {
      "image/png": "[encoded data removed]",
      "text/plain": [
       "<Figure size 834.6x720 with 20 Axes>"
      ]
     },
     "metadata": {},
     "output_type": "display_data"
    }
   ],
   "source": [
    "sns.set(style = \"ticks\")\n",
    "sns.set_palette(\"husl\")\n",
    "sns.pairplot(data.iloc[:,0:5], hue=\"species\")"
   ]
  },
  {
   "cell_type": "raw",
   "metadata": {},
   "source": [
    "D'après la visualisation graphique des données ci-dessus, l'espèce Iris setosa se différencie facilement pour tout les descripteurs.Par contre c'est moins évident pour les 2 autres espèces. Il semble que l'association des critères petal length et petal width donne la meilleure différenciation."
   ]
  },
  {
   "cell_type": "markdown",
   "metadata": {},
   "source": [
    "## Mise en place du modele"
   ]
  },
  {
   "cell_type": "markdown",
   "metadata": {},
   "source": [
    "### Préparation des données"
   ]
  },
  {
   "cell_type": "code",
   "execution_count": 9,
   "metadata": {},
   "outputs": [],
   "source": [
    "import tensorflow as tf\n",
    "from tensorflow import keras"
   ]
  },
  {
   "cell_type": "code",
   "execution_count": 10,
   "metadata": {},
   "outputs": [
    {
     "data": {
      "text/plain": [
       "(150, 4)"
      ]
     },
     "execution_count": 10,
     "metadata": {},
     "output_type": "execute_result"
    }
   ],
   "source": [
    "#Définition de X : attention X est un numpy\n",
    "X = data[['sepal length', 'sepal width', 'petal length', 'petal width']].to_numpy()\n",
    "X.shape"
   ]
  },
  {
   "cell_type": "raw",
   "metadata": {},
   "source": [
    "X a bien les bonnes dimensions"
   ]
  },
  {
   "cell_type": "code",
   "execution_count": 11,
   "metadata": {},
   "outputs": [
    {
     "data": {
      "text/plain": [
       "(150, 1)"
      ]
     },
     "execution_count": 11,
     "metadata": {},
     "output_type": "execute_result"
    }
   ],
   "source": [
    "#Définition de Y\n",
    "Y = data[['species']]\n",
    "Y.shape"
   ]
  },
  {
   "cell_type": "raw",
   "metadata": {},
   "source": [
    "Y a les bonnes dimensions à ce stade. Mais il faut l'encoder pour les trier par catégorie"
   ]
  },
  {
   "cell_type": "code",
   "execution_count": 12,
   "metadata": {},
   "outputs": [],
   "source": [
    "#Il faut à présent trier les Y par catégorie\n",
    "from sklearn.preprocessing import LabelEncoder\n",
    "from keras.utils import to_categorical\n",
    "from keras.utils import np_utils"
   ]
  },
  {
   "cell_type": "code",
   "execution_count": 14,
   "metadata": {},
   "outputs": [],
   "source": [
    "encoder = LabelEncoder()\n",
    "Y_encod = encoder.fit_transform(Y) #les espèces sont encodées en integer"
   ]
  },
  {
   "cell_type": "code",
   "execution_count": 15,
   "metadata": {},
   "outputs": [],
   "source": [
    "Y_onehot = np_utils.to_categorical(Y_encod) #Y est trié selon les catégories càd selon les 3 sorties attendues"
   ]
  },
  {
   "cell_type": "code",
   "execution_count": 16,
   "metadata": {},
   "outputs": [
    {
     "data": {
      "text/plain": [
       "(150, 3)"
      ]
     },
     "execution_count": 16,
     "metadata": {},
     "output_type": "execute_result"
    }
   ],
   "source": [
    "Y_onehot.shape"
   ]
  },
  {
   "cell_type": "raw",
   "metadata": {},
   "source": [
    "On obtient bien les bonnes dimensions pour le onehot"
   ]
  },
  {
   "cell_type": "code",
   "execution_count": 17,
   "metadata": {},
   "outputs": [
    {
     "data": {
      "text/plain": [
       "array([[1., 0., 0.],\n",
       "       [1., 0., 0.],\n",
       "       [1., 0., 0.],\n",
       "       [1., 0., 0.],\n",
       "       [1., 0., 0.],\n",
       "       [1., 0., 0.]], dtype=float32)"
      ]
     },
     "execution_count": 17,
     "metadata": {},
     "output_type": "execute_result"
    }
   ],
   "source": [
    "Y_onehot[:6,:]"
   ]
  },
  {
   "cell_type": "markdown",
   "metadata": {},
   "source": [
    "### Le modèle"
   ]
  },
  {
   "cell_type": "code",
   "execution_count": 18,
   "metadata": {},
   "outputs": [],
   "source": [
    "from keras.models import Sequential\n",
    "from keras.layers import Dense\n",
    "from keras import Input, Model"
   ]
  },
  {
   "cell_type": "code",
   "execution_count": 34,
   "metadata": {},
   "outputs": [],
   "source": [
    "#choix d'un modèle séquentiel\n",
    "model = Sequential()\n",
    "#1ère couche dense composée de 10 neuronnes pour les 4 inputs (mesures métriques). La fonction est sigmoïde\n",
    "model.add(Dense(10, input_dim=4, activation=\"sigmoid\"))\n",
    "#2eme et 3éme couches denses : idem 1ère en diminuant le nombre de neuronnes (pas besoin de préciser les inputs)\n",
    "model.add(Dense(8, activation=\"sigmoid\"))\n",
    "model.add(Dense(6, activation=\"sigmoid\"))\n",
    "#dernière couche dense : le nbre de neuronnes doit correspondre aux nombres de catégories (species)\n",
    "model.add(Dense(3, activation=\"sigmoid\"))"
   ]
  },
  {
   "cell_type": "code",
   "execution_count": 35,
   "metadata": {},
   "outputs": [
    {
     "name": "stdout",
     "output_type": "stream",
     "text": [
      "Model: \"sequential_2\"\n",
      "_________________________________________________________________\n",
      "Layer (type)                 Output Shape              Param #   \n",
      "=================================================================\n",
      "dense_7 (Dense)              (None, 10)                50        \n",
      "_________________________________________________________________\n",
      "dense_8 (Dense)              (None, 8)                 88        \n",
      "_________________________________________________________________\n",
      "dense_9 (Dense)              (None, 6)                 54        \n",
      "_________________________________________________________________\n",
      "dense_10 (Dense)             (None, 3)                 21        \n",
      "=================================================================\n",
      "Total params: 213\n",
      "Trainable params: 213\n",
      "Non-trainable params: 0\n",
      "_________________________________________________________________\n",
      "None\n"
     ]
    }
   ],
   "source": [
    "print(model.summary())"
   ]
  },
  {
   "cell_type": "markdown",
   "metadata": {},
   "source": [
    "## Compilations et résultats"
   ]
  },
  {
   "cell_type": "markdown",
   "metadata": {},
   "source": [
    "### Sur le jeux de données complet"
   ]
  },
  {
   "cell_type": "code",
   "execution_count": 36,
   "metadata": {},
   "outputs": [],
   "source": [
    "model.compile(loss = 'categorical_crossentropy', optimizer = 'adam', metrics = ['accuracy'])\n",
    "#Il y a plus de 2 ouput, on choisit donc une focntion loss de type categorical_crossentropy"
   ]
  },
  {
   "cell_type": "code",
   "execution_count": 37,
   "metadata": {},
   "outputs": [
    {
     "name": "stdout",
     "output_type": "stream",
     "text": [
      "Epoch 1/150\n",
      "14/14 [==============================] - 0s 8ms/step - loss: 1.1955 - accuracy: 0.3704 - val_loss: 0.9078 - val_accuracy: 0.0000e+00\n",
      "Epoch 2/150\n",
      "14/14 [==============================] - 0s 2ms/step - loss: 1.1814 - accuracy: 0.3704 - val_loss: 0.9305 - val_accuracy: 0.0000e+00\n",
      "Epoch 3/150\n",
      "14/14 [==============================] - 0s 2ms/step - loss: 1.1673 - accuracy: 0.3704 - val_loss: 0.9505 - val_accuracy: 0.0000e+00\n",
      "Epoch 4/150\n",
      "14/14 [==============================] - 0s 2ms/step - loss: 1.1558 - accuracy: 0.3704 - val_loss: 0.9691 - val_accuracy: 0.0000e+00\n",
      "Epoch 5/150\n",
      "14/14 [==============================] - 0s 2ms/step - loss: 1.1447 - accuracy: 0.3704 - val_loss: 0.9856 - val_accuracy: 0.0000e+00\n",
      "Epoch 6/150\n",
      "14/14 [==============================] - 0s 2ms/step - loss: 1.1360 - accuracy: 0.3704 - val_loss: 1.0054 - val_accuracy: 0.0000e+00\n",
      "Epoch 7/150\n",
      "14/14 [==============================] - 0s 2ms/step - loss: 1.1267 - accuracy: 0.3704 - val_loss: 1.0270 - val_accuracy: 0.0000e+00\n",
      "Epoch 8/150\n",
      "14/14 [==============================] - 0s 2ms/step - loss: 1.1189 - accuracy: 0.3704 - val_loss: 1.0460 - val_accuracy: 0.0000e+00\n",
      "Epoch 9/150\n",
      "14/14 [==============================] - 0s 2ms/step - loss: 1.1119 - accuracy: 0.3704 - val_loss: 1.0653 - val_accuracy: 0.0000e+00\n",
      "Epoch 10/150\n",
      "14/14 [==============================] - 0s 2ms/step - loss: 1.1044 - accuracy: 0.3704 - val_loss: 1.0812 - val_accuracy: 0.0000e+00\n",
      "Epoch 11/150\n",
      "14/14 [==============================] - 0s 2ms/step - loss: 1.0990 - accuracy: 0.3704 - val_loss: 1.1045 - val_accuracy: 0.0000e+00\n",
      "Epoch 12/150\n",
      "14/14 [==============================] - 0s 2ms/step - loss: 1.0916 - accuracy: 0.3704 - val_loss: 1.1124 - val_accuracy: 0.0000e+00\n",
      "Epoch 13/150\n",
      "14/14 [==============================] - 0s 3ms/step - loss: 1.0863 - accuracy: 0.3704 - val_loss: 1.1283 - val_accuracy: 0.0000e+00\n",
      "Epoch 14/150\n",
      "14/14 [==============================] - 0s 2ms/step - loss: 1.0800 - accuracy: 0.3704 - val_loss: 1.1384 - val_accuracy: 0.0000e+00\n",
      "Epoch 15/150\n",
      "14/14 [==============================] - 0s 2ms/step - loss: 1.0741 - accuracy: 0.3704 - val_loss: 1.1535 - val_accuracy: 0.0000e+00\n",
      "Epoch 16/150\n",
      "14/14 [==============================] - 0s 2ms/step - loss: 1.0680 - accuracy: 0.3704 - val_loss: 1.1657 - val_accuracy: 0.0000e+00\n",
      "Epoch 17/150\n",
      "14/14 [==============================] - 0s 2ms/step - loss: 1.0618 - accuracy: 0.3704 - val_loss: 1.1706 - val_accuracy: 0.0000e+00\n",
      "Epoch 18/150\n",
      "14/14 [==============================] - 0s 3ms/step - loss: 1.0559 - accuracy: 0.3704 - val_loss: 1.1869 - val_accuracy: 0.0000e+00\n",
      "Epoch 19/150\n",
      "14/14 [==============================] - 0s 2ms/step - loss: 1.0490 - accuracy: 0.3704 - val_loss: 1.1913 - val_accuracy: 0.0000e+00\n",
      "Epoch 20/150\n",
      "14/14 [==============================] - 0s 2ms/step - loss: 1.0422 - accuracy: 0.3704 - val_loss: 1.1976 - val_accuracy: 0.0000e+00\n",
      "Epoch 21/150\n",
      "14/14 [==============================] - 0s 2ms/step - loss: 1.0349 - accuracy: 0.3704 - val_loss: 1.2002 - val_accuracy: 0.0000e+00\n",
      "Epoch 22/150\n",
      "14/14 [==============================] - 0s 2ms/step - loss: 1.0277 - accuracy: 0.3704 - val_loss: 1.2045 - val_accuracy: 0.0000e+00\n",
      "Epoch 23/150\n",
      "14/14 [==============================] - 0s 2ms/step - loss: 1.0192 - accuracy: 0.3704 - val_loss: 1.2043 - val_accuracy: 0.0000e+00\n",
      "Epoch 24/150\n",
      "14/14 [==============================] - 0s 3ms/step - loss: 1.0105 - accuracy: 0.3778 - val_loss: 1.2029 - val_accuracy: 0.0000e+00\n",
      "Epoch 25/150\n",
      "14/14 [==============================] - 0s 3ms/step - loss: 1.0016 - accuracy: 0.4222 - val_loss: 1.2002 - val_accuracy: 0.0000e+00\n",
      "Epoch 26/150\n",
      "14/14 [==============================] - 0s 2ms/step - loss: 0.9923 - accuracy: 0.5259 - val_loss: 1.2057 - val_accuracy: 0.0000e+00\n",
      "Epoch 27/150\n",
      "14/14 [==============================] - 0s 3ms/step - loss: 0.9821 - accuracy: 0.6667 - val_loss: 1.2058 - val_accuracy: 0.0000e+00\n",
      "Epoch 28/150\n",
      "14/14 [==============================] - 0s 2ms/step - loss: 0.9715 - accuracy: 0.7037 - val_loss: 1.2001 - val_accuracy: 0.0000e+00\n",
      "Epoch 29/150\n",
      "14/14 [==============================] - 0s 3ms/step - loss: 0.9603 - accuracy: 0.7333 - val_loss: 1.1853 - val_accuracy: 0.0000e+00\n",
      "Epoch 30/150\n",
      "14/14 [==============================] - 0s 3ms/step - loss: 0.9488 - accuracy: 0.7333 - val_loss: 1.1832 - val_accuracy: 0.0000e+00\n",
      "Epoch 31/150\n",
      "14/14 [==============================] - 0s 3ms/step - loss: 0.9365 - accuracy: 0.7407 - val_loss: 1.1777 - val_accuracy: 0.0000e+00\n",
      "Epoch 32/150\n",
      "14/14 [==============================] - 0s 3ms/step - loss: 0.9252 - accuracy: 0.7407 - val_loss: 1.1805 - val_accuracy: 0.0000e+00\n",
      "Epoch 33/150\n",
      "14/14 [==============================] - 0s 2ms/step - loss: 0.9110 - accuracy: 0.7407 - val_loss: 1.1555 - val_accuracy: 0.0000e+00\n",
      "Epoch 34/150\n",
      "14/14 [==============================] - 0s 3ms/step - loss: 0.8979 - accuracy: 0.7407 - val_loss: 1.1420 - val_accuracy: 0.0000e+00\n",
      "Epoch 35/150\n",
      "14/14 [==============================] - 0s 2ms/step - loss: 0.8842 - accuracy: 0.7407 - val_loss: 1.1284 - val_accuracy: 0.0000e+00\n",
      "Epoch 36/150\n",
      "14/14 [==============================] - 0s 2ms/step - loss: 0.8704 - accuracy: 0.7407 - val_loss: 1.1163 - val_accuracy: 0.0000e+00\n",
      "Epoch 37/150\n",
      "14/14 [==============================] - 0s 3ms/step - loss: 0.8564 - accuracy: 0.7407 - val_loss: 1.1112 - val_accuracy: 0.0000e+00\n",
      "Epoch 38/150\n",
      "14/14 [==============================] - 0s 3ms/step - loss: 0.8420 - accuracy: 0.7407 - val_loss: 1.1043 - val_accuracy: 0.0000e+00\n",
      "Epoch 39/150\n",
      "14/14 [==============================] - 0s 3ms/step - loss: 0.8275 - accuracy: 0.7407 - val_loss: 1.0949 - val_accuracy: 0.0000e+00\n",
      "Epoch 40/150\n",
      "14/14 [==============================] - 0s 2ms/step - loss: 0.8135 - accuracy: 0.7407 - val_loss: 1.0793 - val_accuracy: 0.0000e+00\n",
      "Epoch 41/150\n",
      "14/14 [==============================] - 0s 3ms/step - loss: 0.7994 - accuracy: 0.7407 - val_loss: 1.0706 - val_accuracy: 0.0000e+00\n",
      "Epoch 42/150\n",
      "14/14 [==============================] - 0s 2ms/step - loss: 0.7853 - accuracy: 0.7407 - val_loss: 1.0628 - val_accuracy: 0.0000e+00\n",
      "Epoch 43/150\n",
      "14/14 [==============================] - 0s 3ms/step - loss: 0.7718 - accuracy: 0.7407 - val_loss: 1.0578 - val_accuracy: 0.0000e+00\n",
      "Epoch 44/150\n",
      "14/14 [==============================] - 0s 2ms/step - loss: 0.7585 - accuracy: 0.7407 - val_loss: 1.0536 - val_accuracy: 0.0000e+00\n",
      "Epoch 45/150\n",
      "14/14 [==============================] - 0s 2ms/step - loss: 0.7457 - accuracy: 0.7407 - val_loss: 1.0405 - val_accuracy: 0.0000e+00\n",
      "Epoch 46/150\n",
      "14/14 [==============================] - 0s 2ms/step - loss: 0.7337 - accuracy: 0.7407 - val_loss: 1.0364 - val_accuracy: 0.0000e+00\n",
      "Epoch 47/150\n",
      "14/14 [==============================] - 0s 3ms/step - loss: 0.7210 - accuracy: 0.7407 - val_loss: 1.0232 - val_accuracy: 0.0000e+00\n",
      "Epoch 48/150\n",
      "14/14 [==============================] - 0s 3ms/step - loss: 0.7096 - accuracy: 0.7407 - val_loss: 1.0195 - val_accuracy: 0.0000e+00\n",
      "Epoch 49/150\n",
      "14/14 [==============================] - 0s 3ms/step - loss: 0.6985 - accuracy: 0.7407 - val_loss: 1.0043 - val_accuracy: 0.0000e+00\n",
      "Epoch 50/150\n",
      "14/14 [==============================] - 0s 3ms/step - loss: 0.6876 - accuracy: 0.7407 - val_loss: 0.9985 - val_accuracy: 0.0000e+00\n",
      "Epoch 51/150\n",
      "14/14 [==============================] - 0s 2ms/step - loss: 0.6776 - accuracy: 0.7407 - val_loss: 0.9959 - val_accuracy: 0.0000e+00\n",
      "Epoch 52/150\n",
      "14/14 [==============================] - 0s 3ms/step - loss: 0.6678 - accuracy: 0.7407 - val_loss: 0.9939 - val_accuracy: 0.0000e+00\n",
      "Epoch 53/150\n",
      "14/14 [==============================] - 0s 3ms/step - loss: 0.6585 - accuracy: 0.7407 - val_loss: 0.9961 - val_accuracy: 0.0000e+00\n",
      "Epoch 54/150\n",
      "14/14 [==============================] - 0s 2ms/step - loss: 0.6492 - accuracy: 0.7407 - val_loss: 0.9886 - val_accuracy: 0.0000e+00\n",
      "Epoch 55/150\n",
      "14/14 [==============================] - 0s 2ms/step - loss: 0.6406 - accuracy: 0.7407 - val_loss: 0.9823 - val_accuracy: 0.0000e+00\n",
      "Epoch 56/150\n",
      "14/14 [==============================] - 0s 2ms/step - loss: 0.6326 - accuracy: 0.7407 - val_loss: 0.9744 - val_accuracy: 0.0000e+00\n",
      "Epoch 57/150\n"
     ]
    },
    {
     "name": "stdout",
     "output_type": "stream",
     "text": [
      "14/14 [==============================] - 0s 2ms/step - loss: 0.6247 - accuracy: 0.7407 - val_loss: 0.9714 - val_accuracy: 0.0000e+00\n",
      "Epoch 58/150\n",
      "14/14 [==============================] - 0s 2ms/step - loss: 0.6172 - accuracy: 0.7407 - val_loss: 0.9675 - val_accuracy: 0.0000e+00\n",
      "Epoch 59/150\n",
      "14/14 [==============================] - 0s 2ms/step - loss: 0.6100 - accuracy: 0.7407 - val_loss: 0.9653 - val_accuracy: 0.0000e+00\n",
      "Epoch 60/150\n",
      "14/14 [==============================] - 0s 3ms/step - loss: 0.6032 - accuracy: 0.7407 - val_loss: 0.9637 - val_accuracy: 0.0000e+00\n",
      "Epoch 61/150\n",
      "14/14 [==============================] - 0s 2ms/step - loss: 0.5968 - accuracy: 0.7407 - val_loss: 0.9620 - val_accuracy: 0.0000e+00\n",
      "Epoch 62/150\n",
      "14/14 [==============================] - 0s 2ms/step - loss: 0.5906 - accuracy: 0.7407 - val_loss: 0.9599 - val_accuracy: 0.0000e+00\n",
      "Epoch 63/150\n",
      "14/14 [==============================] - 0s 2ms/step - loss: 0.5845 - accuracy: 0.7407 - val_loss: 0.9538 - val_accuracy: 0.0000e+00\n",
      "Epoch 64/150\n",
      "14/14 [==============================] - 0s 2ms/step - loss: 0.5788 - accuracy: 0.7407 - val_loss: 0.9500 - val_accuracy: 0.0000e+00\n",
      "Epoch 65/150\n",
      "14/14 [==============================] - 0s 2ms/step - loss: 0.5734 - accuracy: 0.7407 - val_loss: 0.9461 - val_accuracy: 0.0000e+00\n",
      "Epoch 66/150\n",
      "14/14 [==============================] - 0s 2ms/step - loss: 0.5683 - accuracy: 0.7407 - val_loss: 0.9440 - val_accuracy: 0.0000e+00\n",
      "Epoch 67/150\n",
      "14/14 [==============================] - 0s 2ms/step - loss: 0.5633 - accuracy: 0.7407 - val_loss: 0.9459 - val_accuracy: 0.0000e+00\n",
      "Epoch 68/150\n",
      "14/14 [==============================] - 0s 2ms/step - loss: 0.5585 - accuracy: 0.7407 - val_loss: 0.9402 - val_accuracy: 0.0000e+00\n",
      "Epoch 69/150\n",
      "14/14 [==============================] - 0s 2ms/step - loss: 0.5540 - accuracy: 0.7407 - val_loss: 0.9420 - val_accuracy: 0.0000e+00\n",
      "Epoch 70/150\n",
      "14/14 [==============================] - 0s 2ms/step - loss: 0.5495 - accuracy: 0.7407 - val_loss: 0.9384 - val_accuracy: 0.0000e+00\n",
      "Epoch 71/150\n",
      "14/14 [==============================] - 0s 2ms/step - loss: 0.5453 - accuracy: 0.7407 - val_loss: 0.9365 - val_accuracy: 0.0000e+00\n",
      "Epoch 72/150\n",
      "14/14 [==============================] - 0s 2ms/step - loss: 0.5414 - accuracy: 0.7407 - val_loss: 0.9314 - val_accuracy: 0.0000e+00\n",
      "Epoch 73/150\n",
      "14/14 [==============================] - 0s 2ms/step - loss: 0.5373 - accuracy: 0.7407 - val_loss: 0.9371 - val_accuracy: 0.0000e+00\n",
      "Epoch 74/150\n",
      "14/14 [==============================] - 0s 2ms/step - loss: 0.5337 - accuracy: 0.7407 - val_loss: 0.9411 - val_accuracy: 0.0000e+00\n",
      "Epoch 75/150\n",
      "14/14 [==============================] - 0s 2ms/step - loss: 0.5298 - accuracy: 0.7407 - val_loss: 0.9387 - val_accuracy: 0.0000e+00\n",
      "Epoch 76/150\n",
      "14/14 [==============================] - 0s 2ms/step - loss: 0.5262 - accuracy: 0.7407 - val_loss: 0.9335 - val_accuracy: 0.0000e+00\n",
      "Epoch 77/150\n",
      "14/14 [==============================] - 0s 2ms/step - loss: 0.5229 - accuracy: 0.7407 - val_loss: 0.9361 - val_accuracy: 0.0000e+00\n",
      "Epoch 78/150\n",
      "14/14 [==============================] - 0s 2ms/step - loss: 0.5202 - accuracy: 0.7407 - val_loss: 0.9430 - val_accuracy: 0.0000e+00\n",
      "Epoch 79/150\n",
      "14/14 [==============================] - 0s 2ms/step - loss: 0.5163 - accuracy: 0.7407 - val_loss: 0.9354 - val_accuracy: 0.0000e+00\n",
      "Epoch 80/150\n",
      "14/14 [==============================] - 0s 2ms/step - loss: 0.5130 - accuracy: 0.7407 - val_loss: 0.9366 - val_accuracy: 0.0000e+00\n",
      "Epoch 81/150\n",
      "14/14 [==============================] - 0s 1ms/step - loss: 0.5099 - accuracy: 0.7407 - val_loss: 0.9343 - val_accuracy: 0.0000e+00\n",
      "Epoch 82/150\n",
      "14/14 [==============================] - 0s 2ms/step - loss: 0.5069 - accuracy: 0.7407 - val_loss: 0.9355 - val_accuracy: 0.0000e+00\n",
      "Epoch 83/150\n",
      "14/14 [==============================] - 0s 2ms/step - loss: 0.5040 - accuracy: 0.7407 - val_loss: 0.9345 - val_accuracy: 0.0000e+00\n",
      "Epoch 84/150\n",
      "14/14 [==============================] - 0s 2ms/step - loss: 0.5011 - accuracy: 0.7407 - val_loss: 0.9359 - val_accuracy: 0.0000e+00\n",
      "Epoch 85/150\n",
      "14/14 [==============================] - 0s 2ms/step - loss: 0.4981 - accuracy: 0.7407 - val_loss: 0.9362 - val_accuracy: 0.0000e+00\n",
      "Epoch 86/150\n",
      "14/14 [==============================] - 0s 1ms/step - loss: 0.4952 - accuracy: 0.7407 - val_loss: 0.9381 - val_accuracy: 0.0000e+00\n",
      "Epoch 87/150\n",
      "14/14 [==============================] - 0s 1ms/step - loss: 0.4923 - accuracy: 0.7407 - val_loss: 0.9393 - val_accuracy: 0.0000e+00\n",
      "Epoch 88/150\n",
      "14/14 [==============================] - 0s 2ms/step - loss: 0.4895 - accuracy: 0.7407 - val_loss: 0.9425 - val_accuracy: 0.0000e+00\n",
      "Epoch 89/150\n",
      "14/14 [==============================] - 0s 2ms/step - loss: 0.4870 - accuracy: 0.7407 - val_loss: 0.9489 - val_accuracy: 0.0000e+00\n",
      "Epoch 90/150\n",
      "14/14 [==============================] - 0s 2ms/step - loss: 0.4841 - accuracy: 0.7407 - val_loss: 0.9495 - val_accuracy: 0.0000e+00\n",
      "Epoch 91/150\n",
      "14/14 [==============================] - 0s 2ms/step - loss: 0.4811 - accuracy: 0.7407 - val_loss: 0.9409 - val_accuracy: 0.0000e+00\n",
      "Epoch 92/150\n",
      "14/14 [==============================] - 0s 2ms/step - loss: 0.4782 - accuracy: 0.7407 - val_loss: 0.9393 - val_accuracy: 0.0000e+00\n",
      "Epoch 93/150\n",
      "14/14 [==============================] - 0s 2ms/step - loss: 0.4754 - accuracy: 0.7407 - val_loss: 0.9421 - val_accuracy: 0.0000e+00\n",
      "Epoch 94/150\n",
      "14/14 [==============================] - 0s 3ms/step - loss: 0.4727 - accuracy: 0.7407 - val_loss: 0.9465 - val_accuracy: 0.0000e+00\n",
      "Epoch 95/150\n",
      "14/14 [==============================] - 0s 2ms/step - loss: 0.4695 - accuracy: 0.7407 - val_loss: 0.9433 - val_accuracy: 0.0000e+00\n",
      "Epoch 96/150\n",
      "14/14 [==============================] - 0s 2ms/step - loss: 0.4670 - accuracy: 0.7407 - val_loss: 0.9420 - val_accuracy: 0.0000e+00\n",
      "Epoch 97/150\n",
      "14/14 [==============================] - 0s 2ms/step - loss: 0.4637 - accuracy: 0.7407 - val_loss: 0.9401 - val_accuracy: 0.0000e+00\n",
      "Epoch 98/150\n",
      "14/14 [==============================] - 0s 2ms/step - loss: 0.4607 - accuracy: 0.7407 - val_loss: 0.9394 - val_accuracy: 0.0000e+00\n",
      "Epoch 99/150\n",
      "14/14 [==============================] - 0s 2ms/step - loss: 0.4576 - accuracy: 0.7407 - val_loss: 0.9323 - val_accuracy: 0.0000e+00\n",
      "Epoch 100/150\n",
      "14/14 [==============================] - 0s 2ms/step - loss: 0.4546 - accuracy: 0.7407 - val_loss: 0.9315 - val_accuracy: 0.0000e+00\n",
      "Epoch 101/150\n",
      "14/14 [==============================] - 0s 2ms/step - loss: 0.4519 - accuracy: 0.7407 - val_loss: 0.9325 - val_accuracy: 0.0000e+00\n",
      "Epoch 102/150\n",
      "14/14 [==============================] - 0s 2ms/step - loss: 0.4487 - accuracy: 0.7407 - val_loss: 0.9181 - val_accuracy: 0.0000e+00\n",
      "Epoch 103/150\n",
      "14/14 [==============================] - 0s 2ms/step - loss: 0.4455 - accuracy: 0.7407 - val_loss: 0.9208 - val_accuracy: 0.0000e+00\n",
      "Epoch 104/150\n",
      "14/14 [==============================] - 0s 2ms/step - loss: 0.4421 - accuracy: 0.7407 - val_loss: 0.9250 - val_accuracy: 0.0000e+00\n",
      "Epoch 105/150\n",
      "14/14 [==============================] - 0s 2ms/step - loss: 0.4393 - accuracy: 0.7407 - val_loss: 0.9250 - val_accuracy: 0.0000e+00\n",
      "Epoch 106/150\n",
      "14/14 [==============================] - 0s 2ms/step - loss: 0.4359 - accuracy: 0.7407 - val_loss: 0.9149 - val_accuracy: 0.0000e+00\n",
      "Epoch 107/150\n",
      "14/14 [==============================] - 0s 2ms/step - loss: 0.4326 - accuracy: 0.7407 - val_loss: 0.9177 - val_accuracy: 0.0000e+00\n",
      "Epoch 108/150\n",
      "14/14 [==============================] - 0s 1ms/step - loss: 0.4304 - accuracy: 0.7407 - val_loss: 0.9294 - val_accuracy: 0.0000e+00\n",
      "Epoch 109/150\n",
      "14/14 [==============================] - 0s 2ms/step - loss: 0.4265 - accuracy: 0.7407 - val_loss: 0.9056 - val_accuracy: 0.0000e+00\n",
      "Epoch 110/150\n",
      "14/14 [==============================] - 0s 2ms/step - loss: 0.4231 - accuracy: 0.7407 - val_loss: 0.9104 - val_accuracy: 0.0000e+00\n",
      "Epoch 111/150\n",
      "14/14 [==============================] - 0s 2ms/step - loss: 0.4197 - accuracy: 0.7407 - val_loss: 0.9023 - val_accuracy: 0.0000e+00\n",
      "Epoch 112/150\n",
      "14/14 [==============================] - 0s 1ms/step - loss: 0.4162 - accuracy: 0.7407 - val_loss: 0.8980 - val_accuracy: 0.0000e+00\n",
      "Epoch 113/150\n"
     ]
    },
    {
     "name": "stdout",
     "output_type": "stream",
     "text": [
      "14/14 [==============================] - 0s 2ms/step - loss: 0.4130 - accuracy: 0.7407 - val_loss: 0.9004 - val_accuracy: 0.0000e+00\n",
      "Epoch 114/150\n",
      "14/14 [==============================] - 0s 2ms/step - loss: 0.4099 - accuracy: 0.7407 - val_loss: 0.8982 - val_accuracy: 0.0000e+00\n",
      "Epoch 115/150\n",
      "14/14 [==============================] - 0s 1ms/step - loss: 0.4064 - accuracy: 0.7407 - val_loss: 0.8851 - val_accuracy: 0.0000e+00\n",
      "Epoch 116/150\n",
      "14/14 [==============================] - 0s 2ms/step - loss: 0.4036 - accuracy: 0.7407 - val_loss: 0.8961 - val_accuracy: 0.0000e+00\n",
      "Epoch 117/150\n",
      "14/14 [==============================] - 0s 2ms/step - loss: 0.3995 - accuracy: 0.7407 - val_loss: 0.8733 - val_accuracy: 0.0000e+00\n",
      "Epoch 118/150\n",
      "14/14 [==============================] - 0s 2ms/step - loss: 0.3970 - accuracy: 0.7407 - val_loss: 0.8737 - val_accuracy: 0.0000e+00\n",
      "Epoch 119/150\n",
      "14/14 [==============================] - 0s 2ms/step - loss: 0.3929 - accuracy: 0.7407 - val_loss: 0.8607 - val_accuracy: 0.0000e+00\n",
      "Epoch 120/150\n",
      "14/14 [==============================] - 0s 2ms/step - loss: 0.3912 - accuracy: 0.7407 - val_loss: 0.8461 - val_accuracy: 0.0000e+00\n",
      "Epoch 121/150\n",
      "14/14 [==============================] - 0s 2ms/step - loss: 0.3865 - accuracy: 0.7407 - val_loss: 0.8673 - val_accuracy: 0.0000e+00\n",
      "Epoch 122/150\n",
      "14/14 [==============================] - 0s 1ms/step - loss: 0.3832 - accuracy: 0.7407 - val_loss: 0.8500 - val_accuracy: 0.0000e+00\n",
      "Epoch 123/150\n",
      "14/14 [==============================] - 0s 2ms/step - loss: 0.3798 - accuracy: 0.7407 - val_loss: 0.8380 - val_accuracy: 0.0000e+00\n",
      "Epoch 124/150\n",
      "14/14 [==============================] - 0s 2ms/step - loss: 0.3766 - accuracy: 0.7407 - val_loss: 0.8370 - val_accuracy: 0.0000e+00\n",
      "Epoch 125/150\n",
      "14/14 [==============================] - 0s 1ms/step - loss: 0.3732 - accuracy: 0.7407 - val_loss: 0.8345 - val_accuracy: 0.0000e+00\n",
      "Epoch 126/150\n",
      "14/14 [==============================] - 0s 2ms/step - loss: 0.3704 - accuracy: 0.7407 - val_loss: 0.8288 - val_accuracy: 0.0000e+00\n",
      "Epoch 127/150\n",
      "14/14 [==============================] - 0s 2ms/step - loss: 0.3667 - accuracy: 0.7407 - val_loss: 0.8235 - val_accuracy: 0.0000e+00\n",
      "Epoch 128/150\n",
      "14/14 [==============================] - 0s 2ms/step - loss: 0.3637 - accuracy: 0.7407 - val_loss: 0.8235 - val_accuracy: 0.0000e+00\n",
      "Epoch 129/150\n",
      "14/14 [==============================] - 0s 2ms/step - loss: 0.3605 - accuracy: 0.7407 - val_loss: 0.8163 - val_accuracy: 0.0000e+00\n",
      "Epoch 130/150\n",
      "14/14 [==============================] - 0s 2ms/step - loss: 0.3574 - accuracy: 0.7407 - val_loss: 0.8085 - val_accuracy: 0.0000e+00\n",
      "Epoch 131/150\n",
      "14/14 [==============================] - 0s 2ms/step - loss: 0.3548 - accuracy: 0.7407 - val_loss: 0.8102 - val_accuracy: 0.0000e+00\n",
      "Epoch 132/150\n",
      "14/14 [==============================] - 0s 2ms/step - loss: 0.3518 - accuracy: 0.7407 - val_loss: 0.7935 - val_accuracy: 0.0000e+00\n",
      "Epoch 133/150\n",
      "14/14 [==============================] - 0s 2ms/step - loss: 0.3487 - accuracy: 0.7407 - val_loss: 0.8052 - val_accuracy: 0.0000e+00\n",
      "Epoch 134/150\n",
      "14/14 [==============================] - 0s 2ms/step - loss: 0.3460 - accuracy: 0.7407 - val_loss: 0.7810 - val_accuracy: 0.0000e+00\n",
      "Epoch 135/150\n",
      "14/14 [==============================] - 0s 2ms/step - loss: 0.3423 - accuracy: 0.7407 - val_loss: 0.7910 - val_accuracy: 0.0000e+00\n",
      "Epoch 136/150\n",
      "14/14 [==============================] - 0s 2ms/step - loss: 0.3400 - accuracy: 0.7481 - val_loss: 0.7823 - val_accuracy: 0.0000e+00\n",
      "Epoch 137/150\n",
      "14/14 [==============================] - 0s 2ms/step - loss: 0.3364 - accuracy: 0.7481 - val_loss: 0.7737 - val_accuracy: 0.0000e+00\n",
      "Epoch 138/150\n",
      "14/14 [==============================] - 0s 2ms/step - loss: 0.3337 - accuracy: 0.7704 - val_loss: 0.7657 - val_accuracy: 0.0000e+00\n",
      "Epoch 139/150\n",
      "14/14 [==============================] - 0s 2ms/step - loss: 0.3306 - accuracy: 0.7704 - val_loss: 0.7654 - val_accuracy: 0.0000e+00\n",
      "Epoch 140/150\n",
      "14/14 [==============================] - 0s 2ms/step - loss: 0.3279 - accuracy: 0.7852 - val_loss: 0.7639 - val_accuracy: 0.0000e+00\n",
      "Epoch 141/150\n",
      "14/14 [==============================] - 0s 2ms/step - loss: 0.3250 - accuracy: 0.8000 - val_loss: 0.7527 - val_accuracy: 0.2667\n",
      "Epoch 142/150\n",
      "14/14 [==============================] - 0s 2ms/step - loss: 0.3220 - accuracy: 0.8222 - val_loss: 0.7461 - val_accuracy: 0.3333\n",
      "Epoch 143/150\n",
      "14/14 [==============================] - 0s 2ms/step - loss: 0.3191 - accuracy: 0.8519 - val_loss: 0.7450 - val_accuracy: 0.3333\n",
      "Epoch 144/150\n",
      "14/14 [==============================] - 0s 2ms/step - loss: 0.3184 - accuracy: 0.8296 - val_loss: 0.7462 - val_accuracy: 0.3333\n",
      "Epoch 145/150\n",
      "14/14 [==============================] - 0s 2ms/step - loss: 0.3140 - accuracy: 0.8593 - val_loss: 0.7347 - val_accuracy: 0.3333\n",
      "Epoch 146/150\n",
      "14/14 [==============================] - 0s 1ms/step - loss: 0.3111 - accuracy: 0.8667 - val_loss: 0.7227 - val_accuracy: 0.5333\n",
      "Epoch 147/150\n",
      "14/14 [==============================] - 0s 1ms/step - loss: 0.3100 - accuracy: 0.9037 - val_loss: 0.7115 - val_accuracy: 0.6000\n",
      "Epoch 148/150\n",
      "14/14 [==============================] - 0s 2ms/step - loss: 0.3055 - accuracy: 0.9111 - val_loss: 0.7228 - val_accuracy: 0.5333\n",
      "Epoch 149/150\n",
      "14/14 [==============================] - 0s 2ms/step - loss: 0.3034 - accuracy: 0.9111 - val_loss: 0.7173 - val_accuracy: 0.6000\n",
      "Epoch 150/150\n",
      "14/14 [==============================] - 0s 2ms/step - loss: 0.3002 - accuracy: 0.9111 - val_loss: 0.7042 - val_accuracy: 0.6000\n"
     ]
    }
   ],
   "source": [
    "history = model.fit(X, Y_onehot, epochs=150, batch_size=10,verbose=1, validation_split=0.1)"
   ]
  },
  {
   "cell_type": "code",
   "execution_count": 38,
   "metadata": {},
   "outputs": [
    {
     "data": {
      "image/png": "[encoded data removed]",
      "text/plain": [
       "<Figure size 1080x504 with 2 Axes>"
      ]
     },
     "metadata": {},
     "output_type": "display_data"
    }
   ],
   "source": [
    "#Représentation graphiques des performances du modèle\n",
    "plt.figure(figsize=(15,7))\n",
    "ax1 = plt.subplot(1,2,1)\n",
    "ax1.plot(history.history['loss'], color='b', label='Training Loss') \n",
    "ax1.plot(history.history['val_loss'], color='r', label = 'Validation Loss',axes=ax1)\n",
    "legend = ax1.legend(loc='best', shadow=True)\n",
    "ax2 = plt.subplot(1,2,2)\n",
    "ax2.plot(history.history['accuracy'], color='b', label='Training Accuracy') \n",
    "ax2.plot(history.history['val_accuracy'], color='r', label = 'Validation Accuracy')\n",
    "legend = ax2.legend(loc='best', shadow=True)"
   ]
  },
  {
   "cell_type": "code",
   "execution_count": 39,
   "metadata": {},
   "outputs": [
    {
     "name": "stdout",
     "output_type": "stream",
     "text": [
      "5/5 [==============================] - 0s 813us/step - loss: 0.3392 - accuracy: 0.8800\n"
     ]
    }
   ],
   "source": [
    "#Evaluation\n",
    "eval = model.evaluate(X,Y_onehot)"
   ]
  },
  {
   "cell_type": "code",
   "execution_count": 40,
   "metadata": {},
   "outputs": [
    {
     "name": "stdout",
     "output_type": "stream",
     "text": [
      "Accuracy: 88.0\n",
      "Loss: 33.9\n"
     ]
    }
   ],
   "source": [
    "print(\"Accuracy: %.1f\" % (eval[1]*100))\n",
    "print(\"Loss: %.1f\" % (eval[0]*100))"
   ]
  },
  {
   "cell_type": "code",
   "execution_count": 41,
   "metadata": {},
   "outputs": [
    {
     "name": "stdout",
     "output_type": "stream",
     "text": [
      "[0.5640843  0.0309158  0.00336638]\n",
      "[0.55731785 0.03134638 0.00339827]\n",
      "[0.5611633  0.03110191 0.00338003]\n",
      "[0.5551996  0.03148192 0.00340813]\n",
      "[0.5646713  0.03087863 0.00336358]\n",
      "[0.56073564 0.03112829 0.00338182]\n",
      "[0.5590978  0.03123376 0.00338957]\n",
      "[0.5612534  0.03109571 0.00337958]\n",
      "[0.5529071  0.03162903 0.0034191 ]\n",
      "[0.559361   0.031216   0.00338855]\n",
      "[0.5653354  0.03083608 0.00336051]\n",
      "[0.55861396 0.03126383 0.00339198]\n",
      "[0.5594967  0.03120762 0.00338796]\n",
      "[0.56270725 0.03100428 0.00337288]\n",
      "[0.5703016  0.03052148 0.00333765]\n",
      "[0.5679954  0.03066769 0.00334808]\n",
      "[0.5661868  0.03078249 0.00335655]\n",
      "[0.56225455 0.03103217 0.00337481]\n",
      "[0.5627481  0.0309999  0.00337255]\n",
      "[0.5637214  0.03093895 0.00336793]\n"
     ]
    }
   ],
   "source": [
    "#Prédiction\n",
    "prediction = model.predict(X)\n",
    "for i in range(20):\n",
    "    print(prediction[i])"
   ]
  },
  {
   "cell_type": "markdown",
   "metadata": {},
   "source": [
    "### Séparer le jeux de données : Apprentissage et validation"
   ]
  },
  {
   "cell_type": "code",
   "execution_count": 42,
   "metadata": {},
   "outputs": [],
   "source": [
    "from sklearn.model_selection import train_test_split"
   ]
  },
  {
   "cell_type": "code",
   "execution_count": 43,
   "metadata": {},
   "outputs": [],
   "source": [
    "X_train, X_test, Y_train, Y_test = train_test_split(X, Y_onehot, test_size = 0.2, random_state=0)"
   ]
  },
  {
   "cell_type": "code",
   "execution_count": 44,
   "metadata": {},
   "outputs": [],
   "source": [
    "model = Sequential()\n",
    "model.add(Dense(10,input_shape=(4,),activation='sigmoid'))\n",
    "model.add(Dense(8,activation='sigmoid'))\n",
    "model.add(Dense(6,activation='sigmoid'))\n",
    "model.add(Dense(3,activation='softmax'))"
   ]
  },
  {
   "cell_type": "code",
   "execution_count": 45,
   "metadata": {},
   "outputs": [],
   "source": [
    "model.compile(loss = 'categorical_crossentropy', optimizer = 'adam', metrics = ['accuracy'])"
   ]
  },
  {
   "cell_type": "code",
   "execution_count": 46,
   "metadata": {},
   "outputs": [
    {
     "name": "stdout",
     "output_type": "stream",
     "text": [
      "Epoch 1/200\n",
      "11/11 [==============================] - 0s 10ms/step - loss: 1.1148 - accuracy: 0.3889 - val_loss: 1.2533 - val_accuracy: 0.1667\n",
      "Epoch 2/200\n",
      "11/11 [==============================] - 0s 2ms/step - loss: 1.1075 - accuracy: 0.3889 - val_loss: 1.2330 - val_accuracy: 0.1667\n",
      "Epoch 3/200\n",
      "11/11 [==============================] - 0s 2ms/step - loss: 1.1017 - accuracy: 0.3889 - val_loss: 1.2169 - val_accuracy: 0.1667\n",
      "Epoch 4/200\n",
      "11/11 [==============================] - 0s 3ms/step - loss: 1.0963 - accuracy: 0.3889 - val_loss: 1.2022 - val_accuracy: 0.1667\n",
      "Epoch 5/200\n",
      "11/11 [==============================] - 0s 2ms/step - loss: 1.0923 - accuracy: 0.3889 - val_loss: 1.1903 - val_accuracy: 0.1667\n",
      "Epoch 6/200\n",
      "11/11 [==============================] - 0s 3ms/step - loss: 1.0896 - accuracy: 0.3889 - val_loss: 1.1785 - val_accuracy: 0.1667\n",
      "Epoch 7/200\n",
      "11/11 [==============================] - 0s 3ms/step - loss: 1.0863 - accuracy: 0.3889 - val_loss: 1.1723 - val_accuracy: 0.1667\n",
      "Epoch 8/200\n",
      "11/11 [==============================] - 0s 3ms/step - loss: 1.0842 - accuracy: 0.3889 - val_loss: 1.1646 - val_accuracy: 0.1667\n",
      "Epoch 9/200\n",
      "11/11 [==============================] - 0s 2ms/step - loss: 1.0829 - accuracy: 0.3889 - val_loss: 1.1553 - val_accuracy: 0.1667\n",
      "Epoch 10/200\n",
      "11/11 [==============================] - 0s 3ms/step - loss: 1.0802 - accuracy: 0.3889 - val_loss: 1.1518 - val_accuracy: 0.1667\n",
      "Epoch 11/200\n",
      "11/11 [==============================] - 0s 3ms/step - loss: 1.0785 - accuracy: 0.3889 - val_loss: 1.1503 - val_accuracy: 0.1667\n",
      "Epoch 12/200\n",
      "11/11 [==============================] - 0s 4ms/step - loss: 1.0766 - accuracy: 0.3889 - val_loss: 1.1453 - val_accuracy: 0.1667\n",
      "Epoch 13/200\n",
      "11/11 [==============================] - 0s 2ms/step - loss: 1.0749 - accuracy: 0.3889 - val_loss: 1.1422 - val_accuracy: 0.1667\n",
      "Epoch 14/200\n",
      "11/11 [==============================] - 0s 2ms/step - loss: 1.0729 - accuracy: 0.3889 - val_loss: 1.1380 - val_accuracy: 0.1667\n",
      "Epoch 15/200\n",
      "11/11 [==============================] - 0s 3ms/step - loss: 1.0708 - accuracy: 0.3889 - val_loss: 1.1342 - val_accuracy: 0.1667\n",
      "Epoch 16/200\n",
      "11/11 [==============================] - 0s 3ms/step - loss: 1.0692 - accuracy: 0.3889 - val_loss: 1.1302 - val_accuracy: 0.1667\n",
      "Epoch 17/200\n",
      "11/11 [==============================] - 0s 3ms/step - loss: 1.0671 - accuracy: 0.3889 - val_loss: 1.1291 - val_accuracy: 0.1667\n",
      "Epoch 18/200\n",
      "11/11 [==============================] - 0s 3ms/step - loss: 1.0652 - accuracy: 0.3889 - val_loss: 1.1243 - val_accuracy: 0.1667\n",
      "Epoch 19/200\n",
      "11/11 [==============================] - 0s 3ms/step - loss: 1.0623 - accuracy: 0.3889 - val_loss: 1.1210 - val_accuracy: 0.1667\n",
      "Epoch 20/200\n",
      "11/11 [==============================] - 0s 3ms/step - loss: 1.0602 - accuracy: 0.3889 - val_loss: 1.1221 - val_accuracy: 0.1667\n",
      "Epoch 21/200\n",
      "11/11 [==============================] - 0s 3ms/step - loss: 1.0572 - accuracy: 0.3889 - val_loss: 1.1180 - val_accuracy: 0.1667\n",
      "Epoch 22/200\n",
      "11/11 [==============================] - 0s 3ms/step - loss: 1.0542 - accuracy: 0.3889 - val_loss: 1.1142 - val_accuracy: 0.1667\n",
      "Epoch 23/200\n",
      "11/11 [==============================] - 0s 4ms/step - loss: 1.0513 - accuracy: 0.3889 - val_loss: 1.1099 - val_accuracy: 0.1667\n",
      "Epoch 24/200\n",
      "11/11 [==============================] - 0s 3ms/step - loss: 1.0478 - accuracy: 0.3889 - val_loss: 1.1074 - val_accuracy: 0.1667\n",
      "Epoch 25/200\n",
      "11/11 [==============================] - 0s 3ms/step - loss: 1.0446 - accuracy: 0.3889 - val_loss: 1.1028 - val_accuracy: 0.1667\n",
      "Epoch 26/200\n",
      "11/11 [==============================] - 0s 3ms/step - loss: 1.0406 - accuracy: 0.3889 - val_loss: 1.1014 - val_accuracy: 0.1667\n",
      "Epoch 27/200\n",
      "11/11 [==============================] - 0s 3ms/step - loss: 1.0366 - accuracy: 0.3889 - val_loss: 1.0945 - val_accuracy: 0.1667\n",
      "Epoch 28/200\n",
      "11/11 [==============================] - 0s 3ms/step - loss: 1.0320 - accuracy: 0.3889 - val_loss: 1.0915 - val_accuracy: 0.1667\n",
      "Epoch 29/200\n",
      "11/11 [==============================] - 0s 3ms/step - loss: 1.0273 - accuracy: 0.3981 - val_loss: 1.0873 - val_accuracy: 0.2500\n",
      "Epoch 30/200\n",
      "11/11 [==============================] - 0s 3ms/step - loss: 1.0226 - accuracy: 0.4167 - val_loss: 1.0852 - val_accuracy: 0.2500\n",
      "Epoch 31/200\n",
      "11/11 [==============================] - 0s 3ms/step - loss: 1.0169 - accuracy: 0.6019 - val_loss: 1.0761 - val_accuracy: 0.5833\n",
      "Epoch 32/200\n",
      "11/11 [==============================] - 0s 3ms/step - loss: 1.0110 - accuracy: 0.6852 - val_loss: 1.0697 - val_accuracy: 0.5833\n",
      "Epoch 33/200\n",
      "11/11 [==============================] - 0s 3ms/step - loss: 1.0049 - accuracy: 0.7037 - val_loss: 1.0641 - val_accuracy: 0.5833\n",
      "Epoch 34/200\n",
      "11/11 [==============================] - 0s 3ms/step - loss: 0.9988 - accuracy: 0.7037 - val_loss: 1.0566 - val_accuracy: 0.5833\n",
      "Epoch 35/200\n",
      "11/11 [==============================] - 0s 3ms/step - loss: 0.9918 - accuracy: 0.7037 - val_loss: 1.0505 - val_accuracy: 0.5833\n",
      "Epoch 36/200\n",
      "11/11 [==============================] - 0s 3ms/step - loss: 0.9854 - accuracy: 0.7037 - val_loss: 1.0414 - val_accuracy: 0.5833\n",
      "Epoch 37/200\n",
      "11/11 [==============================] - 0s 3ms/step - loss: 0.9772 - accuracy: 0.7037 - val_loss: 1.0359 - val_accuracy: 0.5833\n",
      "Epoch 38/200\n",
      "11/11 [==============================] - 0s 4ms/step - loss: 0.9697 - accuracy: 0.7037 - val_loss: 1.0311 - val_accuracy: 0.5833\n",
      "Epoch 39/200\n",
      "11/11 [==============================] - 0s 5ms/step - loss: 0.9619 - accuracy: 0.7037 - val_loss: 1.0180 - val_accuracy: 0.5833\n",
      "Epoch 40/200\n",
      "11/11 [==============================] - 0s 2ms/step - loss: 0.9528 - accuracy: 0.7037 - val_loss: 1.0080 - val_accuracy: 0.5833\n",
      "Epoch 41/200\n",
      "11/11 [==============================] - 0s 4ms/step - loss: 0.9436 - accuracy: 0.7037 - val_loss: 1.0008 - val_accuracy: 0.5833\n",
      "Epoch 42/200\n",
      "11/11 [==============================] - 0s 3ms/step - loss: 0.9349 - accuracy: 0.7037 - val_loss: 0.9940 - val_accuracy: 0.5833\n",
      "Epoch 43/200\n",
      "11/11 [==============================] - 0s 2ms/step - loss: 0.9245 - accuracy: 0.7037 - val_loss: 0.9847 - val_accuracy: 0.5833\n",
      "Epoch 44/200\n",
      "11/11 [==============================] - 0s 2ms/step - loss: 0.9147 - accuracy: 0.7037 - val_loss: 0.9726 - val_accuracy: 0.5833\n",
      "Epoch 45/200\n",
      "11/11 [==============================] - 0s 2ms/step - loss: 0.9049 - accuracy: 0.7037 - val_loss: 0.9602 - val_accuracy: 0.5833\n",
      "Epoch 46/200\n",
      "11/11 [==============================] - 0s 3ms/step - loss: 0.8937 - accuracy: 0.7037 - val_loss: 0.9498 - val_accuracy: 0.5833\n",
      "Epoch 47/200\n",
      "11/11 [==============================] - 0s 2ms/step - loss: 0.8837 - accuracy: 0.7037 - val_loss: 0.9401 - val_accuracy: 0.5833\n",
      "Epoch 48/200\n",
      "11/11 [==============================] - 0s 2ms/step - loss: 0.8721 - accuracy: 0.7037 - val_loss: 0.9286 - val_accuracy: 0.5833\n",
      "Epoch 49/200\n",
      "11/11 [==============================] - 0s 3ms/step - loss: 0.8618 - accuracy: 0.7037 - val_loss: 0.9133 - val_accuracy: 0.5833\n",
      "Epoch 50/200\n",
      "11/11 [==============================] - 0s 3ms/step - loss: 0.8500 - accuracy: 0.7037 - val_loss: 0.9029 - val_accuracy: 0.5833\n",
      "Epoch 51/200\n",
      "11/11 [==============================] - 0s 2ms/step - loss: 0.8389 - accuracy: 0.7037 - val_loss: 0.8914 - val_accuracy: 0.5833\n",
      "Epoch 52/200\n",
      "11/11 [==============================] - 0s 2ms/step - loss: 0.8274 - accuracy: 0.7037 - val_loss: 0.8816 - val_accuracy: 0.5833\n",
      "Epoch 53/200\n",
      "11/11 [==============================] - 0s 3ms/step - loss: 0.8164 - accuracy: 0.7037 - val_loss: 0.8707 - val_accuracy: 0.5833\n",
      "Epoch 54/200\n",
      "11/11 [==============================] - 0s 2ms/step - loss: 0.8052 - accuracy: 0.7037 - val_loss: 0.8572 - val_accuracy: 0.5833\n",
      "Epoch 55/200\n",
      "11/11 [==============================] - 0s 2ms/step - loss: 0.7945 - accuracy: 0.7037 - val_loss: 0.8440 - val_accuracy: 0.5833\n",
      "Epoch 56/200\n",
      "11/11 [==============================] - 0s 2ms/step - loss: 0.7836 - accuracy: 0.7037 - val_loss: 0.8321 - val_accuracy: 0.5833\n",
      "Epoch 57/200\n",
      "11/11 [==============================] - 0s 4ms/step - loss: 0.7730 - accuracy: 0.7037 - val_loss: 0.8208 - val_accuracy: 0.5833\n",
      "Epoch 58/200\n",
      "11/11 [==============================] - 0s 2ms/step - loss: 0.7626 - accuracy: 0.7037 - val_loss: 0.8115 - val_accuracy: 0.5833\n"
     ]
    },
    {
     "name": "stdout",
     "output_type": "stream",
     "text": [
      "Epoch 59/200\n",
      "11/11 [==============================] - 0s 3ms/step - loss: 0.7523 - accuracy: 0.7037 - val_loss: 0.7986 - val_accuracy: 0.5833\n",
      "Epoch 60/200\n",
      "11/11 [==============================] - 0s 3ms/step - loss: 0.7421 - accuracy: 0.7037 - val_loss: 0.7869 - val_accuracy: 0.5833\n",
      "Epoch 61/200\n",
      "11/11 [==============================] - 0s 3ms/step - loss: 0.7323 - accuracy: 0.7037 - val_loss: 0.7761 - val_accuracy: 0.5833\n",
      "Epoch 62/200\n",
      "11/11 [==============================] - 0s 3ms/step - loss: 0.7229 - accuracy: 0.7037 - val_loss: 0.7663 - val_accuracy: 0.5833\n",
      "Epoch 63/200\n",
      "11/11 [==============================] - 0s 2ms/step - loss: 0.7139 - accuracy: 0.7037 - val_loss: 0.7576 - val_accuracy: 0.5833\n",
      "Epoch 64/200\n",
      "11/11 [==============================] - 0s 2ms/step - loss: 0.7049 - accuracy: 0.7037 - val_loss: 0.7485 - val_accuracy: 0.5833\n",
      "Epoch 65/200\n",
      "11/11 [==============================] - 0s 2ms/step - loss: 0.6963 - accuracy: 0.7037 - val_loss: 0.7363 - val_accuracy: 0.5833\n",
      "Epoch 66/200\n",
      "11/11 [==============================] - 0s 2ms/step - loss: 0.6877 - accuracy: 0.7037 - val_loss: 0.7282 - val_accuracy: 0.5833\n",
      "Epoch 67/200\n",
      "11/11 [==============================] - 0s 2ms/step - loss: 0.6794 - accuracy: 0.7037 - val_loss: 0.7190 - val_accuracy: 0.5833\n",
      "Epoch 68/200\n",
      "11/11 [==============================] - 0s 2ms/step - loss: 0.6716 - accuracy: 0.7037 - val_loss: 0.7097 - val_accuracy: 0.5833\n",
      "Epoch 69/200\n",
      "11/11 [==============================] - 0s 2ms/step - loss: 0.6639 - accuracy: 0.7037 - val_loss: 0.7006 - val_accuracy: 0.5833\n",
      "Epoch 70/200\n",
      "11/11 [==============================] - 0s 2ms/step - loss: 0.6565 - accuracy: 0.7037 - val_loss: 0.6920 - val_accuracy: 0.5833\n",
      "Epoch 71/200\n",
      "11/11 [==============================] - 0s 2ms/step - loss: 0.6497 - accuracy: 0.7130 - val_loss: 0.6847 - val_accuracy: 0.5833\n",
      "Epoch 72/200\n",
      "11/11 [==============================] - 0s 2ms/step - loss: 0.6425 - accuracy: 0.7130 - val_loss: 0.6763 - val_accuracy: 0.5833\n",
      "Epoch 73/200\n",
      "11/11 [==============================] - 0s 2ms/step - loss: 0.6358 - accuracy: 0.7130 - val_loss: 0.6689 - val_accuracy: 0.5833\n",
      "Epoch 74/200\n",
      "11/11 [==============================] - 0s 2ms/step - loss: 0.6296 - accuracy: 0.7222 - val_loss: 0.6618 - val_accuracy: 0.5833\n",
      "Epoch 75/200\n",
      "11/11 [==============================] - 0s 2ms/step - loss: 0.6231 - accuracy: 0.7222 - val_loss: 0.6535 - val_accuracy: 0.5833\n",
      "Epoch 76/200\n",
      "11/11 [==============================] - 0s 2ms/step - loss: 0.6173 - accuracy: 0.7222 - val_loss: 0.6478 - val_accuracy: 0.5833\n",
      "Epoch 77/200\n",
      "11/11 [==============================] - 0s 2ms/step - loss: 0.6110 - accuracy: 0.7222 - val_loss: 0.6411 - val_accuracy: 0.5833\n",
      "Epoch 78/200\n",
      "11/11 [==============================] - 0s 2ms/step - loss: 0.6055 - accuracy: 0.7222 - val_loss: 0.6346 - val_accuracy: 0.5833\n",
      "Epoch 79/200\n",
      "11/11 [==============================] - 0s 2ms/step - loss: 0.6000 - accuracy: 0.7315 - val_loss: 0.6260 - val_accuracy: 0.5833\n",
      "Epoch 80/200\n",
      "11/11 [==============================] - 0s 2ms/step - loss: 0.5946 - accuracy: 0.7407 - val_loss: 0.6218 - val_accuracy: 0.5833\n",
      "Epoch 81/200\n",
      "11/11 [==============================] - 0s 2ms/step - loss: 0.5891 - accuracy: 0.7315 - val_loss: 0.6147 - val_accuracy: 0.5833\n",
      "Epoch 82/200\n",
      "11/11 [==============================] - 0s 2ms/step - loss: 0.5840 - accuracy: 0.7407 - val_loss: 0.6084 - val_accuracy: 0.5833\n",
      "Epoch 83/200\n",
      "11/11 [==============================] - 0s 2ms/step - loss: 0.5800 - accuracy: 0.7407 - val_loss: 0.5997 - val_accuracy: 0.5833\n",
      "Epoch 84/200\n",
      "11/11 [==============================] - 0s 2ms/step - loss: 0.5746 - accuracy: 0.7407 - val_loss: 0.5973 - val_accuracy: 0.5833\n",
      "Epoch 85/200\n",
      "11/11 [==============================] - 0s 2ms/step - loss: 0.5695 - accuracy: 0.7500 - val_loss: 0.5912 - val_accuracy: 0.5833\n",
      "Epoch 86/200\n",
      "11/11 [==============================] - 0s 2ms/step - loss: 0.5648 - accuracy: 0.7407 - val_loss: 0.5871 - val_accuracy: 0.5833\n",
      "Epoch 87/200\n",
      "11/11 [==============================] - 0s 2ms/step - loss: 0.5603 - accuracy: 0.7500 - val_loss: 0.5806 - val_accuracy: 0.6667\n",
      "Epoch 88/200\n",
      "11/11 [==============================] - 0s 2ms/step - loss: 0.5557 - accuracy: 0.7500 - val_loss: 0.5772 - val_accuracy: 0.5833\n",
      "Epoch 89/200\n",
      "11/11 [==============================] - 0s 2ms/step - loss: 0.5513 - accuracy: 0.7593 - val_loss: 0.5710 - val_accuracy: 0.6667\n",
      "Epoch 90/200\n",
      "11/11 [==============================] - 0s 2ms/step - loss: 0.5469 - accuracy: 0.7593 - val_loss: 0.5666 - val_accuracy: 0.6667\n",
      "Epoch 91/200\n",
      "11/11 [==============================] - 0s 2ms/step - loss: 0.5428 - accuracy: 0.7593 - val_loss: 0.5633 - val_accuracy: 0.6667\n",
      "Epoch 92/200\n",
      "11/11 [==============================] - 0s 2ms/step - loss: 0.5388 - accuracy: 0.7593 - val_loss: 0.5598 - val_accuracy: 0.6667\n",
      "Epoch 93/200\n",
      "11/11 [==============================] - 0s 2ms/step - loss: 0.5358 - accuracy: 0.8056 - val_loss: 0.5498 - val_accuracy: 0.7500\n",
      "Epoch 94/200\n",
      "11/11 [==============================] - 0s 2ms/step - loss: 0.5302 - accuracy: 0.8241 - val_loss: 0.5492 - val_accuracy: 0.6667\n",
      "Epoch 95/200\n",
      "11/11 [==============================] - 0s 2ms/step - loss: 0.5264 - accuracy: 0.7778 - val_loss: 0.5472 - val_accuracy: 0.6667\n",
      "Epoch 96/200\n",
      "11/11 [==============================] - 0s 2ms/step - loss: 0.5225 - accuracy: 0.8056 - val_loss: 0.5382 - val_accuracy: 0.7500\n",
      "Epoch 97/200\n",
      "11/11 [==============================] - 0s 2ms/step - loss: 0.5181 - accuracy: 0.8333 - val_loss: 0.5336 - val_accuracy: 0.7500\n",
      "Epoch 98/200\n",
      "11/11 [==============================] - 0s 2ms/step - loss: 0.5147 - accuracy: 0.8426 - val_loss: 0.5305 - val_accuracy: 0.7500\n",
      "Epoch 99/200\n",
      "11/11 [==============================] - 0s 2ms/step - loss: 0.5104 - accuracy: 0.8426 - val_loss: 0.5248 - val_accuracy: 0.7500\n",
      "Epoch 100/200\n",
      "11/11 [==============================] - 0s 2ms/step - loss: 0.5074 - accuracy: 0.8333 - val_loss: 0.5268 - val_accuracy: 0.7500\n",
      "Epoch 101/200\n",
      "11/11 [==============================] - 0s 2ms/step - loss: 0.5025 - accuracy: 0.8426 - val_loss: 0.5170 - val_accuracy: 0.8333\n",
      "Epoch 102/200\n",
      "11/11 [==============================] - 0s 2ms/step - loss: 0.4992 - accuracy: 0.8611 - val_loss: 0.5118 - val_accuracy: 0.8333\n",
      "Epoch 103/200\n",
      "11/11 [==============================] - 0s 3ms/step - loss: 0.4949 - accuracy: 0.8611 - val_loss: 0.5072 - val_accuracy: 0.8333\n",
      "Epoch 104/200\n",
      "11/11 [==============================] - 0s 2ms/step - loss: 0.4909 - accuracy: 0.8611 - val_loss: 0.5080 - val_accuracy: 0.8333\n",
      "Epoch 105/200\n",
      "11/11 [==============================] - 0s 2ms/step - loss: 0.4870 - accuracy: 0.8611 - val_loss: 0.5021 - val_accuracy: 0.8333\n",
      "Epoch 106/200\n",
      "11/11 [==============================] - 0s 2ms/step - loss: 0.4832 - accuracy: 0.8611 - val_loss: 0.4978 - val_accuracy: 0.8333\n",
      "Epoch 107/200\n",
      "11/11 [==============================] - 0s 2ms/step - loss: 0.4793 - accuracy: 0.8704 - val_loss: 0.4935 - val_accuracy: 0.8333\n",
      "Epoch 108/200\n",
      "11/11 [==============================] - 0s 2ms/step - loss: 0.4755 - accuracy: 0.8796 - val_loss: 0.4887 - val_accuracy: 0.8333\n",
      "Epoch 109/200\n",
      "11/11 [==============================] - 0s 2ms/step - loss: 0.4718 - accuracy: 0.8796 - val_loss: 0.4880 - val_accuracy: 0.8333\n",
      "Epoch 110/200\n",
      "11/11 [==============================] - 0s 2ms/step - loss: 0.4683 - accuracy: 0.8704 - val_loss: 0.4861 - val_accuracy: 0.8333\n",
      "Epoch 111/200\n",
      "11/11 [==============================] - 0s 2ms/step - loss: 0.4642 - accuracy: 0.8796 - val_loss: 0.4756 - val_accuracy: 0.8333\n",
      "Epoch 112/200\n",
      "11/11 [==============================] - 0s 2ms/step - loss: 0.4609 - accuracy: 0.9167 - val_loss: 0.4697 - val_accuracy: 0.8333\n",
      "Epoch 113/200\n",
      "11/11 [==============================] - 0s 2ms/step - loss: 0.4571 - accuracy: 0.8889 - val_loss: 0.4729 - val_accuracy: 0.8333\n",
      "Epoch 114/200\n",
      "11/11 [==============================] - 0s 2ms/step - loss: 0.4525 - accuracy: 0.8796 - val_loss: 0.4683 - val_accuracy: 0.8333\n",
      "Epoch 115/200\n",
      "11/11 [==============================] - 0s 2ms/step - loss: 0.4488 - accuracy: 0.8796 - val_loss: 0.4646 - val_accuracy: 0.8333\n",
      "Epoch 116/200\n"
     ]
    },
    {
     "name": "stdout",
     "output_type": "stream",
     "text": [
      "11/11 [==============================] - 0s 2ms/step - loss: 0.4450 - accuracy: 0.9259 - val_loss: 0.4567 - val_accuracy: 0.8333\n",
      "Epoch 117/200\n",
      "11/11 [==============================] - 0s 2ms/step - loss: 0.4412 - accuracy: 0.9352 - val_loss: 0.4557 - val_accuracy: 0.8333\n",
      "Epoch 118/200\n",
      "11/11 [==============================] - 0s 2ms/step - loss: 0.4375 - accuracy: 0.9167 - val_loss: 0.4540 - val_accuracy: 0.8333\n",
      "Epoch 119/200\n",
      "11/11 [==============================] - 0s 2ms/step - loss: 0.4332 - accuracy: 0.9352 - val_loss: 0.4477 - val_accuracy: 0.8333\n",
      "Epoch 120/200\n",
      "11/11 [==============================] - 0s 2ms/step - loss: 0.4295 - accuracy: 0.9352 - val_loss: 0.4448 - val_accuracy: 0.8333\n",
      "Epoch 121/200\n",
      "11/11 [==============================] - 0s 2ms/step - loss: 0.4255 - accuracy: 0.9352 - val_loss: 0.4381 - val_accuracy: 0.8333\n",
      "Epoch 122/200\n",
      "11/11 [==============================] - 0s 2ms/step - loss: 0.4218 - accuracy: 0.9444 - val_loss: 0.4352 - val_accuracy: 0.8333\n",
      "Epoch 123/200\n",
      "11/11 [==============================] - 0s 2ms/step - loss: 0.4195 - accuracy: 0.9537 - val_loss: 0.4279 - val_accuracy: 0.9167\n",
      "Epoch 124/200\n",
      "11/11 [==============================] - 0s 2ms/step - loss: 0.4140 - accuracy: 0.9444 - val_loss: 0.4330 - val_accuracy: 0.8333\n",
      "Epoch 125/200\n",
      "11/11 [==============================] - 0s 2ms/step - loss: 0.4107 - accuracy: 0.9444 - val_loss: 0.4273 - val_accuracy: 0.8333\n",
      "Epoch 126/200\n",
      "11/11 [==============================] - 0s 2ms/step - loss: 0.4068 - accuracy: 0.9352 - val_loss: 0.4249 - val_accuracy: 0.8333\n",
      "Epoch 127/200\n",
      "11/11 [==============================] - 0s 2ms/step - loss: 0.4028 - accuracy: 0.9444 - val_loss: 0.4167 - val_accuracy: 0.9167\n",
      "Epoch 128/200\n",
      "11/11 [==============================] - 0s 2ms/step - loss: 0.3993 - accuracy: 0.9444 - val_loss: 0.4165 - val_accuracy: 0.8333\n",
      "Epoch 129/200\n",
      "11/11 [==============================] - 0s 2ms/step - loss: 0.3952 - accuracy: 0.9537 - val_loss: 0.4105 - val_accuracy: 0.9167\n",
      "Epoch 130/200\n",
      "11/11 [==============================] - 0s 2ms/step - loss: 0.3916 - accuracy: 0.9537 - val_loss: 0.4096 - val_accuracy: 0.9167\n",
      "Epoch 131/200\n",
      "11/11 [==============================] - 0s 2ms/step - loss: 0.3875 - accuracy: 0.9537 - val_loss: 0.4027 - val_accuracy: 0.9167\n",
      "Epoch 132/200\n",
      "11/11 [==============================] - 0s 2ms/step - loss: 0.3836 - accuracy: 0.9537 - val_loss: 0.3988 - val_accuracy: 0.9167\n",
      "Epoch 133/200\n",
      "11/11 [==============================] - 0s 2ms/step - loss: 0.3808 - accuracy: 0.9537 - val_loss: 0.3981 - val_accuracy: 0.9167\n",
      "Epoch 134/200\n",
      "11/11 [==============================] - 0s 2ms/step - loss: 0.3763 - accuracy: 0.9537 - val_loss: 0.3919 - val_accuracy: 0.9167\n",
      "Epoch 135/200\n",
      "11/11 [==============================] - 0s 2ms/step - loss: 0.3726 - accuracy: 0.9537 - val_loss: 0.3912 - val_accuracy: 0.9167\n",
      "Epoch 136/200\n",
      "11/11 [==============================] - 0s 2ms/step - loss: 0.3690 - accuracy: 0.9537 - val_loss: 0.3852 - val_accuracy: 0.9167\n",
      "Epoch 137/200\n",
      "11/11 [==============================] - 0s 2ms/step - loss: 0.3653 - accuracy: 0.9537 - val_loss: 0.3833 - val_accuracy: 0.9167\n",
      "Epoch 138/200\n",
      "11/11 [==============================] - 0s 2ms/step - loss: 0.3626 - accuracy: 0.9537 - val_loss: 0.3750 - val_accuracy: 0.9167\n",
      "Epoch 139/200\n",
      "11/11 [==============================] - 0s 2ms/step - loss: 0.3577 - accuracy: 0.9537 - val_loss: 0.3800 - val_accuracy: 0.9167\n",
      "Epoch 140/200\n",
      "11/11 [==============================] - 0s 2ms/step - loss: 0.3543 - accuracy: 0.9537 - val_loss: 0.3738 - val_accuracy: 0.9167\n",
      "Epoch 141/200\n",
      "11/11 [==============================] - 0s 2ms/step - loss: 0.3513 - accuracy: 0.9537 - val_loss: 0.3652 - val_accuracy: 0.9167\n",
      "Epoch 142/200\n",
      "11/11 [==============================] - 0s 2ms/step - loss: 0.3466 - accuracy: 0.9537 - val_loss: 0.3664 - val_accuracy: 0.9167\n",
      "Epoch 143/200\n",
      "11/11 [==============================] - 0s 2ms/step - loss: 0.3435 - accuracy: 0.9537 - val_loss: 0.3634 - val_accuracy: 0.9167\n",
      "Epoch 144/200\n",
      "11/11 [==============================] - 0s 2ms/step - loss: 0.3398 - accuracy: 0.9537 - val_loss: 0.3590 - val_accuracy: 0.9167\n",
      "Epoch 145/200\n",
      "11/11 [==============================] - 0s 2ms/step - loss: 0.3367 - accuracy: 0.9537 - val_loss: 0.3515 - val_accuracy: 0.9167\n",
      "Epoch 146/200\n",
      "11/11 [==============================] - 0s 2ms/step - loss: 0.3324 - accuracy: 0.9537 - val_loss: 0.3522 - val_accuracy: 0.9167\n",
      "Epoch 147/200\n",
      "11/11 [==============================] - 0s 2ms/step - loss: 0.3295 - accuracy: 0.9537 - val_loss: 0.3515 - val_accuracy: 0.9167\n",
      "Epoch 148/200\n",
      "11/11 [==============================] - 0s 2ms/step - loss: 0.3259 - accuracy: 0.9537 - val_loss: 0.3431 - val_accuracy: 0.9167\n",
      "Epoch 149/200\n",
      "11/11 [==============================] - 0s 2ms/step - loss: 0.3221 - accuracy: 0.9537 - val_loss: 0.3393 - val_accuracy: 0.9167\n",
      "Epoch 150/200\n",
      "11/11 [==============================] - 0s 2ms/step - loss: 0.3188 - accuracy: 0.9630 - val_loss: 0.3361 - val_accuracy: 0.9167\n",
      "Epoch 151/200\n",
      "11/11 [==============================] - 0s 2ms/step - loss: 0.3161 - accuracy: 0.9537 - val_loss: 0.3413 - val_accuracy: 0.9167\n",
      "Epoch 152/200\n",
      "11/11 [==============================] - 0s 2ms/step - loss: 0.3122 - accuracy: 0.9537 - val_loss: 0.3293 - val_accuracy: 0.9167\n",
      "Epoch 153/200\n",
      "11/11 [==============================] - 0s 2ms/step - loss: 0.3090 - accuracy: 0.9630 - val_loss: 0.3301 - val_accuracy: 0.9167\n",
      "Epoch 154/200\n",
      "11/11 [==============================] - 0s 2ms/step - loss: 0.3053 - accuracy: 0.9630 - val_loss: 0.3199 - val_accuracy: 0.9167\n",
      "Epoch 155/200\n",
      "11/11 [==============================] - 0s 2ms/step - loss: 0.3022 - accuracy: 0.9630 - val_loss: 0.3174 - val_accuracy: 0.9167\n",
      "Epoch 156/200\n",
      "11/11 [==============================] - 0s 2ms/step - loss: 0.2995 - accuracy: 0.9630 - val_loss: 0.3227 - val_accuracy: 0.9167\n",
      "Epoch 157/200\n",
      "11/11 [==============================] - 0s 2ms/step - loss: 0.2960 - accuracy: 0.9630 - val_loss: 0.3134 - val_accuracy: 0.9167\n",
      "Epoch 158/200\n",
      "11/11 [==============================] - 0s 2ms/step - loss: 0.2924 - accuracy: 0.9630 - val_loss: 0.3086 - val_accuracy: 0.9167\n",
      "Epoch 159/200\n",
      "11/11 [==============================] - 0s 2ms/step - loss: 0.2902 - accuracy: 0.9630 - val_loss: 0.3110 - val_accuracy: 0.9167\n",
      "Epoch 160/200\n",
      "11/11 [==============================] - 0s 2ms/step - loss: 0.2855 - accuracy: 0.9630 - val_loss: 0.3035 - val_accuracy: 0.9167\n",
      "Epoch 161/200\n",
      "11/11 [==============================] - 0s 2ms/step - loss: 0.2846 - accuracy: 0.9630 - val_loss: 0.2962 - val_accuracy: 0.9167\n",
      "Epoch 162/200\n",
      "11/11 [==============================] - 0s 2ms/step - loss: 0.2795 - accuracy: 0.9630 - val_loss: 0.2986 - val_accuracy: 0.9167\n",
      "Epoch 163/200\n",
      "11/11 [==============================] - 0s 2ms/step - loss: 0.2779 - accuracy: 0.9630 - val_loss: 0.3047 - val_accuracy: 0.9167\n",
      "Epoch 164/200\n",
      "11/11 [==============================] - 0s 2ms/step - loss: 0.2739 - accuracy: 0.9630 - val_loss: 0.2946 - val_accuracy: 0.9167\n",
      "Epoch 165/200\n",
      "11/11 [==============================] - 0s 2ms/step - loss: 0.2706 - accuracy: 0.9630 - val_loss: 0.2833 - val_accuracy: 0.9167\n",
      "Epoch 166/200\n",
      "11/11 [==============================] - 0s 2ms/step - loss: 0.2688 - accuracy: 0.9630 - val_loss: 0.2875 - val_accuracy: 0.9167\n",
      "Epoch 167/200\n",
      "11/11 [==============================] - 0s 2ms/step - loss: 0.2664 - accuracy: 0.9630 - val_loss: 0.2811 - val_accuracy: 0.9167\n",
      "Epoch 168/200\n",
      "11/11 [==============================] - 0s 2ms/step - loss: 0.2621 - accuracy: 0.9630 - val_loss: 0.2845 - val_accuracy: 0.9167\n",
      "Epoch 169/200\n",
      "11/11 [==============================] - 0s 2ms/step - loss: 0.2601 - accuracy: 0.9630 - val_loss: 0.2768 - val_accuracy: 0.9167\n",
      "Epoch 170/200\n",
      "11/11 [==============================] - 0s 2ms/step - loss: 0.2586 - accuracy: 0.9630 - val_loss: 0.2711 - val_accuracy: 0.9167\n",
      "Epoch 171/200\n",
      "11/11 [==============================] - 0s 2ms/step - loss: 0.2531 - accuracy: 0.9630 - val_loss: 0.2809 - val_accuracy: 0.9167\n",
      "Epoch 172/200\n",
      "11/11 [==============================] - 0s 2ms/step - loss: 0.2534 - accuracy: 0.9630 - val_loss: 0.2799 - val_accuracy: 0.9167\n",
      "Epoch 173/200\n"
     ]
    },
    {
     "name": "stdout",
     "output_type": "stream",
     "text": [
      "11/11 [==============================] - 0s 2ms/step - loss: 0.2480 - accuracy: 0.9630 - val_loss: 0.2658 - val_accuracy: 0.9167\n",
      "Epoch 174/200\n",
      "11/11 [==============================] - 0s 2ms/step - loss: 0.2461 - accuracy: 0.9630 - val_loss: 0.2644 - val_accuracy: 0.9167\n",
      "Epoch 175/200\n",
      "11/11 [==============================] - 0s 2ms/step - loss: 0.2432 - accuracy: 0.9630 - val_loss: 0.2608 - val_accuracy: 0.9167\n",
      "Epoch 176/200\n",
      "11/11 [==============================] - 0s 2ms/step - loss: 0.2405 - accuracy: 0.9722 - val_loss: 0.2544 - val_accuracy: 0.9167\n",
      "Epoch 177/200\n",
      "11/11 [==============================] - 0s 2ms/step - loss: 0.2379 - accuracy: 0.9722 - val_loss: 0.2578 - val_accuracy: 0.9167\n",
      "Epoch 178/200\n",
      "11/11 [==============================] - 0s 2ms/step - loss: 0.2370 - accuracy: 0.9630 - val_loss: 0.2620 - val_accuracy: 0.9167\n",
      "Epoch 179/200\n",
      "11/11 [==============================] - 0s 2ms/step - loss: 0.2326 - accuracy: 0.9630 - val_loss: 0.2460 - val_accuracy: 0.9167\n",
      "Epoch 180/200\n",
      "11/11 [==============================] - 0s 2ms/step - loss: 0.2306 - accuracy: 0.9722 - val_loss: 0.2440 - val_accuracy: 0.9167\n",
      "Epoch 181/200\n",
      "11/11 [==============================] - 0s 2ms/step - loss: 0.2285 - accuracy: 0.9630 - val_loss: 0.2489 - val_accuracy: 0.9167\n",
      "Epoch 182/200\n",
      "11/11 [==============================] - 0s 2ms/step - loss: 0.2261 - accuracy: 0.9630 - val_loss: 0.2466 - val_accuracy: 0.9167\n",
      "Epoch 183/200\n",
      "11/11 [==============================] - 0s 2ms/step - loss: 0.2236 - accuracy: 0.9630 - val_loss: 0.2426 - val_accuracy: 0.9167\n",
      "Epoch 184/200\n",
      "11/11 [==============================] - 0s 2ms/step - loss: 0.2218 - accuracy: 0.9722 - val_loss: 0.2330 - val_accuracy: 0.9167\n",
      "Epoch 185/200\n",
      "11/11 [==============================] - 0s 2ms/step - loss: 0.2187 - accuracy: 0.9722 - val_loss: 0.2330 - val_accuracy: 0.9167\n",
      "Epoch 186/200\n",
      "11/11 [==============================] - 0s 2ms/step - loss: 0.2165 - accuracy: 0.9722 - val_loss: 0.2475 - val_accuracy: 0.9167\n",
      "Epoch 187/200\n",
      "11/11 [==============================] - 0s 2ms/step - loss: 0.2148 - accuracy: 0.9630 - val_loss: 0.2416 - val_accuracy: 0.9167\n",
      "Epoch 188/200\n",
      "11/11 [==============================] - 0s 2ms/step - loss: 0.2145 - accuracy: 0.9630 - val_loss: 0.2239 - val_accuracy: 0.9167\n",
      "Epoch 189/200\n",
      "11/11 [==============================] - 0s 2ms/step - loss: 0.2096 - accuracy: 0.9722 - val_loss: 0.2282 - val_accuracy: 0.9167\n",
      "Epoch 190/200\n",
      "11/11 [==============================] - 0s 2ms/step - loss: 0.2109 - accuracy: 0.9630 - val_loss: 0.2377 - val_accuracy: 0.9167\n",
      "Epoch 191/200\n",
      "11/11 [==============================] - 0s 2ms/step - loss: 0.2044 - accuracy: 0.9630 - val_loss: 0.2212 - val_accuracy: 0.9167\n",
      "Epoch 192/200\n",
      "11/11 [==============================] - 0s 2ms/step - loss: 0.2084 - accuracy: 0.9722 - val_loss: 0.2077 - val_accuracy: 0.9167\n",
      "Epoch 193/200\n",
      "11/11 [==============================] - 0s 2ms/step - loss: 0.2015 - accuracy: 0.9722 - val_loss: 0.2261 - val_accuracy: 0.9167\n",
      "Epoch 194/200\n",
      "11/11 [==============================] - 0s 2ms/step - loss: 0.1999 - accuracy: 0.9630 - val_loss: 0.2243 - val_accuracy: 0.9167\n",
      "Epoch 195/200\n",
      "11/11 [==============================] - 0s 2ms/step - loss: 0.1980 - accuracy: 0.9722 - val_loss: 0.2159 - val_accuracy: 0.9167\n",
      "Epoch 196/200\n",
      "11/11 [==============================] - 0s 2ms/step - loss: 0.1953 - accuracy: 0.9722 - val_loss: 0.2159 - val_accuracy: 0.9167\n",
      "Epoch 197/200\n",
      "11/11 [==============================] - 0s 2ms/step - loss: 0.1933 - accuracy: 0.9722 - val_loss: 0.2135 - val_accuracy: 0.9167\n",
      "Epoch 198/200\n",
      "11/11 [==============================] - 0s 2ms/step - loss: 0.1910 - accuracy: 0.9722 - val_loss: 0.2087 - val_accuracy: 0.9167\n",
      "Epoch 199/200\n",
      "11/11 [==============================] - 0s 2ms/step - loss: 0.1918 - accuracy: 0.9630 - val_loss: 0.2154 - val_accuracy: 0.9167\n",
      "Epoch 200/200\n",
      "11/11 [==============================] - 0s 2ms/step - loss: 0.1869 - accuracy: 0.9722 - val_loss: 0.2006 - val_accuracy: 0.9167\n"
     ]
    }
   ],
   "source": [
    "#Apprentissage du même modèle sur les nouvelles données d'apprentissage\n",
    "history = model.fit(X_train, Y_train, epochs=200, batch_size=10,verbose=1, validation_split=0.1)"
   ]
  },
  {
   "cell_type": "code",
   "execution_count": 47,
   "metadata": {},
   "outputs": [
    {
     "data": {
      "image/png": "[encoded data removed]",
      "text/plain": [
       "<Figure size 1080x504 with 2 Axes>"
      ]
     },
     "metadata": {},
     "output_type": "display_data"
    }
   ],
   "source": [
    "plt.figure(figsize=(15,7))\n",
    "ax1 = plt.subplot(1,2,1)\n",
    "ax1.plot(history.history['loss'], color='b', label='Training Loss') \n",
    "ax1.plot(history.history['val_loss'], color='r', label = 'Validation Loss',axes=ax1)\n",
    "legend = ax1.legend(loc='best', shadow=True)\n",
    "ax2 = plt.subplot(1,2,2)\n",
    "ax2.plot(history.history['accuracy'], color='b', label='Training Accuracy') \n",
    "ax2.plot(history.history['val_accuracy'], color='r', label = 'Validation Accuracy')\n",
    "legend = ax2.legend(loc='best', shadow=True)"
   ]
  },
  {
   "cell_type": "code",
   "execution_count": 50,
   "metadata": {},
   "outputs": [
    {
     "name": "stdout",
     "output_type": "stream",
     "text": [
      "1/1 [==============================] - 0s 836us/step - loss: 0.1700 - accuracy: 1.0000\n"
     ]
    }
   ],
   "source": [
    "evaluation = model.evaluate(X_test,Y_test)"
   ]
  },
  {
   "cell_type": "code",
   "execution_count": 51,
   "metadata": {},
   "outputs": [
    {
     "name": "stdout",
     "output_type": "stream",
     "text": [
      "Accuracy: 100.0\n",
      "Loss: 17.0\n"
     ]
    }
   ],
   "source": [
    "print(\"Accuracy: %.1f\" % (evaluation[1]*100))\n",
    "print(\"Loss: %.1f\" % (evaluation[0]*100))"
   ]
  },
  {
   "cell_type": "raw",
   "metadata": {},
   "source": [
    "La loss reste élevée. Je test d'autres fonctions d'activation"
   ]
  },
  {
   "cell_type": "code",
   "execution_count": 52,
   "metadata": {},
   "outputs": [],
   "source": [
    "model = Sequential()\n",
    "model.add(Dense(10,input_shape=(4,),activation='tanh'))\n",
    "model.add(Dense(8,activation='tanh'))\n",
    "model.add(Dense(6,activation='tanh'))\n",
    "model.add(Dense(3,activation='softmax'))"
   ]
  },
  {
   "cell_type": "code",
   "execution_count": 53,
   "metadata": {},
   "outputs": [],
   "source": [
    "model.compile(loss = 'categorical_crossentropy', optimizer = 'adam', metrics = ['accuracy'])"
   ]
  },
  {
   "cell_type": "code",
   "execution_count": 54,
   "metadata": {},
   "outputs": [
    {
     "name": "stdout",
     "output_type": "stream",
     "text": [
      "Epoch 1/200\n",
      "11/11 [==============================] - 0s 10ms/step - loss: 1.1086 - accuracy: 0.3148 - val_loss: 1.0698 - val_accuracy: 0.4167\n",
      "Epoch 2/200\n",
      "11/11 [==============================] - 0s 2ms/step - loss: 1.0694 - accuracy: 0.3796 - val_loss: 1.0548 - val_accuracy: 0.5833\n",
      "Epoch 3/200\n",
      "11/11 [==============================] - 0s 2ms/step - loss: 1.0421 - accuracy: 0.7037 - val_loss: 1.0393 - val_accuracy: 0.5833\n",
      "Epoch 4/200\n",
      "11/11 [==============================] - 0s 2ms/step - loss: 1.0198 - accuracy: 0.7037 - val_loss: 1.0235 - val_accuracy: 0.5833\n",
      "Epoch 5/200\n",
      "11/11 [==============================] - 0s 2ms/step - loss: 0.9924 - accuracy: 0.7037 - val_loss: 0.9979 - val_accuracy: 0.5833\n",
      "Epoch 6/200\n",
      "11/11 [==============================] - 0s 2ms/step - loss: 0.9588 - accuracy: 0.7037 - val_loss: 0.9619 - val_accuracy: 0.5833\n",
      "Epoch 7/200\n",
      "11/11 [==============================] - 0s 3ms/step - loss: 0.9188 - accuracy: 0.7037 - val_loss: 0.9220 - val_accuracy: 0.5833\n",
      "Epoch 8/200\n",
      "11/11 [==============================] - 0s 3ms/step - loss: 0.8757 - accuracy: 0.7037 - val_loss: 0.8689 - val_accuracy: 0.5833\n",
      "Epoch 9/200\n",
      "11/11 [==============================] - 0s 2ms/step - loss: 0.8317 - accuracy: 0.7037 - val_loss: 0.8245 - val_accuracy: 0.5833\n",
      "Epoch 10/200\n",
      "11/11 [==============================] - 0s 3ms/step - loss: 0.7874 - accuracy: 0.7037 - val_loss: 0.7847 - val_accuracy: 0.5833\n",
      "Epoch 11/200\n",
      "11/11 [==============================] - 0s 2ms/step - loss: 0.7477 - accuracy: 0.7037 - val_loss: 0.7420 - val_accuracy: 0.5833\n",
      "Epoch 12/200\n",
      "11/11 [==============================] - 0s 3ms/step - loss: 0.7107 - accuracy: 0.7037 - val_loss: 0.7078 - val_accuracy: 0.5833\n",
      "Epoch 13/200\n",
      "11/11 [==============================] - 0s 3ms/step - loss: 0.6769 - accuracy: 0.7037 - val_loss: 0.6776 - val_accuracy: 0.5833\n",
      "Epoch 14/200\n",
      "11/11 [==============================] - 0s 3ms/step - loss: 0.6482 - accuracy: 0.7130 - val_loss: 0.6424 - val_accuracy: 0.5833\n",
      "Epoch 15/200\n",
      "11/11 [==============================] - 0s 3ms/step - loss: 0.6205 - accuracy: 0.7222 - val_loss: 0.6145 - val_accuracy: 0.5833\n",
      "Epoch 16/200\n",
      "11/11 [==============================] - 0s 3ms/step - loss: 0.5972 - accuracy: 0.7222 - val_loss: 0.5965 - val_accuracy: 0.5833\n",
      "Epoch 17/200\n",
      "11/11 [==============================] - 0s 2ms/step - loss: 0.5776 - accuracy: 0.7315 - val_loss: 0.5648 - val_accuracy: 0.5833\n",
      "Epoch 18/200\n",
      "11/11 [==============================] - 0s 2ms/step - loss: 0.5577 - accuracy: 0.7593 - val_loss: 0.5467 - val_accuracy: 0.5833\n",
      "Epoch 19/200\n",
      "11/11 [==============================] - 0s 2ms/step - loss: 0.5406 - accuracy: 0.7778 - val_loss: 0.5303 - val_accuracy: 0.6667\n",
      "Epoch 20/200\n",
      "11/11 [==============================] - 0s 2ms/step - loss: 0.5241 - accuracy: 0.8056 - val_loss: 0.5151 - val_accuracy: 0.6667\n",
      "Epoch 21/200\n",
      "11/11 [==============================] - 0s 3ms/step - loss: 0.5099 - accuracy: 0.8519 - val_loss: 0.4881 - val_accuracy: 0.7500\n",
      "Epoch 22/200\n",
      "11/11 [==============================] - 0s 3ms/step - loss: 0.4933 - accuracy: 0.8519 - val_loss: 0.4883 - val_accuracy: 0.6667\n",
      "Epoch 23/200\n",
      "11/11 [==============================] - 0s 3ms/step - loss: 0.4791 - accuracy: 0.8426 - val_loss: 0.4677 - val_accuracy: 0.8333\n",
      "Epoch 24/200\n",
      "11/11 [==============================] - 0s 3ms/step - loss: 0.4655 - accuracy: 0.8704 - val_loss: 0.4453 - val_accuracy: 0.8333\n",
      "Epoch 25/200\n",
      "11/11 [==============================] - 0s 3ms/step - loss: 0.4540 - accuracy: 0.8889 - val_loss: 0.4282 - val_accuracy: 0.9167\n",
      "Epoch 26/200\n",
      "11/11 [==============================] - 0s 2ms/step - loss: 0.4392 - accuracy: 0.8981 - val_loss: 0.4377 - val_accuracy: 0.8333\n",
      "Epoch 27/200\n",
      "11/11 [==============================] - 0s 3ms/step - loss: 0.4283 - accuracy: 0.8889 - val_loss: 0.4101 - val_accuracy: 0.9167\n",
      "Epoch 28/200\n",
      "11/11 [==============================] - 0s 3ms/step - loss: 0.4182 - accuracy: 0.8889 - val_loss: 0.4136 - val_accuracy: 0.8333\n",
      "Epoch 29/200\n",
      "11/11 [==============================] - 0s 3ms/step - loss: 0.4021 - accuracy: 0.9074 - val_loss: 0.3846 - val_accuracy: 0.9167\n",
      "Epoch 30/200\n",
      "11/11 [==============================] - 0s 2ms/step - loss: 0.3917 - accuracy: 0.9167 - val_loss: 0.3759 - val_accuracy: 0.9167\n",
      "Epoch 31/200\n",
      "11/11 [==============================] - 0s 3ms/step - loss: 0.3801 - accuracy: 0.9167 - val_loss: 0.3653 - val_accuracy: 0.9167\n",
      "Epoch 32/200\n",
      "11/11 [==============================] - 0s 2ms/step - loss: 0.3739 - accuracy: 0.8981 - val_loss: 0.3620 - val_accuracy: 0.9167\n",
      "Epoch 33/200\n",
      "11/11 [==============================] - 0s 3ms/step - loss: 0.3574 - accuracy: 0.9259 - val_loss: 0.3366 - val_accuracy: 0.9167\n",
      "Epoch 34/200\n",
      "11/11 [==============================] - 0s 2ms/step - loss: 0.3538 - accuracy: 0.9537 - val_loss: 0.3348 - val_accuracy: 0.9167\n",
      "Epoch 35/200\n",
      "11/11 [==============================] - 0s 3ms/step - loss: 0.3416 - accuracy: 0.9167 - val_loss: 0.3490 - val_accuracy: 0.9167\n",
      "Epoch 36/200\n",
      "11/11 [==============================] - 0s 2ms/step - loss: 0.3284 - accuracy: 0.9444 - val_loss: 0.3045 - val_accuracy: 0.9167\n",
      "Epoch 37/200\n",
      "11/11 [==============================] - 0s 2ms/step - loss: 0.3192 - accuracy: 0.9537 - val_loss: 0.3134 - val_accuracy: 0.9167\n",
      "Epoch 38/200\n",
      "11/11 [==============================] - 0s 3ms/step - loss: 0.3106 - accuracy: 0.9167 - val_loss: 0.3167 - val_accuracy: 0.9167\n",
      "Epoch 39/200\n",
      "11/11 [==============================] - 0s 3ms/step - loss: 0.2993 - accuracy: 0.9444 - val_loss: 0.2857 - val_accuracy: 0.9167\n",
      "Epoch 40/200\n",
      "11/11 [==============================] - 0s 2ms/step - loss: 0.3027 - accuracy: 0.9630 - val_loss: 0.2725 - val_accuracy: 0.9167\n",
      "Epoch 41/200\n",
      "11/11 [==============================] - 0s 2ms/step - loss: 0.2952 - accuracy: 0.9259 - val_loss: 0.3262 - val_accuracy: 0.9167\n",
      "Epoch 42/200\n",
      "11/11 [==============================] - 0s 2ms/step - loss: 0.2759 - accuracy: 0.9537 - val_loss: 0.2657 - val_accuracy: 0.9167\n",
      "Epoch 43/200\n",
      "11/11 [==============================] - 0s 3ms/step - loss: 0.2745 - accuracy: 0.9630 - val_loss: 0.2549 - val_accuracy: 0.9167\n",
      "Epoch 44/200\n",
      "11/11 [==============================] - 0s 2ms/step - loss: 0.2633 - accuracy: 0.9537 - val_loss: 0.2881 - val_accuracy: 0.9167\n",
      "Epoch 45/200\n",
      "11/11 [==============================] - 0s 3ms/step - loss: 0.2598 - accuracy: 0.9537 - val_loss: 0.2442 - val_accuracy: 0.9167\n",
      "Epoch 46/200\n",
      "11/11 [==============================] - 0s 2ms/step - loss: 0.2474 - accuracy: 0.9537 - val_loss: 0.2533 - val_accuracy: 0.9167\n",
      "Epoch 47/200\n",
      "11/11 [==============================] - 0s 2ms/step - loss: 0.2491 - accuracy: 0.9444 - val_loss: 0.2647 - val_accuracy: 0.9167\n",
      "Epoch 48/200\n",
      "11/11 [==============================] - 0s 2ms/step - loss: 0.2391 - accuracy: 0.9722 - val_loss: 0.2250 - val_accuracy: 0.9167\n",
      "Epoch 49/200\n",
      "11/11 [==============================] - 0s 3ms/step - loss: 0.2317 - accuracy: 0.9722 - val_loss: 0.2519 - val_accuracy: 0.9167\n",
      "Epoch 50/200\n",
      "11/11 [==============================] - 0s 2ms/step - loss: 0.2258 - accuracy: 0.9537 - val_loss: 0.2415 - val_accuracy: 0.9167\n",
      "Epoch 51/200\n",
      "11/11 [==============================] - 0s 3ms/step - loss: 0.2189 - accuracy: 0.9537 - val_loss: 0.2284 - val_accuracy: 0.9167\n",
      "Epoch 52/200\n",
      "11/11 [==============================] - 0s 3ms/step - loss: 0.2132 - accuracy: 0.9537 - val_loss: 0.2244 - val_accuracy: 0.9167\n",
      "Epoch 53/200\n",
      "11/11 [==============================] - 0s 3ms/step - loss: 0.2099 - accuracy: 0.9537 - val_loss: 0.2279 - val_accuracy: 0.9167\n",
      "Epoch 54/200\n",
      "11/11 [==============================] - 0s 3ms/step - loss: 0.2029 - accuracy: 0.9630 - val_loss: 0.2089 - val_accuracy: 0.9167\n",
      "Epoch 55/200\n",
      "11/11 [==============================] - 0s 2ms/step - loss: 0.1994 - accuracy: 0.9537 - val_loss: 0.2288 - val_accuracy: 0.9167\n",
      "Epoch 56/200\n",
      "11/11 [==============================] - 0s 2ms/step - loss: 0.1994 - accuracy: 0.9537 - val_loss: 0.2192 - val_accuracy: 0.9167\n",
      "Epoch 57/200\n",
      "11/11 [==============================] - 0s 2ms/step - loss: 0.1913 - accuracy: 0.9722 - val_loss: 0.1917 - val_accuracy: 0.9167\n",
      "Epoch 58/200\n",
      "11/11 [==============================] - 0s 2ms/step - loss: 0.1860 - accuracy: 0.9630 - val_loss: 0.2098 - val_accuracy: 0.9167\n"
     ]
    },
    {
     "name": "stdout",
     "output_type": "stream",
     "text": [
      "Epoch 59/200\n",
      "11/11 [==============================] - 0s 2ms/step - loss: 0.1862 - accuracy: 0.9630 - val_loss: 0.2188 - val_accuracy: 0.9167\n",
      "Epoch 60/200\n",
      "11/11 [==============================] - 0s 2ms/step - loss: 0.1836 - accuracy: 0.9630 - val_loss: 0.1820 - val_accuracy: 0.9167\n",
      "Epoch 61/200\n",
      "11/11 [==============================] - 0s 2ms/step - loss: 0.1819 - accuracy: 0.9537 - val_loss: 0.2140 - val_accuracy: 0.9167\n",
      "Epoch 62/200\n",
      "11/11 [==============================] - 0s 2ms/step - loss: 0.1745 - accuracy: 0.9630 - val_loss: 0.1904 - val_accuracy: 0.9167\n",
      "Epoch 63/200\n",
      "11/11 [==============================] - 0s 3ms/step - loss: 0.1697 - accuracy: 0.9722 - val_loss: 0.1879 - val_accuracy: 0.9167\n",
      "Epoch 64/200\n",
      "11/11 [==============================] - 0s 2ms/step - loss: 0.1648 - accuracy: 0.9630 - val_loss: 0.2036 - val_accuracy: 0.9167\n",
      "Epoch 65/200\n",
      "11/11 [==============================] - 0s 2ms/step - loss: 0.1607 - accuracy: 0.9722 - val_loss: 0.1912 - val_accuracy: 0.9167\n",
      "Epoch 66/200\n",
      "11/11 [==============================] - 0s 2ms/step - loss: 0.1639 - accuracy: 0.9630 - val_loss: 0.1820 - val_accuracy: 0.9167\n",
      "Epoch 67/200\n",
      "11/11 [==============================] - 0s 2ms/step - loss: 0.1596 - accuracy: 0.9722 - val_loss: 0.2053 - val_accuracy: 0.9167\n",
      "Epoch 68/200\n",
      "11/11 [==============================] - 0s 2ms/step - loss: 0.1537 - accuracy: 0.9722 - val_loss: 0.1742 - val_accuracy: 0.9167\n",
      "Epoch 69/200\n",
      "11/11 [==============================] - 0s 2ms/step - loss: 0.1536 - accuracy: 0.9722 - val_loss: 0.1752 - val_accuracy: 0.9167\n",
      "Epoch 70/200\n",
      "11/11 [==============================] - 0s 3ms/step - loss: 0.1528 - accuracy: 0.9537 - val_loss: 0.2106 - val_accuracy: 0.9167\n",
      "Epoch 71/200\n",
      "11/11 [==============================] - 0s 2ms/step - loss: 0.1453 - accuracy: 0.9630 - val_loss: 0.1659 - val_accuracy: 0.9167\n",
      "Epoch 72/200\n",
      "11/11 [==============================] - 0s 2ms/step - loss: 0.1450 - accuracy: 0.9630 - val_loss: 0.1770 - val_accuracy: 0.9167\n",
      "Epoch 73/200\n",
      "11/11 [==============================] - 0s 2ms/step - loss: 0.1445 - accuracy: 0.9722 - val_loss: 0.1953 - val_accuracy: 0.9167\n",
      "Epoch 74/200\n",
      "11/11 [==============================] - 0s 2ms/step - loss: 0.1497 - accuracy: 0.9722 - val_loss: 0.1553 - val_accuracy: 0.9167\n",
      "Epoch 75/200\n",
      "11/11 [==============================] - 0s 2ms/step - loss: 0.1347 - accuracy: 0.9722 - val_loss: 0.2040 - val_accuracy: 0.9167\n",
      "Epoch 76/200\n",
      "11/11 [==============================] - 0s 2ms/step - loss: 0.1391 - accuracy: 0.9722 - val_loss: 0.1757 - val_accuracy: 0.9167\n",
      "Epoch 77/200\n",
      "11/11 [==============================] - 0s 2ms/step - loss: 0.1376 - accuracy: 0.9722 - val_loss: 0.1768 - val_accuracy: 0.9167\n",
      "Epoch 78/200\n",
      "11/11 [==============================] - 0s 2ms/step - loss: 0.1334 - accuracy: 0.9722 - val_loss: 0.1993 - val_accuracy: 0.9167\n",
      "Epoch 79/200\n",
      "11/11 [==============================] - 0s 2ms/step - loss: 0.1272 - accuracy: 0.9722 - val_loss: 0.1619 - val_accuracy: 0.9167\n",
      "Epoch 80/200\n",
      "11/11 [==============================] - 0s 2ms/step - loss: 0.1277 - accuracy: 0.9722 - val_loss: 0.1596 - val_accuracy: 0.9167\n",
      "Epoch 81/200\n",
      "11/11 [==============================] - 0s 2ms/step - loss: 0.1265 - accuracy: 0.9722 - val_loss: 0.1686 - val_accuracy: 0.9167\n",
      "Epoch 82/200\n",
      "11/11 [==============================] - 0s 2ms/step - loss: 0.1230 - accuracy: 0.9722 - val_loss: 0.1825 - val_accuracy: 0.9167\n",
      "Epoch 83/200\n",
      "11/11 [==============================] - 0s 2ms/step - loss: 0.1226 - accuracy: 0.9722 - val_loss: 0.1660 - val_accuracy: 0.9167\n",
      "Epoch 84/200\n",
      "11/11 [==============================] - 0s 2ms/step - loss: 0.1202 - accuracy: 0.9815 - val_loss: 0.1594 - val_accuracy: 0.9167\n",
      "Epoch 85/200\n",
      "11/11 [==============================] - 0s 2ms/step - loss: 0.1216 - accuracy: 0.9722 - val_loss: 0.1794 - val_accuracy: 0.9167\n",
      "Epoch 86/200\n",
      "11/11 [==============================] - 0s 2ms/step - loss: 0.1181 - accuracy: 0.9630 - val_loss: 0.1450 - val_accuracy: 0.9167\n",
      "Epoch 87/200\n",
      "11/11 [==============================] - 0s 2ms/step - loss: 0.1156 - accuracy: 0.9815 - val_loss: 0.1703 - val_accuracy: 0.9167\n",
      "Epoch 88/200\n",
      "11/11 [==============================] - 0s 2ms/step - loss: 0.1162 - accuracy: 0.9722 - val_loss: 0.1607 - val_accuracy: 0.9167\n",
      "Epoch 89/200\n",
      "11/11 [==============================] - 0s 2ms/step - loss: 0.1159 - accuracy: 0.9722 - val_loss: 0.1844 - val_accuracy: 0.9167\n",
      "Epoch 90/200\n",
      "11/11 [==============================] - 0s 2ms/step - loss: 0.1102 - accuracy: 0.9722 - val_loss: 0.1557 - val_accuracy: 0.9167\n",
      "Epoch 91/200\n",
      "11/11 [==============================] - 0s 2ms/step - loss: 0.1128 - accuracy: 0.9815 - val_loss: 0.1507 - val_accuracy: 0.9167\n",
      "Epoch 92/200\n",
      "11/11 [==============================] - 0s 2ms/step - loss: 0.1085 - accuracy: 0.9815 - val_loss: 0.1504 - val_accuracy: 0.9167\n",
      "Epoch 93/200\n",
      "11/11 [==============================] - 0s 2ms/step - loss: 0.1070 - accuracy: 0.9722 - val_loss: 0.1670 - val_accuracy: 0.9167\n",
      "Epoch 94/200\n",
      "11/11 [==============================] - 0s 2ms/step - loss: 0.1062 - accuracy: 0.9722 - val_loss: 0.1527 - val_accuracy: 0.9167\n",
      "Epoch 95/200\n",
      "11/11 [==============================] - 0s 2ms/step - loss: 0.1059 - accuracy: 0.9722 - val_loss: 0.1411 - val_accuracy: 0.9167\n",
      "Epoch 96/200\n",
      "11/11 [==============================] - 0s 2ms/step - loss: 0.1044 - accuracy: 0.9722 - val_loss: 0.1504 - val_accuracy: 0.9167\n",
      "Epoch 97/200\n",
      "11/11 [==============================] - 0s 2ms/step - loss: 0.1030 - accuracy: 0.9722 - val_loss: 0.1669 - val_accuracy: 0.9167\n",
      "Epoch 98/200\n",
      "11/11 [==============================] - 0s 2ms/step - loss: 0.1020 - accuracy: 0.9722 - val_loss: 0.1411 - val_accuracy: 0.9167\n",
      "Epoch 99/200\n",
      "11/11 [==============================] - 0s 2ms/step - loss: 0.1017 - accuracy: 0.9815 - val_loss: 0.1427 - val_accuracy: 0.9167\n",
      "Epoch 100/200\n",
      "11/11 [==============================] - 0s 2ms/step - loss: 0.0990 - accuracy: 0.9815 - val_loss: 0.1680 - val_accuracy: 0.9167\n",
      "Epoch 101/200\n",
      "11/11 [==============================] - 0s 2ms/step - loss: 0.1007 - accuracy: 0.9722 - val_loss: 0.1564 - val_accuracy: 0.9167\n",
      "Epoch 102/200\n",
      "11/11 [==============================] - 0s 2ms/step - loss: 0.1149 - accuracy: 0.9722 - val_loss: 0.1413 - val_accuracy: 0.9167\n",
      "Epoch 103/200\n",
      "11/11 [==============================] - 0s 2ms/step - loss: 0.0985 - accuracy: 0.9722 - val_loss: 0.1796 - val_accuracy: 0.9167\n",
      "Epoch 104/200\n",
      "11/11 [==============================] - 0s 2ms/step - loss: 0.0970 - accuracy: 0.9722 - val_loss: 0.1551 - val_accuracy: 0.9167\n",
      "Epoch 105/200\n",
      "11/11 [==============================] - 0s 2ms/step - loss: 0.1004 - accuracy: 0.9722 - val_loss: 0.1171 - val_accuracy: 0.9167\n",
      "Epoch 106/200\n",
      "11/11 [==============================] - 0s 2ms/step - loss: 0.0959 - accuracy: 0.9722 - val_loss: 0.1698 - val_accuracy: 0.9167\n",
      "Epoch 107/200\n",
      "11/11 [==============================] - 0s 2ms/step - loss: 0.1013 - accuracy: 0.9722 - val_loss: 0.1359 - val_accuracy: 0.9167\n",
      "Epoch 108/200\n",
      "11/11 [==============================] - 0s 2ms/step - loss: 0.0921 - accuracy: 0.9722 - val_loss: 0.1590 - val_accuracy: 0.9167\n",
      "Epoch 109/200\n",
      "11/11 [==============================] - 0s 2ms/step - loss: 0.0924 - accuracy: 0.9722 - val_loss: 0.1492 - val_accuracy: 0.9167\n",
      "Epoch 110/200\n",
      "11/11 [==============================] - 0s 2ms/step - loss: 0.0934 - accuracy: 0.9722 - val_loss: 0.1368 - val_accuracy: 0.9167\n",
      "Epoch 111/200\n",
      "11/11 [==============================] - 0s 2ms/step - loss: 0.0917 - accuracy: 0.9722 - val_loss: 0.1631 - val_accuracy: 0.9167\n",
      "Epoch 112/200\n",
      "11/11 [==============================] - 0s 2ms/step - loss: 0.0880 - accuracy: 0.9722 - val_loss: 0.1289 - val_accuracy: 0.9167\n",
      "Epoch 113/200\n",
      "11/11 [==============================] - 0s 2ms/step - loss: 0.0926 - accuracy: 0.9722 - val_loss: 0.1239 - val_accuracy: 0.9167\n",
      "Epoch 114/200\n",
      "11/11 [==============================] - 0s 2ms/step - loss: 0.0898 - accuracy: 0.9722 - val_loss: 0.1401 - val_accuracy: 0.9167\n",
      "Epoch 115/200\n",
      "11/11 [==============================] - 0s 2ms/step - loss: 0.0873 - accuracy: 0.9815 - val_loss: 0.1387 - val_accuracy: 0.9167\n",
      "Epoch 116/200\n"
     ]
    },
    {
     "name": "stdout",
     "output_type": "stream",
     "text": [
      "11/11 [==============================] - 0s 2ms/step - loss: 0.0865 - accuracy: 0.9815 - val_loss: 0.1401 - val_accuracy: 0.9167\n",
      "Epoch 117/200\n",
      "11/11 [==============================] - 0s 2ms/step - loss: 0.0855 - accuracy: 0.9907 - val_loss: 0.1326 - val_accuracy: 0.9167\n",
      "Epoch 118/200\n",
      "11/11 [==============================] - 0s 2ms/step - loss: 0.0847 - accuracy: 0.9815 - val_loss: 0.1445 - val_accuracy: 0.9167\n",
      "Epoch 119/200\n",
      "11/11 [==============================] - 0s 2ms/step - loss: 0.0848 - accuracy: 0.9815 - val_loss: 0.1356 - val_accuracy: 0.9167\n",
      "Epoch 120/200\n",
      "11/11 [==============================] - 0s 2ms/step - loss: 0.0844 - accuracy: 0.9907 - val_loss: 0.1320 - val_accuracy: 0.9167\n",
      "Epoch 121/200\n",
      "11/11 [==============================] - 0s 2ms/step - loss: 0.0858 - accuracy: 0.9722 - val_loss: 0.1614 - val_accuracy: 0.9167\n",
      "Epoch 122/200\n",
      "11/11 [==============================] - 0s 2ms/step - loss: 0.1026 - accuracy: 0.9630 - val_loss: 0.1284 - val_accuracy: 0.9167\n",
      "Epoch 123/200\n",
      "11/11 [==============================] - 0s 2ms/step - loss: 0.0822 - accuracy: 0.9815 - val_loss: 0.1591 - val_accuracy: 0.9167\n",
      "Epoch 124/200\n",
      "11/11 [==============================] - 0s 2ms/step - loss: 0.0899 - accuracy: 0.9722 - val_loss: 0.1574 - val_accuracy: 0.9167\n",
      "Epoch 125/200\n",
      "11/11 [==============================] - 0s 2ms/step - loss: 0.0791 - accuracy: 0.9815 - val_loss: 0.0900 - val_accuracy: 0.9167\n",
      "Epoch 126/200\n",
      "11/11 [==============================] - 0s 2ms/step - loss: 0.0869 - accuracy: 0.9907 - val_loss: 0.1498 - val_accuracy: 0.9167\n",
      "Epoch 127/200\n",
      "11/11 [==============================] - 0s 2ms/step - loss: 0.0808 - accuracy: 0.9722 - val_loss: 0.1393 - val_accuracy: 0.9167\n",
      "Epoch 128/200\n",
      "11/11 [==============================] - 0s 2ms/step - loss: 0.0800 - accuracy: 0.9722 - val_loss: 0.1341 - val_accuracy: 0.9167\n",
      "Epoch 129/200\n",
      "11/11 [==============================] - 0s 2ms/step - loss: 0.0824 - accuracy: 0.9907 - val_loss: 0.1312 - val_accuracy: 0.9167\n",
      "Epoch 130/200\n",
      "11/11 [==============================] - 0s 2ms/step - loss: 0.0817 - accuracy: 0.9722 - val_loss: 0.1404 - val_accuracy: 0.9167\n",
      "Epoch 131/200\n",
      "11/11 [==============================] - 0s 2ms/step - loss: 0.0783 - accuracy: 0.9907 - val_loss: 0.1012 - val_accuracy: 0.9167\n",
      "Epoch 132/200\n",
      "11/11 [==============================] - 0s 2ms/step - loss: 0.0784 - accuracy: 0.9907 - val_loss: 0.1370 - val_accuracy: 0.9167\n",
      "Epoch 133/200\n",
      "11/11 [==============================] - 0s 2ms/step - loss: 0.0787 - accuracy: 0.9722 - val_loss: 0.1506 - val_accuracy: 0.9167\n",
      "Epoch 134/200\n",
      "11/11 [==============================] - 0s 2ms/step - loss: 0.0785 - accuracy: 0.9815 - val_loss: 0.1073 - val_accuracy: 0.9167\n",
      "Epoch 135/200\n",
      "11/11 [==============================] - 0s 2ms/step - loss: 0.0790 - accuracy: 0.9907 - val_loss: 0.1469 - val_accuracy: 0.9167\n",
      "Epoch 136/200\n",
      "11/11 [==============================] - 0s 2ms/step - loss: 0.0780 - accuracy: 0.9722 - val_loss: 0.1296 - val_accuracy: 0.9167\n",
      "Epoch 137/200\n",
      "11/11 [==============================] - 0s 2ms/step - loss: 0.0755 - accuracy: 0.9907 - val_loss: 0.1211 - val_accuracy: 0.9167\n",
      "Epoch 138/200\n",
      "11/11 [==============================] - 0s 2ms/step - loss: 0.0774 - accuracy: 0.9907 - val_loss: 0.1331 - val_accuracy: 0.9167\n",
      "Epoch 139/200\n",
      "11/11 [==============================] - 0s 2ms/step - loss: 0.0757 - accuracy: 0.9907 - val_loss: 0.1571 - val_accuracy: 0.9167\n",
      "Epoch 140/200\n",
      "11/11 [==============================] - 0s 2ms/step - loss: 0.0799 - accuracy: 0.9722 - val_loss: 0.1461 - val_accuracy: 0.9167\n",
      "Epoch 141/200\n",
      "11/11 [==============================] - 0s 2ms/step - loss: 0.0816 - accuracy: 0.9907 - val_loss: 0.1135 - val_accuracy: 0.9167\n",
      "Epoch 142/200\n",
      "11/11 [==============================] - 0s 2ms/step - loss: 0.0735 - accuracy: 0.9907 - val_loss: 0.1514 - val_accuracy: 0.9167\n",
      "Epoch 143/200\n",
      "11/11 [==============================] - 0s 2ms/step - loss: 0.0814 - accuracy: 0.9907 - val_loss: 0.1242 - val_accuracy: 0.9167\n",
      "Epoch 144/200\n",
      "11/11 [==============================] - 0s 2ms/step - loss: 0.0714 - accuracy: 0.9907 - val_loss: 0.1675 - val_accuracy: 0.9167\n",
      "Epoch 145/200\n",
      "11/11 [==============================] - 0s 2ms/step - loss: 0.0755 - accuracy: 0.9722 - val_loss: 0.1278 - val_accuracy: 0.9167\n",
      "Epoch 146/200\n",
      "11/11 [==============================] - 0s 2ms/step - loss: 0.0723 - accuracy: 0.9907 - val_loss: 0.1120 - val_accuracy: 0.9167\n",
      "Epoch 147/200\n",
      "11/11 [==============================] - 0s 2ms/step - loss: 0.0746 - accuracy: 0.9907 - val_loss: 0.1163 - val_accuracy: 0.9167\n",
      "Epoch 148/200\n",
      "11/11 [==============================] - 0s 2ms/step - loss: 0.0703 - accuracy: 0.9907 - val_loss: 0.1634 - val_accuracy: 0.9167\n",
      "Epoch 149/200\n",
      "11/11 [==============================] - 0s 2ms/step - loss: 0.0760 - accuracy: 0.9722 - val_loss: 0.1507 - val_accuracy: 0.9167\n",
      "Epoch 150/200\n",
      "11/11 [==============================] - 0s 2ms/step - loss: 0.0722 - accuracy: 0.9907 - val_loss: 0.0986 - val_accuracy: 0.9167\n",
      "Epoch 151/200\n",
      "11/11 [==============================] - 0s 2ms/step - loss: 0.0706 - accuracy: 0.9907 - val_loss: 0.1328 - val_accuracy: 0.9167\n",
      "Epoch 152/200\n",
      "11/11 [==============================] - 0s 2ms/step - loss: 0.0693 - accuracy: 0.9907 - val_loss: 0.1451 - val_accuracy: 0.9167\n",
      "Epoch 153/200\n",
      "11/11 [==============================] - 0s 2ms/step - loss: 0.0731 - accuracy: 0.9815 - val_loss: 0.1205 - val_accuracy: 0.9167\n",
      "Epoch 154/200\n",
      "11/11 [==============================] - 0s 2ms/step - loss: 0.0737 - accuracy: 0.9907 - val_loss: 0.1126 - val_accuracy: 0.9167\n",
      "Epoch 155/200\n",
      "11/11 [==============================] - 0s 2ms/step - loss: 0.0689 - accuracy: 0.9907 - val_loss: 0.1724 - val_accuracy: 0.9167\n",
      "Epoch 156/200\n",
      "11/11 [==============================] - 0s 2ms/step - loss: 0.0725 - accuracy: 0.9815 - val_loss: 0.1410 - val_accuracy: 0.9167\n",
      "Epoch 157/200\n",
      "11/11 [==============================] - 0s 2ms/step - loss: 0.0678 - accuracy: 0.9907 - val_loss: 0.1171 - val_accuracy: 0.9167\n",
      "Epoch 158/200\n",
      "11/11 [==============================] - 0s 2ms/step - loss: 0.0697 - accuracy: 0.9907 - val_loss: 0.1216 - val_accuracy: 0.9167\n",
      "Epoch 159/200\n",
      "11/11 [==============================] - 0s 2ms/step - loss: 0.0682 - accuracy: 0.9907 - val_loss: 0.1176 - val_accuracy: 0.9167\n",
      "Epoch 160/200\n",
      "11/11 [==============================] - 0s 2ms/step - loss: 0.0679 - accuracy: 0.9907 - val_loss: 0.1268 - val_accuracy: 0.9167\n",
      "Epoch 161/200\n",
      "11/11 [==============================] - 0s 2ms/step - loss: 0.0679 - accuracy: 0.9907 - val_loss: 0.1363 - val_accuracy: 0.9167\n",
      "Epoch 162/200\n",
      "11/11 [==============================] - 0s 2ms/step - loss: 0.0717 - accuracy: 0.9907 - val_loss: 0.1287 - val_accuracy: 0.9167\n",
      "Epoch 163/200\n",
      "11/11 [==============================] - 0s 2ms/step - loss: 0.0682 - accuracy: 0.9815 - val_loss: 0.1340 - val_accuracy: 0.9167\n",
      "Epoch 164/200\n",
      "11/11 [==============================] - 0s 2ms/step - loss: 0.0676 - accuracy: 0.9907 - val_loss: 0.1155 - val_accuracy: 0.9167\n",
      "Epoch 165/200\n",
      "11/11 [==============================] - 0s 2ms/step - loss: 0.0679 - accuracy: 0.9907 - val_loss: 0.1344 - val_accuracy: 0.9167\n",
      "Epoch 166/200\n",
      "11/11 [==============================] - 0s 2ms/step - loss: 0.0676 - accuracy: 0.9815 - val_loss: 0.1235 - val_accuracy: 0.9167\n",
      "Epoch 167/200\n",
      "11/11 [==============================] - 0s 2ms/step - loss: 0.0669 - accuracy: 0.9907 - val_loss: 0.1231 - val_accuracy: 0.9167\n",
      "Epoch 168/200\n",
      "11/11 [==============================] - 0s 2ms/step - loss: 0.0655 - accuracy: 0.9907 - val_loss: 0.1338 - val_accuracy: 0.9167\n",
      "Epoch 169/200\n",
      "11/11 [==============================] - 0s 2ms/step - loss: 0.0684 - accuracy: 0.9907 - val_loss: 0.1298 - val_accuracy: 0.9167\n",
      "Epoch 170/200\n",
      "11/11 [==============================] - 0s 2ms/step - loss: 0.0663 - accuracy: 0.9815 - val_loss: 0.1371 - val_accuracy: 0.9167\n",
      "Epoch 171/200\n",
      "11/11 [==============================] - 0s 2ms/step - loss: 0.0655 - accuracy: 0.9907 - val_loss: 0.1390 - val_accuracy: 0.9167\n",
      "Epoch 172/200\n",
      "11/11 [==============================] - 0s 2ms/step - loss: 0.0669 - accuracy: 0.9907 - val_loss: 0.1463 - val_accuracy: 0.9167\n",
      "Epoch 173/200\n"
     ]
    },
    {
     "name": "stdout",
     "output_type": "stream",
     "text": [
      "11/11 [==============================] - 0s 2ms/step - loss: 0.0668 - accuracy: 0.9907 - val_loss: 0.1249 - val_accuracy: 0.9167\n",
      "Epoch 174/200\n",
      "11/11 [==============================] - 0s 2ms/step - loss: 0.0656 - accuracy: 0.9907 - val_loss: 0.1307 - val_accuracy: 0.9167\n",
      "Epoch 175/200\n",
      "11/11 [==============================] - 0s 2ms/step - loss: 0.0667 - accuracy: 0.9907 - val_loss: 0.1260 - val_accuracy: 0.9167\n",
      "Epoch 176/200\n",
      "11/11 [==============================] - 0s 2ms/step - loss: 0.0658 - accuracy: 0.9907 - val_loss: 0.1427 - val_accuracy: 0.9167\n",
      "Epoch 177/200\n",
      "11/11 [==============================] - 0s 2ms/step - loss: 0.0689 - accuracy: 0.9815 - val_loss: 0.1529 - val_accuracy: 0.9167\n",
      "Epoch 178/200\n",
      "11/11 [==============================] - 0s 2ms/step - loss: 0.0621 - accuracy: 0.9907 - val_loss: 0.0964 - val_accuracy: 0.9167\n",
      "Epoch 179/200\n",
      "11/11 [==============================] - 0s 2ms/step - loss: 0.0674 - accuracy: 0.9815 - val_loss: 0.1472 - val_accuracy: 0.9167\n",
      "Epoch 180/200\n",
      "11/11 [==============================] - 0s 2ms/step - loss: 0.0758 - accuracy: 0.9722 - val_loss: 0.1701 - val_accuracy: 0.9167\n",
      "Epoch 181/200\n",
      "11/11 [==============================] - 0s 2ms/step - loss: 0.0656 - accuracy: 0.9907 - val_loss: 0.1149 - val_accuracy: 0.9167\n",
      "Epoch 182/200\n",
      "11/11 [==============================] - 0s 2ms/step - loss: 0.0650 - accuracy: 0.9815 - val_loss: 0.1128 - val_accuracy: 0.9167\n",
      "Epoch 183/200\n",
      "11/11 [==============================] - 0s 2ms/step - loss: 0.0677 - accuracy: 0.9815 - val_loss: 0.1453 - val_accuracy: 0.9167\n",
      "Epoch 184/200\n",
      "11/11 [==============================] - 0s 2ms/step - loss: 0.0702 - accuracy: 0.9722 - val_loss: 0.1500 - val_accuracy: 0.9167\n",
      "Epoch 185/200\n",
      "11/11 [==============================] - 0s 2ms/step - loss: 0.0634 - accuracy: 0.9907 - val_loss: 0.1276 - val_accuracy: 0.9167\n",
      "Epoch 186/200\n",
      "11/11 [==============================] - 0s 2ms/step - loss: 0.0652 - accuracy: 0.9907 - val_loss: 0.1540 - val_accuracy: 0.9167\n",
      "Epoch 187/200\n",
      "11/11 [==============================] - 0s 2ms/step - loss: 0.0635 - accuracy: 0.9907 - val_loss: 0.1123 - val_accuracy: 0.9167\n",
      "Epoch 188/200\n",
      "11/11 [==============================] - 0s 2ms/step - loss: 0.0682 - accuracy: 0.9815 - val_loss: 0.1609 - val_accuracy: 0.9167\n",
      "Epoch 189/200\n",
      "11/11 [==============================] - 0s 3ms/step - loss: 0.0644 - accuracy: 0.9815 - val_loss: 0.1542 - val_accuracy: 0.9167\n",
      "Epoch 190/200\n",
      "11/11 [==============================] - 0s 2ms/step - loss: 0.0671 - accuracy: 0.9815 - val_loss: 0.1476 - val_accuracy: 0.9167\n",
      "Epoch 191/200\n",
      "11/11 [==============================] - 0s 2ms/step - loss: 0.0652 - accuracy: 0.9815 - val_loss: 0.1067 - val_accuracy: 0.9167\n",
      "Epoch 192/200\n",
      "11/11 [==============================] - 0s 2ms/step - loss: 0.0624 - accuracy: 0.9907 - val_loss: 0.1247 - val_accuracy: 0.9167\n",
      "Epoch 193/200\n",
      "11/11 [==============================] - 0s 2ms/step - loss: 0.0637 - accuracy: 0.9815 - val_loss: 0.1457 - val_accuracy: 0.9167\n",
      "Epoch 194/200\n",
      "11/11 [==============================] - 0s 2ms/step - loss: 0.0663 - accuracy: 0.9815 - val_loss: 0.1381 - val_accuracy: 0.9167\n",
      "Epoch 195/200\n",
      "11/11 [==============================] - 0s 2ms/step - loss: 0.0642 - accuracy: 0.9815 - val_loss: 0.0981 - val_accuracy: 0.9167\n",
      "Epoch 196/200\n",
      "11/11 [==============================] - 0s 2ms/step - loss: 0.0627 - accuracy: 0.9907 - val_loss: 0.1545 - val_accuracy: 0.9167\n",
      "Epoch 197/200\n",
      "11/11 [==============================] - 0s 2ms/step - loss: 0.0621 - accuracy: 0.9907 - val_loss: 0.1231 - val_accuracy: 0.9167\n",
      "Epoch 198/200\n",
      "11/11 [==============================] - 0s 2ms/step - loss: 0.0675 - accuracy: 0.9815 - val_loss: 0.1233 - val_accuracy: 0.9167\n",
      "Epoch 199/200\n",
      "11/11 [==============================] - 0s 2ms/step - loss: 0.0738 - accuracy: 0.9722 - val_loss: 0.2070 - val_accuracy: 0.9167\n",
      "Epoch 200/200\n",
      "11/11 [==============================] - 0s 2ms/step - loss: 0.0739 - accuracy: 0.9815 - val_loss: 0.0939 - val_accuracy: 0.9167\n"
     ]
    }
   ],
   "source": [
    "history = model.fit(X_train, Y_train, epochs=200, batch_size=10,verbose=1, validation_split=0.1)"
   ]
  },
  {
   "cell_type": "code",
   "execution_count": 55,
   "metadata": {},
   "outputs": [
    {
     "data": {
      "image/png": "[encoded data removed]",
      "text/plain": [
       "<Figure size 1080x504 with 2 Axes>"
      ]
     },
     "metadata": {},
     "output_type": "display_data"
    }
   ],
   "source": [
    "plt.figure(figsize=(15,7))\n",
    "ax1 = plt.subplot(1,2,1)\n",
    "ax1.plot(history.history['loss'], color='b', label='Training Loss') \n",
    "ax1.plot(history.history['val_loss'], color='r', label = 'Validation Loss',axes=ax1)\n",
    "legend = ax1.legend(loc='best', shadow=True)\n",
    "ax2 = plt.subplot(1,2,2)\n",
    "ax2.plot(history.history['accuracy'], color='b', label='Training Accuracy') \n",
    "ax2.plot(history.history['val_accuracy'], color='r', label = 'Validation Accuracy')\n",
    "legend = ax2.legend(loc='best', shadow=True)"
   ]
  },
  {
   "cell_type": "code",
   "execution_count": 56,
   "metadata": {},
   "outputs": [
    {
     "name": "stdout",
     "output_type": "stream",
     "text": [
      "1/1 [==============================] - 0s 954us/step - loss: 0.0284 - accuracy: 1.0000\n"
     ]
    }
   ],
   "source": [
    "#Evaluation\n",
    "evaluation = model.evaluate(X_test,Y_test)"
   ]
  },
  {
   "cell_type": "code",
   "execution_count": 57,
   "metadata": {},
   "outputs": [
    {
     "name": "stdout",
     "output_type": "stream",
     "text": [
      "Accuracy: 100.0\n",
      "Loss: 2.8\n"
     ]
    }
   ],
   "source": [
    "print(\"Accuracy: %.1f\" % (evaluation[1]*100))\n",
    "print(\"Loss: %.1f\" % (evaluation[0]*100))"
   ]
  },
  {
   "cell_type": "raw",
   "metadata": {},
   "source": [
    "En choisissant la fonction d'activation tanh (tangente hyperbolique) je diminue la Loss"
   ]
  },
  {
   "cell_type": "code",
   "execution_count": 58,
   "metadata": {},
   "outputs": [
    {
     "name": "stdout",
     "output_type": "stream",
     "text": [
      "[9.9240667e-01 7.4545857e-03 1.3874244e-04]\n",
      "[9.9217647e-01 7.6832050e-03 1.4027803e-04]\n",
      "[9.9224722e-01 7.6129651e-03 1.3975403e-04]\n",
      "[9.9181831e-01 8.0392007e-03 1.4250127e-04]\n",
      "[9.9236298e-01 7.4980636e-03 1.3896688e-04]\n",
      "[9.9217743e-01 7.6824944e-03 1.4003356e-04]\n",
      "[9.9198604e-01 7.8726280e-03 1.4130730e-04]\n",
      "[9.9222904e-01 7.6311505e-03 1.3981425e-04]\n",
      "[9.9172908e-01 8.1277387e-03 1.4319533e-04]\n",
      "[9.9216121e-01 7.6984568e-03 1.4029381e-04]\n",
      "[9.9247509e-01 7.3865559e-03 1.3831774e-04]\n",
      "[9.919071e-01 7.951077e-03 1.417897e-04]\n",
      "[9.9219745e-01 7.6624691e-03 1.4010064e-04]\n",
      "[9.9226624e-01 7.5940546e-03 1.3965039e-04]\n",
      "[9.9276477e-01 7.0985770e-03 1.3671712e-04]\n",
      "[9.9253196e-01 7.3301257e-03 1.3791982e-04]\n",
      "[9.9256027e-01 7.3018647e-03 1.3784012e-04]\n",
      "[9.9235630e-01 7.5045945e-03 1.3905967e-04]\n",
      "[9.9240440e-01 7.4568125e-03 1.3872678e-04]\n",
      "[9.9227035e-01 7.5901835e-03 1.3947675e-04]\n"
     ]
    }
   ],
   "source": [
    "#Prediction\n",
    "Y_pred = model.predict(X)\n",
    "for i in range(20):\n",
    "    print(Y_pred[i])"
   ]
  },
  {
   "cell_type": "code",
   "execution_count": 59,
   "metadata": {},
   "outputs": [],
   "source": [
    "#Table de confusion\n",
    "from sklearn.metrics import classification_report,confusion_matrix"
   ]
  },
  {
   "cell_type": "code",
   "execution_count": 60,
   "metadata": {},
   "outputs": [],
   "source": [
    "Y_test_class = np.argmax(Y_onehot,axis=1)\n",
    "Y_pred_class = np.argmax(Y_pred,axis=1)"
   ]
  },
  {
   "cell_type": "code",
   "execution_count": 61,
   "metadata": {},
   "outputs": [
    {
     "data": {
      "text/plain": [
       "array([0, 0, 0, 0, 0, 0, 0, 0, 0, 0, 0, 0, 0, 0, 0, 0, 0, 0, 0, 0, 0, 0,\n",
       "       0, 0, 0, 0, 0, 0, 0, 0, 0, 0, 0, 0, 0, 0, 0, 0, 0, 0, 0, 0, 0, 0,\n",
       "       0, 0, 0, 0, 0, 0, 1, 1, 1, 1, 1, 1, 1, 1, 1, 1, 1, 1, 1, 1, 1, 1,\n",
       "       1, 1, 1, 1, 1, 1, 1, 1, 1, 1, 1, 1, 1, 1, 1, 1, 1, 1, 1, 1, 1, 1,\n",
       "       1, 1, 1, 1, 1, 1, 1, 1, 1, 1, 1, 1, 2, 2, 2, 2, 2, 2, 2, 2, 2, 2,\n",
       "       2, 2, 2, 2, 2, 2, 2, 2, 2, 2, 2, 2, 2, 2, 2, 2, 2, 2, 2, 2, 2, 2,\n",
       "       2, 2, 2, 2, 2, 2, 2, 2, 2, 2, 2, 2, 2, 2, 2, 2, 2, 2])"
      ]
     },
     "execution_count": 61,
     "metadata": {},
     "output_type": "execute_result"
    }
   ],
   "source": [
    "Y_test_class"
   ]
  },
  {
   "cell_type": "code",
   "execution_count": 62,
   "metadata": {},
   "outputs": [
    {
     "data": {
      "text/plain": [
       "array([0, 0, 0, 0, 0, 0, 0, 0, 0, 0, 0, 0, 0, 0, 0, 0, 0, 0, 0, 0, 0, 0,\n",
       "       0, 0, 0, 0, 0, 0, 0, 0, 0, 0, 0, 0, 0, 0, 0, 0, 0, 0, 0, 0, 0, 0,\n",
       "       0, 0, 0, 0, 0, 0, 1, 1, 1, 1, 1, 1, 1, 1, 1, 1, 1, 1, 1, 1, 1, 1,\n",
       "       1, 1, 1, 1, 2, 1, 1, 1, 1, 1, 1, 1, 1, 1, 1, 1, 1, 2, 1, 1, 1, 1,\n",
       "       1, 1, 1, 1, 1, 1, 1, 1, 1, 1, 1, 1, 2, 2, 2, 2, 2, 2, 2, 2, 2, 2,\n",
       "       2, 2, 2, 2, 2, 2, 2, 2, 2, 2, 2, 2, 2, 2, 2, 2, 2, 2, 2, 2, 2, 2,\n",
       "       2, 1, 2, 2, 2, 2, 2, 2, 2, 2, 2, 2, 2, 2, 2, 2, 2, 2])"
      ]
     },
     "execution_count": 62,
     "metadata": {},
     "output_type": "execute_result"
    }
   ],
   "source": [
    "Y_pred_class"
   ]
  },
  {
   "cell_type": "code",
   "execution_count": 63,
   "metadata": {},
   "outputs": [
    {
     "name": "stdout",
     "output_type": "stream",
     "text": [
      "              precision    recall  f1-score   support\n",
      "\n",
      "           0       1.00      1.00      1.00        50\n",
      "           1       0.98      0.96      0.97        50\n",
      "           2       0.96      0.98      0.97        50\n",
      "\n",
      "    accuracy                           0.98       150\n",
      "   macro avg       0.98      0.98      0.98       150\n",
      "weighted avg       0.98      0.98      0.98       150\n",
      "\n"
     ]
    }
   ],
   "source": [
    "print(classification_report(Y_test_class,Y_pred_class))"
   ]
  },
  {
   "cell_type": "code",
   "execution_count": 64,
   "metadata": {},
   "outputs": [
    {
     "name": "stdout",
     "output_type": "stream",
     "text": [
      "[[50  0  0]\n",
      " [ 0 48  2]\n",
      " [ 0  1 49]]\n"
     ]
    }
   ],
   "source": [
    "print(confusion_matrix(Y_test_class,Y_pred_class))"
   ]
  },
  {
   "cell_type": "raw",
   "metadata": {},
   "source": [
    "Le model est performant même si 2 iris de la 2ème catégorie ont été classée dans la 3ème. Rapellons que les représentations graphiques ont montré que les classes 2 et 3 sont plus difficiles à différentier. "
   ]
  }
 ],
 "metadata": {
  "kernelspec": {
   "display_name": "Python 3",
   "language": "python",
   "name": "python3"
  },
  "language_info": {
   "codemirror_mode": {
    "name": "ipython",
    "version": 3
   },
   "file_extension": ".py",
   "mimetype": "text/x-python",
   "name": "python",
   "nbconvert_exporter": "python",
   "pygments_lexer": "ipython3",
   "version": "3.7.4"
  }
 },
 "nbformat": 4,
 "nbformat_minor": 2
}
